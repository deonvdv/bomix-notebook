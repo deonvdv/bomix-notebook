{
  "nbformat": 4,
  "nbformat_minor": 0,
  "metadata": {
    "colab": {
      "provenance": []
    },
    "kernelspec": {
      "name": "python3",
      "display_name": "Python 3"
    },
    "language_info": {
      "name": "python"
    },
    "widgets": {
      "application/vnd.jupyter.widget-state+json": {
        "aaf6622e33624f5d870b3bd852641a5c": {
          "model_module": "yfiles-jupyter-graphs",
          "model_name": "GraphModel",
          "model_module_version": "^1.4.5",
          "state": {
            "_context_pane_mapping": [
              {
                "id": "Neighborhood",
                "title": "Neighborhood"
              },
              {
                "id": "Data",
                "title": "Data"
              },
              {
                "id": "Search",
                "title": "Search"
              },
              {
                "id": "About",
                "title": "About"
              }
            ],
            "_data_importer": "neo4j",
            "_directed": false,
            "_dom_classes": [],
            "_edges": [
              {
                "id": 200,
                "start": 0,
                "end": 1,
                "properties": {
                  "label": "EXPLICIT"
                },
                "label": "EXPLICIT",
                "color": "blue",
                "thickness_factor": 1,
                "directed": false
              },
              {
                "id": 201,
                "start": 1,
                "end": 2,
                "properties": {
                  "label": "EXPLICIT"
                },
                "label": "EXPLICIT",
                "color": "blue",
                "thickness_factor": 1,
                "directed": false
              },
              {
                "id": 202,
                "start": 1,
                "end": 3,
                "properties": {
                  "label": "EXPLICIT"
                },
                "label": "EXPLICIT",
                "color": "blue",
                "thickness_factor": 1,
                "directed": false
              },
              {
                "id": 203,
                "start": 5,
                "end": 4,
                "properties": {
                  "label": "EXPLICIT"
                },
                "label": "EXPLICIT",
                "color": "blue",
                "thickness_factor": 1,
                "directed": false
              },
              {
                "id": 204,
                "start": 3,
                "end": 5,
                "properties": {
                  "label": "EXPLICIT"
                },
                "label": "EXPLICIT",
                "color": "blue",
                "thickness_factor": 1,
                "directed": false
              },
              {
                "id": 205,
                "start": 3,
                "end": 6,
                "properties": {
                  "label": "EXPLICIT"
                },
                "label": "EXPLICIT",
                "color": "blue",
                "thickness_factor": 1,
                "directed": false
              },
              {
                "id": 206,
                "start": 3,
                "end": 7,
                "properties": {
                  "label": "EXPLICIT"
                },
                "label": "EXPLICIT",
                "color": "blue",
                "thickness_factor": 1,
                "directed": false
              },
              {
                "id": 207,
                "start": 7,
                "end": 8,
                "properties": {
                  "label": "EXPLICIT"
                },
                "label": "EXPLICIT",
                "color": "blue",
                "thickness_factor": 1,
                "directed": false
              }
            ],
            "_graph_layout": {
              "algorithm": "hierarchic",
              "options": {}
            },
            "_highlight": [],
            "_model_module": "yfiles-jupyter-graphs",
            "_model_module_version": "^1.4.5",
            "_model_name": "GraphModel",
            "_neighborhood": {},
            "_nodes": [
              {
                "id": 0,
                "properties": {
                  "name": "Ut Skateboard",
                  "sku": "CC-BKNGFC",
                  "category": "skateboard",
                  "label": "Part"
                },
                "label": "CC-BKNGFC - Ut Skateboard",
                "color": "red",
                "styles": {},
                "scale_factor": 1,
                "type": null,
                "position": [
                  0,
                  0
                ]
              },
              {
                "id": 1,
                "properties": {
                  "cost": 4792,
                  "material": "wood",
                  "durability": 63,
                  "name": "Accusamus Deck",
                  "width": 6.5,
                  "weight": 167,
                  "sku": "ML-NIOXZW",
                  "category": "deck",
                  "label": "Part"
                },
                "label": "ML-NIOXZW - Accusamus Deck",
                "color": "orange",
                "styles": {},
                "scale_factor": 1,
                "type": null,
                "position": [
                  0,
                  0
                ]
              },
              {
                "id": 2,
                "properties": {
                  "cost": 683,
                  "material": "plastic",
                  "durability": 98,
                  "length": 29,
                  "width": 7,
                  "name": "Officia Grip_Tape",
                  "weight": 307,
                  "sku": "PT-AWUFQH",
                  "category": "grip_tape",
                  "label": "Part"
                },
                "label": "PT-AWUFQH - Officia Grip_Tape",
                "color": "blue",
                "styles": {},
                "scale_factor": 1,
                "type": null,
                "position": [
                  0,
                  0
                ]
              },
              {
                "id": 3,
                "properties": {
                  "cost": 2214,
                  "material": "steel",
                  "durability": 130,
                  "name": "Perspiciatis Truck",
                  "weight": 395,
                  "hanger_length": 5,
                  "sku": "LF-YLLEAY",
                  "category": "truck",
                  "axle_length": 8,
                  "label": "Part"
                },
                "label": "LF-YLLEAY - Perspiciatis Truck",
                "color": "purple",
                "styles": {},
                "scale_factor": 1,
                "type": null,
                "position": [
                  0,
                  0
                ]
              },
              {
                "id": 5,
                "properties": {
                  "hardness": 96,
                  "cost": 1328,
                  "material": "rubber",
                  "diameter": 49,
                  "durability": 88,
                  "name": "Perspiciatis Wheel",
                  "weight": 344,
                  "bearing_diameter": 22,
                  "sku": "OR-GEVRWQ",
                  "category": "wheel",
                  "bearing_width": 7,
                  "label": "Part"
                },
                "label": "OR-GEVRWQ - Perspiciatis Wheel",
                "color": "yellow",
                "styles": {},
                "scale_factor": 1,
                "type": null,
                "position": [
                  0,
                  0
                ]
              },
              {
                "id": 4,
                "properties": {
                  "inner_diameter": 8,
                  "abec": 5,
                  "cost": 153,
                  "material": "ceramic",
                  "thickness": 7,
                  "durability": 244,
                  "name": "Repellendus Bearing",
                  "outer_diameter": 22,
                  "weight": 290,
                  "category": "bearing",
                  "sku": "NW-NJCRQB",
                  "label": "Part"
                },
                "label": "NW-NJCRQB - Repellendus Bearing",
                "color": "green",
                "styles": {},
                "scale_factor": 1,
                "type": null,
                "position": [
                  0,
                  0
                ]
              },
              {
                "id": 6,
                "properties": {
                  "cost": 21,
                  "material": "steel",
                  "durability": 242,
                  "name": "Molestias Axle_Lock_Nut",
                  "weight": 221,
                  "category": "axle_lock_nut",
                  "sku": "HU-ZNPXTJ",
                  "label": "Part"
                },
                "label": "HU-ZNPXTJ - Molestias Axle_Lock_Nut",
                "color": "pink",
                "styles": {},
                "scale_factor": 1,
                "type": null,
                "position": [
                  0,
                  0
                ]
              },
              {
                "id": 7,
                "properties": {
                  "cost": 19,
                  "color": "gold",
                  "material": "steel",
                  "durability": 190,
                  "length": 5.08,
                  "name": "Placeat Bolt",
                  "weight": 419,
                  "thread": "10x32",
                  "sku": "YW-UOJWUF",
                  "category": "bolt",
                  "label": "Part"
                },
                "label": "YW-UOJWUF - Placeat Bolt",
                "color": "grey",
                "styles": {},
                "scale_factor": 1,
                "type": null,
                "position": [
                  0,
                  0
                ]
              },
              {
                "id": 8,
                "properties": {
                  "cost": 26,
                  "color": "black",
                  "material": "steel",
                  "durability": 144,
                  "name": "Earum Nut",
                  "weight": 263,
                  "thread": "10x32",
                  "sku": "JZ-ANUNFX",
                  "category": "nut",
                  "label": "Part"
                },
                "label": "JZ-ANUNFX - Earum Nut",
                "color": "cyan",
                "styles": {},
                "scale_factor": 1,
                "type": null,
                "position": [
                  0,
                  0
                ]
              }
            ],
            "_overview": {
              "enabled": false,
              "overview_set": true
            },
            "_sidebar": {
              "enabled": false,
              "start_with": "Neighbourhood"
            },
            "_svg": "",
            "_view_count": null,
            "_view_module": "yfiles-jupyter-graphs",
            "_view_module_version": "^1.4.5",
            "_view_name": "GraphView",
            "layout": "IPY_MODEL_76bcfb40733e4ae0bfca146f1e8a3cc8"
          }
        },
        "76bcfb40733e4ae0bfca146f1e8a3cc8": {
          "model_module": "@jupyter-widgets/base",
          "model_name": "LayoutModel",
          "model_module_version": "1.2.0",
          "state": {
            "_model_module": "@jupyter-widgets/base",
            "_model_module_version": "1.2.0",
            "_model_name": "LayoutModel",
            "_view_count": null,
            "_view_module": "@jupyter-widgets/base",
            "_view_module_version": "1.2.0",
            "_view_name": "LayoutView",
            "align_content": null,
            "align_items": null,
            "align_self": null,
            "border": null,
            "bottom": null,
            "display": null,
            "flex": null,
            "flex_flow": null,
            "grid_area": null,
            "grid_auto_columns": null,
            "grid_auto_flow": null,
            "grid_auto_rows": null,
            "grid_column": null,
            "grid_gap": null,
            "grid_row": null,
            "grid_template_areas": null,
            "grid_template_columns": null,
            "grid_template_rows": null,
            "height": "500px",
            "justify_content": null,
            "justify_items": null,
            "left": null,
            "margin": null,
            "max_height": null,
            "max_width": null,
            "min_height": null,
            "min_width": null,
            "object_fit": null,
            "object_position": null,
            "order": null,
            "overflow": null,
            "overflow_x": null,
            "overflow_y": null,
            "padding": null,
            "right": null,
            "top": null,
            "visibility": null,
            "width": "100%"
          }
        },
        "e9214faaf7734f3b8d25068288c007bc": {
          "model_module": "yfiles-jupyter-graphs",
          "model_name": "GraphModel",
          "model_module_version": "^1.4.5",
          "state": {
            "_context_pane_mapping": [
              {
                "id": "Neighborhood",
                "title": "Neighborhood"
              },
              {
                "id": "Data",
                "title": "Data"
              },
              {
                "id": "Search",
                "title": "Search"
              },
              {
                "id": "About",
                "title": "About"
              }
            ],
            "_data_importer": "neo4j",
            "_directed": false,
            "_dom_classes": [],
            "_edges": [
              {
                "id": 200,
                "start": 0,
                "end": 1,
                "properties": {
                  "label": "EXPLICIT"
                },
                "label": "EXPLICIT",
                "color": "blue",
                "thickness_factor": 1,
                "directed": false
              },
              {
                "id": 209,
                "start": 1,
                "end": 9,
                "properties": {
                  "cost": 4792,
                  "weight": 167,
                  "label": "POSSIBLE_COMPATIBILITY"
                },
                "label": "POSSIBLE_COMPATIBILITY",
                "color": "red",
                "thickness_factor": 1,
                "directed": false
              },
              {
                "id": 211,
                "start": 1,
                "end": 27,
                "properties": {
                  "cost": 4792,
                  "weight": 167,
                  "label": "POSSIBLE_COMPATIBILITY"
                },
                "label": "POSSIBLE_COMPATIBILITY",
                "color": "red",
                "thickness_factor": 1,
                "directed": false
              },
              {
                "id": 210,
                "start": 1,
                "end": 18,
                "properties": {
                  "cost": 4792,
                  "weight": 167,
                  "label": "POSSIBLE_COMPATIBILITY"
                },
                "label": "POSSIBLE_COMPATIBILITY",
                "color": "red",
                "thickness_factor": 1,
                "directed": false
              },
              {
                "id": 212,
                "start": 1,
                "end": 36,
                "properties": {
                  "cost": 4792,
                  "weight": 167,
                  "label": "POSSIBLE_COMPATIBILITY"
                },
                "label": "POSSIBLE_COMPATIBILITY",
                "color": "red",
                "thickness_factor": 1,
                "directed": false
              },
              {
                "id": 208,
                "start": 1,
                "end": 0,
                "properties": {
                  "cost": 4792,
                  "weight": 167,
                  "label": "POSSIBLE_COMPATIBILITY"
                },
                "label": "POSSIBLE_COMPATIBILITY",
                "color": "red",
                "thickness_factor": 1,
                "directed": false
              },
              {
                "id": 202,
                "start": 1,
                "end": 3,
                "properties": {
                  "label": "EXPLICIT"
                },
                "label": "EXPLICIT",
                "color": "blue",
                "thickness_factor": 1,
                "directed": false
              },
              {
                "id": 201,
                "start": 1,
                "end": 2,
                "properties": {
                  "label": "EXPLICIT"
                },
                "label": "EXPLICIT",
                "color": "blue",
                "thickness_factor": 1,
                "directed": false
              },
              {
                "id": 233,
                "start": 2,
                "end": 10,
                "properties": {
                  "cost": 683,
                  "weight": 307,
                  "label": "POSSIBLE_COMPATIBILITY"
                },
                "label": "POSSIBLE_COMPATIBILITY",
                "color": "red",
                "thickness_factor": 1,
                "directed": false
              },
              {
                "id": 235,
                "start": 2,
                "end": 28,
                "properties": {
                  "cost": 683,
                  "weight": 307,
                  "label": "POSSIBLE_COMPATIBILITY"
                },
                "label": "POSSIBLE_COMPATIBILITY",
                "color": "red",
                "thickness_factor": 1,
                "directed": false
              },
              {
                "id": 234,
                "start": 2,
                "end": 19,
                "properties": {
                  "cost": 683,
                  "weight": 307,
                  "label": "POSSIBLE_COMPATIBILITY"
                },
                "label": "POSSIBLE_COMPATIBILITY",
                "color": "red",
                "thickness_factor": 1,
                "directed": false
              },
              {
                "id": 247,
                "start": 3,
                "end": 1,
                "properties": {
                  "cost": 2214,
                  "weight": 395,
                  "label": "POSSIBLE_COMPATIBILITY"
                },
                "label": "POSSIBLE_COMPATIBILITY",
                "color": "red",
                "thickness_factor": 1,
                "directed": false
              },
              {
                "id": 250,
                "start": 3,
                "end": 28,
                "properties": {
                  "cost": 2214,
                  "weight": 395,
                  "label": "POSSIBLE_COMPATIBILITY"
                },
                "label": "POSSIBLE_COMPATIBILITY",
                "color": "red",
                "thickness_factor": 1,
                "directed": false
              },
              {
                "id": 249,
                "start": 3,
                "end": 19,
                "properties": {
                  "cost": 2214,
                  "weight": 395,
                  "label": "POSSIBLE_COMPATIBILITY"
                },
                "label": "POSSIBLE_COMPATIBILITY",
                "color": "red",
                "thickness_factor": 1,
                "directed": false
              },
              {
                "id": 248,
                "start": 3,
                "end": 10,
                "properties": {
                  "cost": 2214,
                  "weight": 395,
                  "label": "POSSIBLE_COMPATIBILITY"
                },
                "label": "POSSIBLE_COMPATIBILITY",
                "color": "red",
                "thickness_factor": 1,
                "directed": false
              },
              {
                "id": 251,
                "start": 3,
                "end": 37,
                "properties": {
                  "cost": 2214,
                  "weight": 395,
                  "label": "POSSIBLE_COMPATIBILITY"
                },
                "label": "POSSIBLE_COMPATIBILITY",
                "color": "red",
                "thickness_factor": 1,
                "directed": false
              },
              {
                "id": 204,
                "start": 3,
                "end": 5,
                "properties": {
                  "label": "EXPLICIT"
                },
                "label": "EXPLICIT",
                "color": "blue",
                "thickness_factor": 1,
                "directed": false
              },
              {
                "id": 206,
                "start": 3,
                "end": 7,
                "properties": {
                  "label": "EXPLICIT"
                },
                "label": "EXPLICIT",
                "color": "blue",
                "thickness_factor": 1,
                "directed": false
              },
              {
                "id": 205,
                "start": 3,
                "end": 6,
                "properties": {
                  "label": "EXPLICIT"
                },
                "label": "EXPLICIT",
                "color": "blue",
                "thickness_factor": 1,
                "directed": false
              },
              {
                "id": 302,
                "start": 4,
                "end": 14,
                "properties": {
                  "cost": 153,
                  "weight": 290,
                  "label": "POSSIBLE_COMPATIBILITY"
                },
                "label": "POSSIBLE_COMPATIBILITY",
                "color": "red",
                "thickness_factor": 1,
                "directed": false
              },
              {
                "id": 297,
                "start": 4,
                "end": 5,
                "properties": {
                  "cost": 153,
                  "weight": 290,
                  "label": "POSSIBLE_COMPATIBILITY"
                },
                "label": "POSSIBLE_COMPATIBILITY",
                "color": "red",
                "thickness_factor": 1,
                "directed": false
              },
              {
                "id": 312,
                "start": 4,
                "end": 32,
                "properties": {
                  "cost": 153,
                  "weight": 290,
                  "label": "POSSIBLE_COMPATIBILITY"
                },
                "label": "POSSIBLE_COMPATIBILITY",
                "color": "red",
                "thickness_factor": 1,
                "directed": false
              },
              {
                "id": 317,
                "start": 4,
                "end": 41,
                "properties": {
                  "cost": 153,
                  "weight": 290,
                  "label": "POSSIBLE_COMPATIBILITY"
                },
                "label": "POSSIBLE_COMPATIBILITY",
                "color": "red",
                "thickness_factor": 1,
                "directed": false
              },
              {
                "id": 307,
                "start": 4,
                "end": 23,
                "properties": {
                  "cost": 153,
                  "weight": 290,
                  "label": "POSSIBLE_COMPATIBILITY"
                },
                "label": "POSSIBLE_COMPATIBILITY",
                "color": "red",
                "thickness_factor": 1,
                "directed": false
              },
              {
                "id": 326,
                "start": 5,
                "end": 39,
                "properties": {
                  "cost": 1328,
                  "weight": 344,
                  "label": "POSSIBLE_COMPATIBILITY"
                },
                "label": "POSSIBLE_COMPATIBILITY",
                "color": "red",
                "thickness_factor": 1,
                "directed": false
              },
              {
                "id": 324,
                "start": 5,
                "end": 21,
                "properties": {
                  "cost": 1328,
                  "weight": 344,
                  "label": "POSSIBLE_COMPATIBILITY"
                },
                "label": "POSSIBLE_COMPATIBILITY",
                "color": "red",
                "thickness_factor": 1,
                "directed": false
              },
              {
                "id": 325,
                "start": 5,
                "end": 30,
                "properties": {
                  "cost": 1328,
                  "weight": 344,
                  "label": "POSSIBLE_COMPATIBILITY"
                },
                "label": "POSSIBLE_COMPATIBILITY",
                "color": "red",
                "thickness_factor": 1,
                "directed": false
              },
              {
                "id": 322,
                "start": 5,
                "end": 3,
                "properties": {
                  "cost": 1328,
                  "weight": 344,
                  "label": "POSSIBLE_COMPATIBILITY"
                },
                "label": "POSSIBLE_COMPATIBILITY",
                "color": "red",
                "thickness_factor": 1,
                "directed": false
              },
              {
                "id": 323,
                "start": 5,
                "end": 12,
                "properties": {
                  "cost": 1328,
                  "weight": 344,
                  "label": "POSSIBLE_COMPATIBILITY"
                },
                "label": "POSSIBLE_COMPATIBILITY",
                "color": "red",
                "thickness_factor": 1,
                "directed": false
              },
              {
                "id": 203,
                "start": 5,
                "end": 4,
                "properties": {
                  "label": "EXPLICIT"
                },
                "label": "EXPLICIT",
                "color": "blue",
                "thickness_factor": 1,
                "directed": false
              },
              {
                "id": 274,
                "start": 6,
                "end": 21,
                "properties": {
                  "cost": 21,
                  "weight": 221,
                  "label": "POSSIBLE_COMPATIBILITY"
                },
                "label": "POSSIBLE_COMPATIBILITY",
                "color": "red",
                "thickness_factor": 1,
                "directed": false
              },
              {
                "id": 275,
                "start": 6,
                "end": 30,
                "properties": {
                  "cost": 21,
                  "weight": 221,
                  "label": "POSSIBLE_COMPATIBILITY"
                },
                "label": "POSSIBLE_COMPATIBILITY",
                "color": "red",
                "thickness_factor": 1,
                "directed": false
              },
              {
                "id": 272,
                "start": 6,
                "end": 3,
                "properties": {
                  "cost": 21,
                  "weight": 221,
                  "label": "POSSIBLE_COMPATIBILITY"
                },
                "label": "POSSIBLE_COMPATIBILITY",
                "color": "red",
                "thickness_factor": 1,
                "directed": false
              },
              {
                "id": 273,
                "start": 6,
                "end": 12,
                "properties": {
                  "cost": 21,
                  "weight": 221,
                  "label": "POSSIBLE_COMPATIBILITY"
                },
                "label": "POSSIBLE_COMPATIBILITY",
                "color": "red",
                "thickness_factor": 1,
                "directed": false
              },
              {
                "id": 276,
                "start": 6,
                "end": 39,
                "properties": {
                  "cost": 21,
                  "weight": 221,
                  "label": "POSSIBLE_COMPATIBILITY"
                },
                "label": "POSSIBLE_COMPATIBILITY",
                "color": "red",
                "thickness_factor": 1,
                "directed": false
              },
              {
                "id": 350,
                "start": 7,
                "end": 30,
                "properties": {
                  "cost": 19,
                  "weight": 419,
                  "label": "POSSIBLE_COMPATIBILITY"
                },
                "label": "POSSIBLE_COMPATIBILITY",
                "color": "red",
                "thickness_factor": 1,
                "directed": false
              },
              {
                "id": 347,
                "start": 7,
                "end": 3,
                "properties": {
                  "cost": 19,
                  "weight": 419,
                  "label": "POSSIBLE_COMPATIBILITY"
                },
                "label": "POSSIBLE_COMPATIBILITY",
                "color": "red",
                "thickness_factor": 1,
                "directed": false
              },
              {
                "id": 348,
                "start": 7,
                "end": 12,
                "properties": {
                  "cost": 19,
                  "weight": 419,
                  "label": "POSSIBLE_COMPATIBILITY"
                },
                "label": "POSSIBLE_COMPATIBILITY",
                "color": "red",
                "thickness_factor": 1,
                "directed": false
              },
              {
                "id": 351,
                "start": 7,
                "end": 39,
                "properties": {
                  "cost": 19,
                  "weight": 419,
                  "label": "POSSIBLE_COMPATIBILITY"
                },
                "label": "POSSIBLE_COMPATIBILITY",
                "color": "red",
                "thickness_factor": 1,
                "directed": false
              },
              {
                "id": 349,
                "start": 7,
                "end": 21,
                "properties": {
                  "cost": 19,
                  "weight": 419,
                  "label": "POSSIBLE_COMPATIBILITY"
                },
                "label": "POSSIBLE_COMPATIBILITY",
                "color": "red",
                "thickness_factor": 1,
                "directed": false
              },
              {
                "id": 207,
                "start": 7,
                "end": 8,
                "properties": {
                  "label": "EXPLICIT"
                },
                "label": "EXPLICIT",
                "color": "blue",
                "thickness_factor": 1,
                "directed": false
              },
              {
                "id": 378,
                "start": 8,
                "end": 34,
                "properties": {
                  "cost": 26,
                  "weight": 263,
                  "label": "POSSIBLE_COMPATIBILITY"
                },
                "label": "POSSIBLE_COMPATIBILITY",
                "color": "red",
                "thickness_factor": 1,
                "directed": false
              },
              {
                "id": 374,
                "start": 8,
                "end": 25,
                "properties": {
                  "cost": 26,
                  "weight": 263,
                  "label": "POSSIBLE_COMPATIBILITY"
                },
                "label": "POSSIBLE_COMPATIBILITY",
                "color": "red",
                "thickness_factor": 1,
                "directed": false
              },
              {
                "id": 217,
                "start": 10,
                "end": 36,
                "properties": {
                  "cost": 5093,
                  "weight": 480,
                  "label": "POSSIBLE_COMPATIBILITY"
                },
                "label": "POSSIBLE_COMPATIBILITY",
                "color": "red",
                "thickness_factor": 1,
                "directed": false
              },
              {
                "id": 213,
                "start": 10,
                "end": 0,
                "properties": {
                  "cost": 5093,
                  "weight": 480,
                  "label": "POSSIBLE_COMPATIBILITY"
                },
                "label": "POSSIBLE_COMPATIBILITY",
                "color": "red",
                "thickness_factor": 1,
                "directed": false
              },
              {
                "id": 216,
                "start": 10,
                "end": 27,
                "properties": {
                  "cost": 5093,
                  "weight": 480,
                  "label": "POSSIBLE_COMPATIBILITY"
                },
                "label": "POSSIBLE_COMPATIBILITY",
                "color": "red",
                "thickness_factor": 1,
                "directed": false
              },
              {
                "id": 215,
                "start": 10,
                "end": 18,
                "properties": {
                  "cost": 5093,
                  "weight": 480,
                  "label": "POSSIBLE_COMPATIBILITY"
                },
                "label": "POSSIBLE_COMPATIBILITY",
                "color": "red",
                "thickness_factor": 1,
                "directed": false
              },
              {
                "id": 214,
                "start": 10,
                "end": 9,
                "properties": {
                  "cost": 5093,
                  "weight": 480,
                  "label": "POSSIBLE_COMPATIBILITY"
                },
                "label": "POSSIBLE_COMPATIBILITY",
                "color": "red",
                "thickness_factor": 1,
                "directed": false
              },
              {
                "id": 239,
                "start": 11,
                "end": 28,
                "properties": {
                  "cost": 541,
                  "weight": 387,
                  "label": "POSSIBLE_COMPATIBILITY"
                },
                "label": "POSSIBLE_COMPATIBILITY",
                "color": "red",
                "thickness_factor": 1,
                "directed": false
              },
              {
                "id": 238,
                "start": 11,
                "end": 19,
                "properties": {
                  "cost": 541,
                  "weight": 387,
                  "label": "POSSIBLE_COMPATIBILITY"
                },
                "label": "POSSIBLE_COMPATIBILITY",
                "color": "red",
                "thickness_factor": 1,
                "directed": false
              },
              {
                "id": 236,
                "start": 11,
                "end": 1,
                "properties": {
                  "cost": 541,
                  "weight": 387,
                  "label": "POSSIBLE_COMPATIBILITY"
                },
                "label": "POSSIBLE_COMPATIBILITY",
                "color": "red",
                "thickness_factor": 1,
                "directed": false
              },
              {
                "id": 237,
                "start": 11,
                "end": 10,
                "properties": {
                  "cost": 541,
                  "weight": 387,
                  "label": "POSSIBLE_COMPATIBILITY"
                },
                "label": "POSSIBLE_COMPATIBILITY",
                "color": "red",
                "thickness_factor": 1,
                "directed": false
              },
              {
                "id": 256,
                "start": 12,
                "end": 37,
                "properties": {
                  "cost": 1046,
                  "weight": 141,
                  "label": "POSSIBLE_COMPATIBILITY"
                },
                "label": "POSSIBLE_COMPATIBILITY",
                "color": "red",
                "thickness_factor": 1,
                "directed": false
              },
              {
                "id": 255,
                "start": 12,
                "end": 28,
                "properties": {
                  "cost": 1046,
                  "weight": 141,
                  "label": "POSSIBLE_COMPATIBILITY"
                },
                "label": "POSSIBLE_COMPATIBILITY",
                "color": "red",
                "thickness_factor": 1,
                "directed": false
              },
              {
                "id": 254,
                "start": 12,
                "end": 19,
                "properties": {
                  "cost": 1046,
                  "weight": 141,
                  "label": "POSSIBLE_COMPATIBILITY"
                },
                "label": "POSSIBLE_COMPATIBILITY",
                "color": "red",
                "thickness_factor": 1,
                "directed": false
              },
              {
                "id": 253,
                "start": 12,
                "end": 10,
                "properties": {
                  "cost": 1046,
                  "weight": 141,
                  "label": "POSSIBLE_COMPATIBILITY"
                },
                "label": "POSSIBLE_COMPATIBILITY",
                "color": "red",
                "thickness_factor": 1,
                "directed": false
              },
              {
                "id": 252,
                "start": 12,
                "end": 1,
                "properties": {
                  "cost": 1046,
                  "weight": 141,
                  "label": "POSSIBLE_COMPATIBILITY"
                },
                "label": "POSSIBLE_COMPATIBILITY",
                "color": "red",
                "thickness_factor": 1,
                "directed": false
              },
              {
                "id": 308,
                "start": 13,
                "end": 23,
                "properties": {
                  "cost": 608,
                  "weight": 301,
                  "label": "POSSIBLE_COMPATIBILITY"
                },
                "label": "POSSIBLE_COMPATIBILITY",
                "color": "red",
                "thickness_factor": 1,
                "directed": false
              },
              {
                "id": 298,
                "start": 13,
                "end": 5,
                "properties": {
                  "cost": 608,
                  "weight": 301,
                  "label": "POSSIBLE_COMPATIBILITY"
                },
                "label": "POSSIBLE_COMPATIBILITY",
                "color": "red",
                "thickness_factor": 1,
                "directed": false
              },
              {
                "id": 318,
                "start": 13,
                "end": 41,
                "properties": {
                  "cost": 608,
                  "weight": 301,
                  "label": "POSSIBLE_COMPATIBILITY"
                },
                "label": "POSSIBLE_COMPATIBILITY",
                "color": "red",
                "thickness_factor": 1,
                "directed": false
              },
              {
                "id": 313,
                "start": 13,
                "end": 32,
                "properties": {
                  "cost": 608,
                  "weight": 301,
                  "label": "POSSIBLE_COMPATIBILITY"
                },
                "label": "POSSIBLE_COMPATIBILITY",
                "color": "red",
                "thickness_factor": 1,
                "directed": false
              },
              {
                "id": 303,
                "start": 13,
                "end": 14,
                "properties": {
                  "cost": 608,
                  "weight": 301,
                  "label": "POSSIBLE_COMPATIBILITY"
                },
                "label": "POSSIBLE_COMPATIBILITY",
                "color": "red",
                "thickness_factor": 1,
                "directed": false
              },
              {
                "id": 330,
                "start": 14,
                "end": 30,
                "properties": {
                  "cost": 457,
                  "weight": 356,
                  "label": "POSSIBLE_COMPATIBILITY"
                },
                "label": "POSSIBLE_COMPATIBILITY",
                "color": "red",
                "thickness_factor": 1,
                "directed": false
              },
              {
                "id": 328,
                "start": 14,
                "end": 12,
                "properties": {
                  "cost": 457,
                  "weight": 356,
                  "label": "POSSIBLE_COMPATIBILITY"
                },
                "label": "POSSIBLE_COMPATIBILITY",
                "color": "red",
                "thickness_factor": 1,
                "directed": false
              },
              {
                "id": 331,
                "start": 14,
                "end": 39,
                "properties": {
                  "cost": 457,
                  "weight": 356,
                  "label": "POSSIBLE_COMPATIBILITY"
                },
                "label": "POSSIBLE_COMPATIBILITY",
                "color": "red",
                "thickness_factor": 1,
                "directed": false
              },
              {
                "id": 327,
                "start": 14,
                "end": 3,
                "properties": {
                  "cost": 457,
                  "weight": 356,
                  "label": "POSSIBLE_COMPATIBILITY"
                },
                "label": "POSSIBLE_COMPATIBILITY",
                "color": "red",
                "thickness_factor": 1,
                "directed": false
              },
              {
                "id": 329,
                "start": 14,
                "end": 21,
                "properties": {
                  "cost": 457,
                  "weight": 356,
                  "label": "POSSIBLE_COMPATIBILITY"
                },
                "label": "POSSIBLE_COMPATIBILITY",
                "color": "red",
                "thickness_factor": 1,
                "directed": false
              },
              {
                "id": 277,
                "start": 15,
                "end": 3,
                "properties": {
                  "cost": 14,
                  "weight": 374,
                  "label": "POSSIBLE_COMPATIBILITY"
                },
                "label": "POSSIBLE_COMPATIBILITY",
                "color": "red",
                "thickness_factor": 1,
                "directed": false
              },
              {
                "id": 280,
                "start": 15,
                "end": 30,
                "properties": {
                  "cost": 14,
                  "weight": 374,
                  "label": "POSSIBLE_COMPATIBILITY"
                },
                "label": "POSSIBLE_COMPATIBILITY",
                "color": "red",
                "thickness_factor": 1,
                "directed": false
              },
              {
                "id": 279,
                "start": 15,
                "end": 21,
                "properties": {
                  "cost": 14,
                  "weight": 374,
                  "label": "POSSIBLE_COMPATIBILITY"
                },
                "label": "POSSIBLE_COMPATIBILITY",
                "color": "red",
                "thickness_factor": 1,
                "directed": false
              },
              {
                "id": 281,
                "start": 15,
                "end": 39,
                "properties": {
                  "cost": 14,
                  "weight": 374,
                  "label": "POSSIBLE_COMPATIBILITY"
                },
                "label": "POSSIBLE_COMPATIBILITY",
                "color": "red",
                "thickness_factor": 1,
                "directed": false
              },
              {
                "id": 278,
                "start": 15,
                "end": 12,
                "properties": {
                  "cost": 14,
                  "weight": 374,
                  "label": "POSSIBLE_COMPATIBILITY"
                },
                "label": "POSSIBLE_COMPATIBILITY",
                "color": "red",
                "thickness_factor": 1,
                "directed": false
              },
              {
                "id": 355,
                "start": 16,
                "end": 30,
                "properties": {
                  "cost": 19,
                  "weight": 417,
                  "label": "POSSIBLE_COMPATIBILITY"
                },
                "label": "POSSIBLE_COMPATIBILITY",
                "color": "red",
                "thickness_factor": 1,
                "directed": false
              },
              {
                "id": 352,
                "start": 16,
                "end": 3,
                "properties": {
                  "cost": 19,
                  "weight": 417,
                  "label": "POSSIBLE_COMPATIBILITY"
                },
                "label": "POSSIBLE_COMPATIBILITY",
                "color": "red",
                "thickness_factor": 1,
                "directed": false
              },
              {
                "id": 356,
                "start": 16,
                "end": 39,
                "properties": {
                  "cost": 19,
                  "weight": 417,
                  "label": "POSSIBLE_COMPATIBILITY"
                },
                "label": "POSSIBLE_COMPATIBILITY",
                "color": "red",
                "thickness_factor": 1,
                "directed": false
              },
              {
                "id": 353,
                "start": 16,
                "end": 12,
                "properties": {
                  "cost": 19,
                  "weight": 417,
                  "label": "POSSIBLE_COMPATIBILITY"
                },
                "label": "POSSIBLE_COMPATIBILITY",
                "color": "red",
                "thickness_factor": 1,
                "directed": false
              },
              {
                "id": 354,
                "start": 16,
                "end": 21,
                "properties": {
                  "cost": 19,
                  "weight": 417,
                  "label": "POSSIBLE_COMPATIBILITY"
                },
                "label": "POSSIBLE_COMPATIBILITY",
                "color": "red",
                "thickness_factor": 1,
                "directed": false
              },
              {
                "id": 375,
                "start": 17,
                "end": 25,
                "properties": {
                  "cost": 18,
                  "weight": 136,
                  "label": "POSSIBLE_COMPATIBILITY"
                },
                "label": "POSSIBLE_COMPATIBILITY",
                "color": "red",
                "thickness_factor": 1,
                "directed": false
              },
              {
                "id": 379,
                "start": 17,
                "end": 34,
                "properties": {
                  "cost": 18,
                  "weight": 136,
                  "label": "POSSIBLE_COMPATIBILITY"
                },
                "label": "POSSIBLE_COMPATIBILITY",
                "color": "red",
                "thickness_factor": 1,
                "directed": false
              },
              {
                "id": 221,
                "start": 19,
                "end": 27,
                "properties": {
                  "cost": 6825,
                  "weight": 304,
                  "label": "POSSIBLE_COMPATIBILITY"
                },
                "label": "POSSIBLE_COMPATIBILITY",
                "color": "red",
                "thickness_factor": 1,
                "directed": false
              },
              {
                "id": 220,
                "start": 19,
                "end": 18,
                "properties": {
                  "cost": 6825,
                  "weight": 304,
                  "label": "POSSIBLE_COMPATIBILITY"
                },
                "label": "POSSIBLE_COMPATIBILITY",
                "color": "red",
                "thickness_factor": 1,
                "directed": false
              },
              {
                "id": 219,
                "start": 19,
                "end": 9,
                "properties": {
                  "cost": 6825,
                  "weight": 304,
                  "label": "POSSIBLE_COMPATIBILITY"
                },
                "label": "POSSIBLE_COMPATIBILITY",
                "color": "red",
                "thickness_factor": 1,
                "directed": false
              },
              {
                "id": 218,
                "start": 19,
                "end": 0,
                "properties": {
                  "cost": 6825,
                  "weight": 304,
                  "label": "POSSIBLE_COMPATIBILITY"
                },
                "label": "POSSIBLE_COMPATIBILITY",
                "color": "red",
                "thickness_factor": 1,
                "directed": false
              },
              {
                "id": 222,
                "start": 19,
                "end": 36,
                "properties": {
                  "cost": 6825,
                  "weight": 304,
                  "label": "POSSIBLE_COMPATIBILITY"
                },
                "label": "POSSIBLE_COMPATIBILITY",
                "color": "red",
                "thickness_factor": 1,
                "directed": false
              },
              {
                "id": 240,
                "start": 20,
                "end": 10,
                "properties": {
                  "cost": 512,
                  "weight": 220,
                  "label": "POSSIBLE_COMPATIBILITY"
                },
                "label": "POSSIBLE_COMPATIBILITY",
                "color": "red",
                "thickness_factor": 1,
                "directed": false
              },
              {
                "id": 257,
                "start": 21,
                "end": 1,
                "properties": {
                  "cost": 2864,
                  "weight": 302,
                  "label": "POSSIBLE_COMPATIBILITY"
                },
                "label": "POSSIBLE_COMPATIBILITY",
                "color": "red",
                "thickness_factor": 1,
                "directed": false
              },
              {
                "id": 259,
                "start": 21,
                "end": 19,
                "properties": {
                  "cost": 2864,
                  "weight": 302,
                  "label": "POSSIBLE_COMPATIBILITY"
                },
                "label": "POSSIBLE_COMPATIBILITY",
                "color": "red",
                "thickness_factor": 1,
                "directed": false
              },
              {
                "id": 261,
                "start": 21,
                "end": 37,
                "properties": {
                  "cost": 2864,
                  "weight": 302,
                  "label": "POSSIBLE_COMPATIBILITY"
                },
                "label": "POSSIBLE_COMPATIBILITY",
                "color": "red",
                "thickness_factor": 1,
                "directed": false
              },
              {
                "id": 258,
                "start": 21,
                "end": 10,
                "properties": {
                  "cost": 2864,
                  "weight": 302,
                  "label": "POSSIBLE_COMPATIBILITY"
                },
                "label": "POSSIBLE_COMPATIBILITY",
                "color": "red",
                "thickness_factor": 1,
                "directed": false
              },
              {
                "id": 260,
                "start": 21,
                "end": 28,
                "properties": {
                  "cost": 2864,
                  "weight": 302,
                  "label": "POSSIBLE_COMPATIBILITY"
                },
                "label": "POSSIBLE_COMPATIBILITY",
                "color": "red",
                "thickness_factor": 1,
                "directed": false
              },
              {
                "id": 304,
                "start": 22,
                "end": 14,
                "properties": {
                  "cost": 347,
                  "weight": 143,
                  "label": "POSSIBLE_COMPATIBILITY"
                },
                "label": "POSSIBLE_COMPATIBILITY",
                "color": "red",
                "thickness_factor": 1,
                "directed": false
              },
              {
                "id": 314,
                "start": 22,
                "end": 32,
                "properties": {
                  "cost": 347,
                  "weight": 143,
                  "label": "POSSIBLE_COMPATIBILITY"
                },
                "label": "POSSIBLE_COMPATIBILITY",
                "color": "red",
                "thickness_factor": 1,
                "directed": false
              },
              {
                "id": 299,
                "start": 22,
                "end": 5,
                "properties": {
                  "cost": 347,
                  "weight": 143,
                  "label": "POSSIBLE_COMPATIBILITY"
                },
                "label": "POSSIBLE_COMPATIBILITY",
                "color": "red",
                "thickness_factor": 1,
                "directed": false
              },
              {
                "id": 309,
                "start": 22,
                "end": 23,
                "properties": {
                  "cost": 347,
                  "weight": 143,
                  "label": "POSSIBLE_COMPATIBILITY"
                },
                "label": "POSSIBLE_COMPATIBILITY",
                "color": "red",
                "thickness_factor": 1,
                "directed": false
              },
              {
                "id": 319,
                "start": 22,
                "end": 41,
                "properties": {
                  "cost": 347,
                  "weight": 143,
                  "label": "POSSIBLE_COMPATIBILITY"
                },
                "label": "POSSIBLE_COMPATIBILITY",
                "color": "red",
                "thickness_factor": 1,
                "directed": false
              },
              {
                "id": 332,
                "start": 23,
                "end": 3,
                "properties": {
                  "cost": 383,
                  "weight": 235,
                  "label": "POSSIBLE_COMPATIBILITY"
                },
                "label": "POSSIBLE_COMPATIBILITY",
                "color": "red",
                "thickness_factor": 1,
                "directed": false
              },
              {
                "id": 335,
                "start": 23,
                "end": 30,
                "properties": {
                  "cost": 383,
                  "weight": 235,
                  "label": "POSSIBLE_COMPATIBILITY"
                },
                "label": "POSSIBLE_COMPATIBILITY",
                "color": "red",
                "thickness_factor": 1,
                "directed": false
              },
              {
                "id": 333,
                "start": 23,
                "end": 12,
                "properties": {
                  "cost": 383,
                  "weight": 235,
                  "label": "POSSIBLE_COMPATIBILITY"
                },
                "label": "POSSIBLE_COMPATIBILITY",
                "color": "red",
                "thickness_factor": 1,
                "directed": false
              },
              {
                "id": 334,
                "start": 23,
                "end": 21,
                "properties": {
                  "cost": 383,
                  "weight": 235,
                  "label": "POSSIBLE_COMPATIBILITY"
                },
                "label": "POSSIBLE_COMPATIBILITY",
                "color": "red",
                "thickness_factor": 1,
                "directed": false
              },
              {
                "id": 336,
                "start": 23,
                "end": 39,
                "properties": {
                  "cost": 383,
                  "weight": 235,
                  "label": "POSSIBLE_COMPATIBILITY"
                },
                "label": "POSSIBLE_COMPATIBILITY",
                "color": "red",
                "thickness_factor": 1,
                "directed": false
              },
              {
                "id": 286,
                "start": 24,
                "end": 39,
                "properties": {
                  "cost": 29,
                  "weight": 101,
                  "label": "POSSIBLE_COMPATIBILITY"
                },
                "label": "POSSIBLE_COMPATIBILITY",
                "color": "red",
                "thickness_factor": 1,
                "directed": false
              },
              {
                "id": 283,
                "start": 24,
                "end": 12,
                "properties": {
                  "cost": 29,
                  "weight": 101,
                  "label": "POSSIBLE_COMPATIBILITY"
                },
                "label": "POSSIBLE_COMPATIBILITY",
                "color": "red",
                "thickness_factor": 1,
                "directed": false
              },
              {
                "id": 285,
                "start": 24,
                "end": 30,
                "properties": {
                  "cost": 29,
                  "weight": 101,
                  "label": "POSSIBLE_COMPATIBILITY"
                },
                "label": "POSSIBLE_COMPATIBILITY",
                "color": "red",
                "thickness_factor": 1,
                "directed": false
              },
              {
                "id": 284,
                "start": 24,
                "end": 21,
                "properties": {
                  "cost": 29,
                  "weight": 101,
                  "label": "POSSIBLE_COMPATIBILITY"
                },
                "label": "POSSIBLE_COMPATIBILITY",
                "color": "red",
                "thickness_factor": 1,
                "directed": false
              },
              {
                "id": 282,
                "start": 24,
                "end": 3,
                "properties": {
                  "cost": 29,
                  "weight": 101,
                  "label": "POSSIBLE_COMPATIBILITY"
                },
                "label": "POSSIBLE_COMPATIBILITY",
                "color": "red",
                "thickness_factor": 1,
                "directed": false
              },
              {
                "id": 359,
                "start": 25,
                "end": 21,
                "properties": {
                  "cost": 26,
                  "weight": 244,
                  "label": "POSSIBLE_COMPATIBILITY"
                },
                "label": "POSSIBLE_COMPATIBILITY",
                "color": "red",
                "thickness_factor": 1,
                "directed": false
              },
              {
                "id": 360,
                "start": 25,
                "end": 30,
                "properties": {
                  "cost": 26,
                  "weight": 244,
                  "label": "POSSIBLE_COMPATIBILITY"
                },
                "label": "POSSIBLE_COMPATIBILITY",
                "color": "red",
                "thickness_factor": 1,
                "directed": false
              },
              {
                "id": 358,
                "start": 25,
                "end": 12,
                "properties": {
                  "cost": 26,
                  "weight": 244,
                  "label": "POSSIBLE_COMPATIBILITY"
                },
                "label": "POSSIBLE_COMPATIBILITY",
                "color": "red",
                "thickness_factor": 1,
                "directed": false
              },
              {
                "id": 357,
                "start": 25,
                "end": 3,
                "properties": {
                  "cost": 26,
                  "weight": 244,
                  "label": "POSSIBLE_COMPATIBILITY"
                },
                "label": "POSSIBLE_COMPATIBILITY",
                "color": "red",
                "thickness_factor": 1,
                "directed": false
              },
              {
                "id": 361,
                "start": 25,
                "end": 39,
                "properties": {
                  "cost": 26,
                  "weight": 244,
                  "label": "POSSIBLE_COMPATIBILITY"
                },
                "label": "POSSIBLE_COMPATIBILITY",
                "color": "red",
                "thickness_factor": 1,
                "directed": false
              },
              {
                "id": 372,
                "start": 26,
                "end": 7,
                "properties": {
                  "cost": 22,
                  "weight": 191,
                  "label": "POSSIBLE_COMPATIBILITY"
                },
                "label": "POSSIBLE_COMPATIBILITY",
                "color": "red",
                "thickness_factor": 1,
                "directed": false
              },
              {
                "id": 373,
                "start": 26,
                "end": 16,
                "properties": {
                  "cost": 22,
                  "weight": 191,
                  "label": "POSSIBLE_COMPATIBILITY"
                },
                "label": "POSSIBLE_COMPATIBILITY",
                "color": "red",
                "thickness_factor": 1,
                "directed": false
              },
              {
                "id": 382,
                "start": 26,
                "end": 43,
                "properties": {
                  "cost": 22,
                  "weight": 191,
                  "label": "POSSIBLE_COMPATIBILITY"
                },
                "label": "POSSIBLE_COMPATIBILITY",
                "color": "red",
                "thickness_factor": 1,
                "directed": false
              },
              {
                "id": 225,
                "start": 28,
                "end": 18,
                "properties": {
                  "cost": 5273,
                  "weight": 427,
                  "label": "POSSIBLE_COMPATIBILITY"
                },
                "label": "POSSIBLE_COMPATIBILITY",
                "color": "red",
                "thickness_factor": 1,
                "directed": false
              },
              {
                "id": 224,
                "start": 28,
                "end": 9,
                "properties": {
                  "cost": 5273,
                  "weight": 427,
                  "label": "POSSIBLE_COMPATIBILITY"
                },
                "label": "POSSIBLE_COMPATIBILITY",
                "color": "red",
                "thickness_factor": 1,
                "directed": false
              },
              {
                "id": 226,
                "start": 28,
                "end": 27,
                "properties": {
                  "cost": 5273,
                  "weight": 427,
                  "label": "POSSIBLE_COMPATIBILITY"
                },
                "label": "POSSIBLE_COMPATIBILITY",
                "color": "red",
                "thickness_factor": 1,
                "directed": false
              },
              {
                "id": 227,
                "start": 28,
                "end": 36,
                "properties": {
                  "cost": 5273,
                  "weight": 427,
                  "label": "POSSIBLE_COMPATIBILITY"
                },
                "label": "POSSIBLE_COMPATIBILITY",
                "color": "red",
                "thickness_factor": 1,
                "directed": false
              },
              {
                "id": 223,
                "start": 28,
                "end": 0,
                "properties": {
                  "cost": 5273,
                  "weight": 427,
                  "label": "POSSIBLE_COMPATIBILITY"
                },
                "label": "POSSIBLE_COMPATIBILITY",
                "color": "red",
                "thickness_factor": 1,
                "directed": false
              },
              {
                "id": 242,
                "start": 29,
                "end": 10,
                "properties": {
                  "cost": 574,
                  "weight": 145,
                  "label": "POSSIBLE_COMPATIBILITY"
                },
                "label": "POSSIBLE_COMPATIBILITY",
                "color": "red",
                "thickness_factor": 1,
                "directed": false
              },
              {
                "id": 243,
                "start": 29,
                "end": 19,
                "properties": {
                  "cost": 574,
                  "weight": 145,
                  "label": "POSSIBLE_COMPATIBILITY"
                },
                "label": "POSSIBLE_COMPATIBILITY",
                "color": "red",
                "thickness_factor": 1,
                "directed": false
              },
              {
                "id": 244,
                "start": 29,
                "end": 28,
                "properties": {
                  "cost": 574,
                  "weight": 145,
                  "label": "POSSIBLE_COMPATIBILITY"
                },
                "label": "POSSIBLE_COMPATIBILITY",
                "color": "red",
                "thickness_factor": 1,
                "directed": false
              },
              {
                "id": 241,
                "start": 29,
                "end": 1,
                "properties": {
                  "cost": 574,
                  "weight": 145,
                  "label": "POSSIBLE_COMPATIBILITY"
                },
                "label": "POSSIBLE_COMPATIBILITY",
                "color": "red",
                "thickness_factor": 1,
                "directed": false
              },
              {
                "id": 245,
                "start": 29,
                "end": 37,
                "properties": {
                  "cost": 574,
                  "weight": 145,
                  "label": "POSSIBLE_COMPATIBILITY"
                },
                "label": "POSSIBLE_COMPATIBILITY",
                "color": "red",
                "thickness_factor": 1,
                "directed": false
              },
              {
                "id": 265,
                "start": 30,
                "end": 28,
                "properties": {
                  "cost": 1936,
                  "weight": 314,
                  "label": "POSSIBLE_COMPATIBILITY"
                },
                "label": "POSSIBLE_COMPATIBILITY",
                "color": "red",
                "thickness_factor": 1,
                "directed": false
              },
              {
                "id": 264,
                "start": 30,
                "end": 19,
                "properties": {
                  "cost": 1936,
                  "weight": 314,
                  "label": "POSSIBLE_COMPATIBILITY"
                },
                "label": "POSSIBLE_COMPATIBILITY",
                "color": "red",
                "thickness_factor": 1,
                "directed": false
              },
              {
                "id": 263,
                "start": 30,
                "end": 10,
                "properties": {
                  "cost": 1936,
                  "weight": 314,
                  "label": "POSSIBLE_COMPATIBILITY"
                },
                "label": "POSSIBLE_COMPATIBILITY",
                "color": "red",
                "thickness_factor": 1,
                "directed": false
              },
              {
                "id": 262,
                "start": 30,
                "end": 1,
                "properties": {
                  "cost": 1936,
                  "weight": 314,
                  "label": "POSSIBLE_COMPATIBILITY"
                },
                "label": "POSSIBLE_COMPATIBILITY",
                "color": "red",
                "thickness_factor": 1,
                "directed": false
              },
              {
                "id": 266,
                "start": 30,
                "end": 37,
                "properties": {
                  "cost": 1936,
                  "weight": 314,
                  "label": "POSSIBLE_COMPATIBILITY"
                },
                "label": "POSSIBLE_COMPATIBILITY",
                "color": "red",
                "thickness_factor": 1,
                "directed": false
              },
              {
                "id": 315,
                "start": 31,
                "end": 32,
                "properties": {
                  "cost": 199,
                  "weight": 225,
                  "label": "POSSIBLE_COMPATIBILITY"
                },
                "label": "POSSIBLE_COMPATIBILITY",
                "color": "red",
                "thickness_factor": 1,
                "directed": false
              },
              {
                "id": 305,
                "start": 31,
                "end": 14,
                "properties": {
                  "cost": 199,
                  "weight": 225,
                  "label": "POSSIBLE_COMPATIBILITY"
                },
                "label": "POSSIBLE_COMPATIBILITY",
                "color": "red",
                "thickness_factor": 1,
                "directed": false
              },
              {
                "id": 310,
                "start": 31,
                "end": 23,
                "properties": {
                  "cost": 199,
                  "weight": 225,
                  "label": "POSSIBLE_COMPATIBILITY"
                },
                "label": "POSSIBLE_COMPATIBILITY",
                "color": "red",
                "thickness_factor": 1,
                "directed": false
              },
              {
                "id": 300,
                "start": 31,
                "end": 5,
                "properties": {
                  "cost": 199,
                  "weight": 225,
                  "label": "POSSIBLE_COMPATIBILITY"
                },
                "label": "POSSIBLE_COMPATIBILITY",
                "color": "red",
                "thickness_factor": 1,
                "directed": false
              },
              {
                "id": 320,
                "start": 31,
                "end": 41,
                "properties": {
                  "cost": 199,
                  "weight": 225,
                  "label": "POSSIBLE_COMPATIBILITY"
                },
                "label": "POSSIBLE_COMPATIBILITY",
                "color": "red",
                "thickness_factor": 1,
                "directed": false
              },
              {
                "id": 337,
                "start": 32,
                "end": 3,
                "properties": {
                  "cost": 918,
                  "weight": 113,
                  "label": "POSSIBLE_COMPATIBILITY"
                },
                "label": "POSSIBLE_COMPATIBILITY",
                "color": "red",
                "thickness_factor": 1,
                "directed": false
              },
              {
                "id": 341,
                "start": 32,
                "end": 39,
                "properties": {
                  "cost": 918,
                  "weight": 113,
                  "label": "POSSIBLE_COMPATIBILITY"
                },
                "label": "POSSIBLE_COMPATIBILITY",
                "color": "red",
                "thickness_factor": 1,
                "directed": false
              },
              {
                "id": 338,
                "start": 32,
                "end": 12,
                "properties": {
                  "cost": 918,
                  "weight": 113,
                  "label": "POSSIBLE_COMPATIBILITY"
                },
                "label": "POSSIBLE_COMPATIBILITY",
                "color": "red",
                "thickness_factor": 1,
                "directed": false
              },
              {
                "id": 340,
                "start": 32,
                "end": 30,
                "properties": {
                  "cost": 918,
                  "weight": 113,
                  "label": "POSSIBLE_COMPATIBILITY"
                },
                "label": "POSSIBLE_COMPATIBILITY",
                "color": "red",
                "thickness_factor": 1,
                "directed": false
              },
              {
                "id": 339,
                "start": 32,
                "end": 21,
                "properties": {
                  "cost": 918,
                  "weight": 113,
                  "label": "POSSIBLE_COMPATIBILITY"
                },
                "label": "POSSIBLE_COMPATIBILITY",
                "color": "red",
                "thickness_factor": 1,
                "directed": false
              },
              {
                "id": 291,
                "start": 33,
                "end": 39,
                "properties": {
                  "cost": 16,
                  "weight": 375,
                  "label": "POSSIBLE_COMPATIBILITY"
                },
                "label": "POSSIBLE_COMPATIBILITY",
                "color": "red",
                "thickness_factor": 1,
                "directed": false
              },
              {
                "id": 287,
                "start": 33,
                "end": 3,
                "properties": {
                  "cost": 16,
                  "weight": 375,
                  "label": "POSSIBLE_COMPATIBILITY"
                },
                "label": "POSSIBLE_COMPATIBILITY",
                "color": "red",
                "thickness_factor": 1,
                "directed": false
              },
              {
                "id": 290,
                "start": 33,
                "end": 30,
                "properties": {
                  "cost": 16,
                  "weight": 375,
                  "label": "POSSIBLE_COMPATIBILITY"
                },
                "label": "POSSIBLE_COMPATIBILITY",
                "color": "red",
                "thickness_factor": 1,
                "directed": false
              },
              {
                "id": 289,
                "start": 33,
                "end": 21,
                "properties": {
                  "cost": 16,
                  "weight": 375,
                  "label": "POSSIBLE_COMPATIBILITY"
                },
                "label": "POSSIBLE_COMPATIBILITY",
                "color": "red",
                "thickness_factor": 1,
                "directed": false
              },
              {
                "id": 288,
                "start": 33,
                "end": 12,
                "properties": {
                  "cost": 16,
                  "weight": 375,
                  "label": "POSSIBLE_COMPATIBILITY"
                },
                "label": "POSSIBLE_COMPATIBILITY",
                "color": "red",
                "thickness_factor": 1,
                "directed": false
              },
              {
                "id": 365,
                "start": 34,
                "end": 30,
                "properties": {
                  "cost": 19,
                  "weight": 260,
                  "label": "POSSIBLE_COMPATIBILITY"
                },
                "label": "POSSIBLE_COMPATIBILITY",
                "color": "red",
                "thickness_factor": 1,
                "directed": false
              },
              {
                "id": 363,
                "start": 34,
                "end": 12,
                "properties": {
                  "cost": 19,
                  "weight": 260,
                  "label": "POSSIBLE_COMPATIBILITY"
                },
                "label": "POSSIBLE_COMPATIBILITY",
                "color": "red",
                "thickness_factor": 1,
                "directed": false
              },
              {
                "id": 366,
                "start": 34,
                "end": 39,
                "properties": {
                  "cost": 19,
                  "weight": 260,
                  "label": "POSSIBLE_COMPATIBILITY"
                },
                "label": "POSSIBLE_COMPATIBILITY",
                "color": "red",
                "thickness_factor": 1,
                "directed": false
              },
              {
                "id": 364,
                "start": 34,
                "end": 21,
                "properties": {
                  "cost": 19,
                  "weight": 260,
                  "label": "POSSIBLE_COMPATIBILITY"
                },
                "label": "POSSIBLE_COMPATIBILITY",
                "color": "red",
                "thickness_factor": 1,
                "directed": false
              },
              {
                "id": 362,
                "start": 34,
                "end": 3,
                "properties": {
                  "cost": 19,
                  "weight": 260,
                  "label": "POSSIBLE_COMPATIBILITY"
                },
                "label": "POSSIBLE_COMPATIBILITY",
                "color": "red",
                "thickness_factor": 1,
                "directed": false
              },
              {
                "id": 380,
                "start": 35,
                "end": 34,
                "properties": {
                  "cost": 18,
                  "weight": 458,
                  "label": "POSSIBLE_COMPATIBILITY"
                },
                "label": "POSSIBLE_COMPATIBILITY",
                "color": "red",
                "thickness_factor": 1,
                "directed": false
              },
              {
                "id": 376,
                "start": 35,
                "end": 25,
                "properties": {
                  "cost": 18,
                  "weight": 458,
                  "label": "POSSIBLE_COMPATIBILITY"
                },
                "label": "POSSIBLE_COMPATIBILITY",
                "color": "red",
                "thickness_factor": 1,
                "directed": false
              },
              {
                "id": 230,
                "start": 37,
                "end": 18,
                "properties": {
                  "cost": 4196,
                  "weight": 487,
                  "label": "POSSIBLE_COMPATIBILITY"
                },
                "label": "POSSIBLE_COMPATIBILITY",
                "color": "red",
                "thickness_factor": 1,
                "directed": false
              },
              {
                "id": 229,
                "start": 37,
                "end": 9,
                "properties": {
                  "cost": 4196,
                  "weight": 487,
                  "label": "POSSIBLE_COMPATIBILITY"
                },
                "label": "POSSIBLE_COMPATIBILITY",
                "color": "red",
                "thickness_factor": 1,
                "directed": false
              },
              {
                "id": 231,
                "start": 37,
                "end": 27,
                "properties": {
                  "cost": 4196,
                  "weight": 487,
                  "label": "POSSIBLE_COMPATIBILITY"
                },
                "label": "POSSIBLE_COMPATIBILITY",
                "color": "red",
                "thickness_factor": 1,
                "directed": false
              },
              {
                "id": 232,
                "start": 37,
                "end": 36,
                "properties": {
                  "cost": 4196,
                  "weight": 487,
                  "label": "POSSIBLE_COMPATIBILITY"
                },
                "label": "POSSIBLE_COMPATIBILITY",
                "color": "red",
                "thickness_factor": 1,
                "directed": false
              },
              {
                "id": 228,
                "start": 37,
                "end": 0,
                "properties": {
                  "cost": 4196,
                  "weight": 487,
                  "label": "POSSIBLE_COMPATIBILITY"
                },
                "label": "POSSIBLE_COMPATIBILITY",
                "color": "red",
                "thickness_factor": 1,
                "directed": false
              },
              {
                "id": 246,
                "start": 38,
                "end": 10,
                "properties": {
                  "cost": 505,
                  "weight": 110,
                  "label": "POSSIBLE_COMPATIBILITY"
                },
                "label": "POSSIBLE_COMPATIBILITY",
                "color": "red",
                "thickness_factor": 1,
                "directed": false
              },
              {
                "id": 268,
                "start": 39,
                "end": 10,
                "properties": {
                  "cost": 1347,
                  "weight": 275,
                  "label": "POSSIBLE_COMPATIBILITY"
                },
                "label": "POSSIBLE_COMPATIBILITY",
                "color": "red",
                "thickness_factor": 1,
                "directed": false
              },
              {
                "id": 271,
                "start": 39,
                "end": 37,
                "properties": {
                  "cost": 1347,
                  "weight": 275,
                  "label": "POSSIBLE_COMPATIBILITY"
                },
                "label": "POSSIBLE_COMPATIBILITY",
                "color": "red",
                "thickness_factor": 1,
                "directed": false
              },
              {
                "id": 267,
                "start": 39,
                "end": 1,
                "properties": {
                  "cost": 1347,
                  "weight": 275,
                  "label": "POSSIBLE_COMPATIBILITY"
                },
                "label": "POSSIBLE_COMPATIBILITY",
                "color": "red",
                "thickness_factor": 1,
                "directed": false
              },
              {
                "id": 270,
                "start": 39,
                "end": 28,
                "properties": {
                  "cost": 1347,
                  "weight": 275,
                  "label": "POSSIBLE_COMPATIBILITY"
                },
                "label": "POSSIBLE_COMPATIBILITY",
                "color": "red",
                "thickness_factor": 1,
                "directed": false
              },
              {
                "id": 269,
                "start": 39,
                "end": 19,
                "properties": {
                  "cost": 1347,
                  "weight": 275,
                  "label": "POSSIBLE_COMPATIBILITY"
                },
                "label": "POSSIBLE_COMPATIBILITY",
                "color": "red",
                "thickness_factor": 1,
                "directed": false
              },
              {
                "id": 306,
                "start": 40,
                "end": 14,
                "properties": {
                  "cost": 715,
                  "weight": 196,
                  "label": "POSSIBLE_COMPATIBILITY"
                },
                "label": "POSSIBLE_COMPATIBILITY",
                "color": "red",
                "thickness_factor": 1,
                "directed": false
              },
              {
                "id": 321,
                "start": 40,
                "end": 41,
                "properties": {
                  "cost": 715,
                  "weight": 196,
                  "label": "POSSIBLE_COMPATIBILITY"
                },
                "label": "POSSIBLE_COMPATIBILITY",
                "color": "red",
                "thickness_factor": 1,
                "directed": false
              },
              {
                "id": 316,
                "start": 40,
                "end": 32,
                "properties": {
                  "cost": 715,
                  "weight": 196,
                  "label": "POSSIBLE_COMPATIBILITY"
                },
                "label": "POSSIBLE_COMPATIBILITY",
                "color": "red",
                "thickness_factor": 1,
                "directed": false
              },
              {
                "id": 311,
                "start": 40,
                "end": 23,
                "properties": {
                  "cost": 715,
                  "weight": 196,
                  "label": "POSSIBLE_COMPATIBILITY"
                },
                "label": "POSSIBLE_COMPATIBILITY",
                "color": "red",
                "thickness_factor": 1,
                "directed": false
              },
              {
                "id": 301,
                "start": 40,
                "end": 5,
                "properties": {
                  "cost": 715,
                  "weight": 196,
                  "label": "POSSIBLE_COMPATIBILITY"
                },
                "label": "POSSIBLE_COMPATIBILITY",
                "color": "red",
                "thickness_factor": 1,
                "directed": false
              },
              {
                "id": 346,
                "start": 41,
                "end": 39,
                "properties": {
                  "cost": 1967,
                  "weight": 142,
                  "label": "POSSIBLE_COMPATIBILITY"
                },
                "label": "POSSIBLE_COMPATIBILITY",
                "color": "red",
                "thickness_factor": 1,
                "directed": false
              },
              {
                "id": 344,
                "start": 41,
                "end": 21,
                "properties": {
                  "cost": 1967,
                  "weight": 142,
                  "label": "POSSIBLE_COMPATIBILITY"
                },
                "label": "POSSIBLE_COMPATIBILITY",
                "color": "red",
                "thickness_factor": 1,
                "directed": false
              },
              {
                "id": 343,
                "start": 41,
                "end": 12,
                "properties": {
                  "cost": 1967,
                  "weight": 142,
                  "label": "POSSIBLE_COMPATIBILITY"
                },
                "label": "POSSIBLE_COMPATIBILITY",
                "color": "red",
                "thickness_factor": 1,
                "directed": false
              },
              {
                "id": 345,
                "start": 41,
                "end": 30,
                "properties": {
                  "cost": 1967,
                  "weight": 142,
                  "label": "POSSIBLE_COMPATIBILITY"
                },
                "label": "POSSIBLE_COMPATIBILITY",
                "color": "red",
                "thickness_factor": 1,
                "directed": false
              },
              {
                "id": 342,
                "start": 41,
                "end": 3,
                "properties": {
                  "cost": 1967,
                  "weight": 142,
                  "label": "POSSIBLE_COMPATIBILITY"
                },
                "label": "POSSIBLE_COMPATIBILITY",
                "color": "red",
                "thickness_factor": 1,
                "directed": false
              },
              {
                "id": 296,
                "start": 42,
                "end": 39,
                "properties": {
                  "cost": 12,
                  "weight": 217,
                  "label": "POSSIBLE_COMPATIBILITY"
                },
                "label": "POSSIBLE_COMPATIBILITY",
                "color": "red",
                "thickness_factor": 1,
                "directed": false
              },
              {
                "id": 295,
                "start": 42,
                "end": 30,
                "properties": {
                  "cost": 12,
                  "weight": 217,
                  "label": "POSSIBLE_COMPATIBILITY"
                },
                "label": "POSSIBLE_COMPATIBILITY",
                "color": "red",
                "thickness_factor": 1,
                "directed": false
              },
              {
                "id": 292,
                "start": 42,
                "end": 3,
                "properties": {
                  "cost": 12,
                  "weight": 217,
                  "label": "POSSIBLE_COMPATIBILITY"
                },
                "label": "POSSIBLE_COMPATIBILITY",
                "color": "red",
                "thickness_factor": 1,
                "directed": false
              },
              {
                "id": 294,
                "start": 42,
                "end": 21,
                "properties": {
                  "cost": 12,
                  "weight": 217,
                  "label": "POSSIBLE_COMPATIBILITY"
                },
                "label": "POSSIBLE_COMPATIBILITY",
                "color": "red",
                "thickness_factor": 1,
                "directed": false
              },
              {
                "id": 293,
                "start": 42,
                "end": 12,
                "properties": {
                  "cost": 12,
                  "weight": 217,
                  "label": "POSSIBLE_COMPATIBILITY"
                },
                "label": "POSSIBLE_COMPATIBILITY",
                "color": "red",
                "thickness_factor": 1,
                "directed": false
              },
              {
                "id": 371,
                "start": 43,
                "end": 39,
                "properties": {
                  "cost": 24,
                  "weight": 324,
                  "label": "POSSIBLE_COMPATIBILITY"
                },
                "label": "POSSIBLE_COMPATIBILITY",
                "color": "red",
                "thickness_factor": 1,
                "directed": false
              },
              {
                "id": 367,
                "start": 43,
                "end": 3,
                "properties": {
                  "cost": 24,
                  "weight": 324,
                  "label": "POSSIBLE_COMPATIBILITY"
                },
                "label": "POSSIBLE_COMPATIBILITY",
                "color": "red",
                "thickness_factor": 1,
                "directed": false
              },
              {
                "id": 368,
                "start": 43,
                "end": 12,
                "properties": {
                  "cost": 24,
                  "weight": 324,
                  "label": "POSSIBLE_COMPATIBILITY"
                },
                "label": "POSSIBLE_COMPATIBILITY",
                "color": "red",
                "thickness_factor": 1,
                "directed": false
              },
              {
                "id": 370,
                "start": 43,
                "end": 30,
                "properties": {
                  "cost": 24,
                  "weight": 324,
                  "label": "POSSIBLE_COMPATIBILITY"
                },
                "label": "POSSIBLE_COMPATIBILITY",
                "color": "red",
                "thickness_factor": 1,
                "directed": false
              },
              {
                "id": 369,
                "start": 43,
                "end": 21,
                "properties": {
                  "cost": 24,
                  "weight": 324,
                  "label": "POSSIBLE_COMPATIBILITY"
                },
                "label": "POSSIBLE_COMPATIBILITY",
                "color": "red",
                "thickness_factor": 1,
                "directed": false
              },
              {
                "id": 381,
                "start": 44,
                "end": 34,
                "properties": {
                  "cost": 14,
                  "weight": 499,
                  "label": "POSSIBLE_COMPATIBILITY"
                },
                "label": "POSSIBLE_COMPATIBILITY",
                "color": "red",
                "thickness_factor": 1,
                "directed": false
              },
              {
                "id": 377,
                "start": 44,
                "end": 25,
                "properties": {
                  "cost": 14,
                  "weight": 499,
                  "label": "POSSIBLE_COMPATIBILITY"
                },
                "label": "POSSIBLE_COMPATIBILITY",
                "color": "red",
                "thickness_factor": 1,
                "directed": false
              }
            ],
            "_graph_layout": {
              "algorithm": "radial",
              "options": {}
            },
            "_highlight": [],
            "_model_module": "yfiles-jupyter-graphs",
            "_model_module_version": "^1.4.5",
            "_model_name": "GraphModel",
            "_neighborhood": {},
            "_nodes": [
              {
                "id": 0,
                "properties": {
                  "name": "Ut Skateboard",
                  "sku": "CC-BKNGFC",
                  "category": "skateboard",
                  "label": "Part"
                },
                "label": "CC-BKNGFC - Ut Skateboard",
                "color": "red",
                "styles": {},
                "scale_factor": 1,
                "type": null,
                "position": [
                  0,
                  0
                ]
              },
              {
                "id": 1,
                "properties": {
                  "cost": 4792,
                  "material": "wood",
                  "durability": 63,
                  "name": "Accusamus Deck",
                  "width": 6.5,
                  "weight": 167,
                  "sku": "ML-NIOXZW",
                  "category": "deck",
                  "label": "Part"
                },
                "label": "ML-NIOXZW - Accusamus Deck",
                "color": "orange",
                "styles": {},
                "scale_factor": 1,
                "type": null,
                "position": [
                  0,
                  0
                ]
              },
              {
                "id": 9,
                "properties": {
                  "name": "Autem Skateboard",
                  "sku": "WP-HOIKSW",
                  "category": "skateboard",
                  "label": "Part"
                },
                "label": "WP-HOIKSW - Autem Skateboard",
                "color": "red",
                "styles": {},
                "scale_factor": 1,
                "type": null,
                "position": [
                  0,
                  0
                ]
              },
              {
                "id": 27,
                "properties": {
                  "name": "Sit Skateboard",
                  "sku": "HN-GTJTME",
                  "category": "skateboard",
                  "label": "Part"
                },
                "label": "HN-GTJTME - Sit Skateboard",
                "color": "red",
                "styles": {},
                "scale_factor": 1,
                "type": null,
                "position": [
                  0,
                  0
                ]
              },
              {
                "id": 18,
                "properties": {
                  "name": "Quam Skateboard",
                  "sku": "RQ-MLKLDQ",
                  "category": "skateboard",
                  "label": "Part"
                },
                "label": "RQ-MLKLDQ - Quam Skateboard",
                "color": "red",
                "styles": {},
                "scale_factor": 1,
                "type": null,
                "position": [
                  0,
                  0
                ]
              },
              {
                "id": 36,
                "properties": {
                  "name": "Omnis Skateboard",
                  "sku": "DR-KEIOCJ",
                  "category": "skateboard",
                  "label": "Part"
                },
                "label": "DR-KEIOCJ - Omnis Skateboard",
                "color": "red",
                "styles": {},
                "scale_factor": 1,
                "type": null,
                "position": [
                  0,
                  0
                ]
              },
              {
                "id": 3,
                "properties": {
                  "cost": 2214,
                  "material": "steel",
                  "durability": 130,
                  "name": "Perspiciatis Truck",
                  "weight": 395,
                  "hanger_length": 5,
                  "sku": "LF-YLLEAY",
                  "category": "truck",
                  "axle_length": 8,
                  "label": "Part"
                },
                "label": "LF-YLLEAY - Perspiciatis Truck",
                "color": "purple",
                "styles": {},
                "scale_factor": 1,
                "type": null,
                "position": [
                  0,
                  0
                ]
              },
              {
                "id": 2,
                "properties": {
                  "cost": 683,
                  "material": "plastic",
                  "durability": 98,
                  "length": 29,
                  "width": 7,
                  "name": "Officia Grip_Tape",
                  "weight": 307,
                  "sku": "PT-AWUFQH",
                  "category": "grip_tape",
                  "label": "Part"
                },
                "label": "PT-AWUFQH - Officia Grip_Tape",
                "color": "blue",
                "styles": {},
                "scale_factor": 1,
                "type": null,
                "position": [
                  0,
                  0
                ]
              },
              {
                "id": 10,
                "properties": {
                  "cost": 5093,
                  "material": "plastic",
                  "durability": 191,
                  "name": "Minus Deck",
                  "width": 8,
                  "weight": 480,
                  "category": "deck",
                  "sku": "TO-RLAAIG",
                  "label": "Part"
                },
                "label": "TO-RLAAIG - Minus Deck",
                "color": "orange",
                "styles": {},
                "scale_factor": 1,
                "type": null,
                "position": [
                  0,
                  0
                ]
              },
              {
                "id": 28,
                "properties": {
                  "cost": 5273,
                  "material": "plastic",
                  "durability": 154,
                  "name": "Veritatis Deck",
                  "width": 7,
                  "weight": 427,
                  "category": "deck",
                  "sku": "UH-NIZYLW",
                  "label": "Part"
                },
                "label": "UH-NIZYLW - Veritatis Deck",
                "color": "orange",
                "styles": {},
                "scale_factor": 1,
                "type": null,
                "position": [
                  0,
                  0
                ]
              },
              {
                "id": 19,
                "properties": {
                  "cost": 6825,
                  "material": "plastic",
                  "durability": 207,
                  "name": "Corrupti Deck",
                  "width": 7,
                  "weight": 304,
                  "category": "deck",
                  "sku": "IQ-LWRZVO",
                  "label": "Part"
                },
                "label": "IQ-LWRZVO - Corrupti Deck",
                "color": "orange",
                "styles": {},
                "scale_factor": 1,
                "type": null,
                "position": [
                  0,
                  0
                ]
              },
              {
                "id": 37,
                "properties": {
                  "cost": 4196,
                  "material": "plastic",
                  "durability": 169,
                  "name": "Delectus Deck",
                  "width": 6,
                  "weight": 487,
                  "category": "deck",
                  "sku": "RD-IKMVJD",
                  "label": "Part"
                },
                "label": "RD-IKMVJD - Delectus Deck",
                "color": "orange",
                "styles": {},
                "scale_factor": 1,
                "type": null,
                "position": [
                  0,
                  0
                ]
              },
              {
                "id": 5,
                "properties": {
                  "hardness": 96,
                  "cost": 1328,
                  "material": "rubber",
                  "diameter": 49,
                  "durability": 88,
                  "name": "Perspiciatis Wheel",
                  "weight": 344,
                  "bearing_diameter": 22,
                  "sku": "OR-GEVRWQ",
                  "category": "wheel",
                  "bearing_width": 7,
                  "label": "Part"
                },
                "label": "OR-GEVRWQ - Perspiciatis Wheel",
                "color": "yellow",
                "styles": {},
                "scale_factor": 1,
                "type": null,
                "position": [
                  0,
                  0
                ]
              },
              {
                "id": 7,
                "properties": {
                  "cost": 19,
                  "color": "gold",
                  "material": "steel",
                  "durability": 190,
                  "length": 5.08,
                  "name": "Placeat Bolt",
                  "weight": 419,
                  "thread": "10x32",
                  "sku": "YW-UOJWUF",
                  "category": "bolt",
                  "label": "Part"
                },
                "label": "YW-UOJWUF - Placeat Bolt",
                "color": "grey",
                "styles": {},
                "scale_factor": 1,
                "type": null,
                "position": [
                  0,
                  0
                ]
              },
              {
                "id": 6,
                "properties": {
                  "cost": 21,
                  "material": "steel",
                  "durability": 242,
                  "name": "Molestias Axle_Lock_Nut",
                  "weight": 221,
                  "category": "axle_lock_nut",
                  "sku": "HU-ZNPXTJ",
                  "label": "Part"
                },
                "label": "HU-ZNPXTJ - Molestias Axle_Lock_Nut",
                "color": "pink",
                "styles": {},
                "scale_factor": 1,
                "type": null,
                "position": [
                  0,
                  0
                ]
              },
              {
                "id": 4,
                "properties": {
                  "inner_diameter": 8,
                  "abec": 5,
                  "cost": 153,
                  "material": "ceramic",
                  "thickness": 7,
                  "durability": 244,
                  "name": "Repellendus Bearing",
                  "outer_diameter": 22,
                  "weight": 290,
                  "category": "bearing",
                  "sku": "NW-NJCRQB",
                  "label": "Part"
                },
                "label": "NW-NJCRQB - Repellendus Bearing",
                "color": "green",
                "styles": {},
                "scale_factor": 1,
                "type": null,
                "position": [
                  0,
                  0
                ]
              },
              {
                "id": 14,
                "properties": {
                  "hardness": 96,
                  "cost": 457,
                  "material": "plastic",
                  "diameter": 55,
                  "durability": 177,
                  "name": "In Wheel",
                  "weight": 356,
                  "bearing_diameter": 22,
                  "category": "wheel",
                  "sku": "RU-BFNJUS",
                  "bearing_width": 7,
                  "label": "Part"
                },
                "label": "RU-BFNJUS - In Wheel",
                "color": "yellow",
                "styles": {},
                "scale_factor": 1,
                "type": null,
                "position": [
                  0,
                  0
                ]
              },
              {
                "id": 32,
                "properties": {
                  "hardness": 88,
                  "cost": 918,
                  "material": "rubber",
                  "diameter": 49,
                  "durability": 218,
                  "name": "Eaque Wheel",
                  "weight": 113,
                  "bearing_diameter": 22,
                  "category": "wheel",
                  "sku": "VP-AHNSVK",
                  "bearing_width": 7,
                  "label": "Part"
                },
                "label": "VP-AHNSVK - Eaque Wheel",
                "color": "yellow",
                "styles": {},
                "scale_factor": 1,
                "type": null,
                "position": [
                  0,
                  0
                ]
              },
              {
                "id": 41,
                "properties": {
                  "hardness": 96,
                  "cost": 1967,
                  "material": "plastic",
                  "diameter": 60,
                  "durability": 96,
                  "name": "Fugit Wheel",
                  "weight": 142,
                  "bearing_diameter": 22,
                  "category": "wheel",
                  "sku": "GR-VPDPNH",
                  "bearing_width": 7,
                  "label": "Part"
                },
                "label": "GR-VPDPNH - Fugit Wheel",
                "color": "yellow",
                "styles": {},
                "scale_factor": 1,
                "type": null,
                "position": [
                  0,
                  0
                ]
              },
              {
                "id": 23,
                "properties": {
                  "hardness": 101,
                  "cost": 383,
                  "material": "rubber",
                  "diameter": 65,
                  "durability": 203,
                  "name": "Suscipit Wheel",
                  "weight": 235,
                  "bearing_diameter": 22,
                  "category": "wheel",
                  "sku": "ON-WWUMYA",
                  "bearing_width": 7,
                  "label": "Part"
                },
                "label": "ON-WWUMYA - Suscipit Wheel",
                "color": "yellow",
                "styles": {},
                "scale_factor": 1,
                "type": null,
                "position": [
                  0,
                  0
                ]
              },
              {
                "id": 39,
                "properties": {
                  "cost": 1347,
                  "material": "steel",
                  "durability": 183,
                  "name": "A Truck",
                  "weight": 275,
                  "hanger_length": 5,
                  "sku": "CP-UBSRWX",
                  "category": "truck",
                  "axle_length": 7.75,
                  "label": "Part"
                },
                "label": "CP-UBSRWX - A Truck",
                "color": "purple",
                "styles": {},
                "scale_factor": 1,
                "type": null,
                "position": [
                  0,
                  0
                ]
              },
              {
                "id": 21,
                "properties": {
                  "cost": 2864,
                  "material": "steel",
                  "durability": 93,
                  "name": "Molestias Truck",
                  "weight": 302,
                  "hanger_length": 5,
                  "sku": "SZ-FTRVCP",
                  "category": "truck",
                  "axle_length": 7.75,
                  "label": "Part"
                },
                "label": "SZ-FTRVCP - Molestias Truck",
                "color": "purple",
                "styles": {},
                "scale_factor": 1,
                "type": null,
                "position": [
                  0,
                  0
                ]
              },
              {
                "id": 30,
                "properties": {
                  "cost": 1936,
                  "material": "steel",
                  "durability": 109,
                  "name": "Sit Truck",
                  "weight": 314,
                  "hanger_length": 5.5,
                  "sku": "YQ-BMSVPQ",
                  "category": "truck",
                  "axle_length": 8,
                  "label": "Part"
                },
                "label": "YQ-BMSVPQ - Sit Truck",
                "color": "purple",
                "styles": {},
                "scale_factor": 1,
                "type": null,
                "position": [
                  0,
                  0
                ]
              },
              {
                "id": 12,
                "properties": {
                  "cost": 1046,
                  "material": "steel",
                  "durability": 140,
                  "name": "Voluptate Truck",
                  "weight": 141,
                  "hanger_length": 5.5,
                  "category": "truck",
                  "sku": "SU-UYVSNC",
                  "axle_length": 7.75,
                  "label": "Part"
                },
                "label": "SU-UYVSNC - Voluptate Truck",
                "color": "purple",
                "styles": {},
                "scale_factor": 1,
                "type": null,
                "position": [
                  0,
                  0
                ]
              },
              {
                "id": 8,
                "properties": {
                  "cost": 26,
                  "color": "black",
                  "material": "steel",
                  "durability": 144,
                  "name": "Earum Nut",
                  "weight": 263,
                  "thread": "10x32",
                  "sku": "JZ-ANUNFX",
                  "category": "nut",
                  "label": "Part"
                },
                "label": "JZ-ANUNFX - Earum Nut",
                "color": "cyan",
                "styles": {},
                "scale_factor": 1,
                "type": null,
                "position": [
                  0,
                  0
                ]
              },
              {
                "id": 34,
                "properties": {
                  "cost": 19,
                  "color": "black",
                  "material": "steel",
                  "durability": 111,
                  "length": 2.54,
                  "name": "Quam Bolt",
                  "weight": 260,
                  "thread": "10x32",
                  "sku": "PB-BSMWYI",
                  "category": "bolt",
                  "label": "Part"
                },
                "label": "PB-BSMWYI - Quam Bolt",
                "color": "grey",
                "styles": {},
                "scale_factor": 1,
                "type": null,
                "position": [
                  0,
                  0
                ]
              },
              {
                "id": 25,
                "properties": {
                  "cost": 26,
                  "color": "black",
                  "material": "steel",
                  "durability": 132,
                  "length": 5.08,
                  "name": "Corporis Bolt",
                  "weight": 244,
                  "thread": "10x32",
                  "sku": "ZH-EIQAFS",
                  "category": "bolt",
                  "label": "Part"
                },
                "label": "ZH-EIQAFS - Corporis Bolt",
                "color": "grey",
                "styles": {},
                "scale_factor": 1,
                "type": null,
                "position": [
                  0,
                  0
                ]
              },
              {
                "id": 11,
                "properties": {
                  "cost": 541,
                  "material": "paper",
                  "durability": 114,
                  "length": 32,
                  "width": 6.5,
                  "name": "Cum Grip_Tape",
                  "weight": 387,
                  "category": "grip_tape",
                  "sku": "KV-OGUAOD",
                  "label": "Part"
                },
                "label": "KV-OGUAOD - Cum Grip_Tape",
                "color": "blue",
                "styles": {},
                "scale_factor": 1,
                "type": null,
                "position": [
                  0,
                  0
                ]
              },
              {
                "id": 13,
                "properties": {
                  "inner_diameter": 8,
                  "abec": 9,
                  "cost": 608,
                  "material": "ceramic",
                  "thickness": 7,
                  "durability": 214,
                  "name": "Facere Bearing",
                  "weight": 301,
                  "outer_diameter": 22,
                  "category": "bearing",
                  "sku": "ZA-XETODE",
                  "label": "Part"
                },
                "label": "ZA-XETODE - Facere Bearing",
                "color": "green",
                "styles": {},
                "scale_factor": 1,
                "type": null,
                "position": [
                  0,
                  0
                ]
              },
              {
                "id": 15,
                "properties": {
                  "cost": 14,
                  "material": "steel",
                  "durability": 187,
                  "name": "Nostrum Axle_Lock_Nut",
                  "weight": 374,
                  "category": "axle_lock_nut",
                  "sku": "BW-YXECIC",
                  "label": "Part"
                },
                "label": "BW-YXECIC - Nostrum Axle_Lock_Nut",
                "color": "pink",
                "styles": {},
                "scale_factor": 1,
                "type": null,
                "position": [
                  0,
                  0
                ]
              },
              {
                "id": 16,
                "properties": {
                  "cost": 19,
                  "color": "gold",
                  "material": "steel",
                  "durability": 190,
                  "length": 2.54,
                  "name": "Magni Bolt",
                  "weight": 417,
                  "thread": "10x32",
                  "sku": "ID-VISJTN",
                  "category": "bolt",
                  "label": "Part"
                },
                "label": "ID-VISJTN - Magni Bolt",
                "color": "grey",
                "styles": {},
                "scale_factor": 1,
                "type": null,
                "position": [
                  0,
                  0
                ]
              },
              {
                "id": 17,
                "properties": {
                  "cost": 18,
                  "color": "black",
                  "material": "steel",
                  "durability": 66,
                  "name": "Et Nut",
                  "weight": 136,
                  "thread": "10x32",
                  "sku": "MB-HTDZQF",
                  "category": "nut",
                  "label": "Part"
                },
                "label": "MB-HTDZQF - Et Nut",
                "color": "cyan",
                "styles": {},
                "scale_factor": 1,
                "type": null,
                "position": [
                  0,
                  0
                ]
              },
              {
                "id": 20,
                "properties": {
                  "cost": 512,
                  "material": "paper",
                  "durability": 150,
                  "length": 27,
                  "width": 8,
                  "name": "Neque Grip_Tape",
                  "weight": 220,
                  "category": "grip_tape",
                  "sku": "SY-LTZGCL",
                  "label": "Part"
                },
                "label": "SY-LTZGCL - Neque Grip_Tape",
                "color": "blue",
                "styles": {},
                "scale_factor": 1,
                "type": null,
                "position": [
                  0,
                  0
                ]
              },
              {
                "id": 22,
                "properties": {
                  "inner_diameter": 8,
                  "abec": 5,
                  "cost": 347,
                  "material": "steel",
                  "thickness": 7,
                  "durability": 136,
                  "name": "Modi Bearing",
                  "weight": 143,
                  "outer_diameter": 22,
                  "category": "bearing",
                  "sku": "US-VHCBIY",
                  "label": "Part"
                },
                "label": "US-VHCBIY - Modi Bearing",
                "color": "green",
                "styles": {},
                "scale_factor": 1,
                "type": null,
                "position": [
                  0,
                  0
                ]
              },
              {
                "id": 24,
                "properties": {
                  "cost": 29,
                  "material": "steel",
                  "durability": 238,
                  "name": "Cumque Axle_Lock_Nut",
                  "weight": 101,
                  "category": "axle_lock_nut",
                  "sku": "VR-BBVDMQ",
                  "label": "Part"
                },
                "label": "VR-BBVDMQ - Cumque Axle_Lock_Nut",
                "color": "pink",
                "styles": {},
                "scale_factor": 1,
                "type": null,
                "position": [
                  0,
                  0
                ]
              },
              {
                "id": 26,
                "properties": {
                  "cost": 22,
                  "color": "gold",
                  "material": "steel",
                  "durability": 79,
                  "name": "Quis Nut",
                  "weight": 191,
                  "thread": "10x32",
                  "sku": "AD-UZLHEE",
                  "category": "nut",
                  "label": "Part"
                },
                "label": "AD-UZLHEE - Quis Nut",
                "color": "cyan",
                "styles": {},
                "scale_factor": 1,
                "type": null,
                "position": [
                  0,
                  0
                ]
              },
              {
                "id": 43,
                "properties": {
                  "cost": 24,
                  "color": "gold",
                  "material": "steel",
                  "durability": 50,
                  "length": 2.54,
                  "name": "Placeat Bolt",
                  "weight": 324,
                  "thread": "10x32",
                  "sku": "IV-FCDLNI",
                  "category": "bolt",
                  "label": "Part"
                },
                "label": "IV-FCDLNI - Placeat Bolt",
                "color": "grey",
                "styles": {},
                "scale_factor": 1,
                "type": null,
                "position": [
                  0,
                  0
                ]
              },
              {
                "id": 29,
                "properties": {
                  "cost": 574,
                  "material": "plastic",
                  "durability": 216,
                  "length": 27,
                  "width": 6,
                  "name": "Quas Grip_Tape",
                  "weight": 145,
                  "category": "grip_tape",
                  "sku": "GG-FTBXRY",
                  "label": "Part"
                },
                "label": "GG-FTBXRY - Quas Grip_Tape",
                "color": "blue",
                "styles": {},
                "scale_factor": 1,
                "type": null,
                "position": [
                  0,
                  0
                ]
              },
              {
                "id": 31,
                "properties": {
                  "inner_diameter": 8,
                  "abec": 3,
                  "cost": 199,
                  "material": "steel",
                  "thickness": 7,
                  "durability": 194,
                  "name": "Ad Bearing",
                  "weight": 225,
                  "outer_diameter": 22,
                  "category": "bearing",
                  "sku": "SJ-BHJIUA",
                  "label": "Part"
                },
                "label": "SJ-BHJIUA - Ad Bearing",
                "color": "green",
                "styles": {},
                "scale_factor": 1,
                "type": null,
                "position": [
                  0,
                  0
                ]
              },
              {
                "id": 33,
                "properties": {
                  "cost": 16,
                  "material": "steel",
                  "durability": 178,
                  "name": "Molestiae Axle_Lock_Nut",
                  "weight": 375,
                  "category": "axle_lock_nut",
                  "sku": "EM-DRFCCG",
                  "label": "Part"
                },
                "label": "EM-DRFCCG - Molestiae Axle_Lock_Nut",
                "color": "pink",
                "styles": {},
                "scale_factor": 1,
                "type": null,
                "position": [
                  0,
                  0
                ]
              },
              {
                "id": 35,
                "properties": {
                  "cost": 18,
                  "color": "black",
                  "material": "steel",
                  "durability": 143,
                  "name": "Error Nut",
                  "weight": 458,
                  "thread": "10x32",
                  "sku": "HD-CSKPWB",
                  "category": "nut",
                  "label": "Part"
                },
                "label": "HD-CSKPWB - Error Nut",
                "color": "cyan",
                "styles": {},
                "scale_factor": 1,
                "type": null,
                "position": [
                  0,
                  0
                ]
              },
              {
                "id": 38,
                "properties": {
                  "cost": 505,
                  "material": "paper",
                  "durability": 62,
                  "length": 29,
                  "width": 8,
                  "name": "Repellendus Grip_Tape",
                  "weight": 110,
                  "category": "grip_tape",
                  "sku": "MG-DTLZMT",
                  "label": "Part"
                },
                "label": "MG-DTLZMT - Repellendus Grip_Tape",
                "color": "blue",
                "styles": {},
                "scale_factor": 1,
                "type": null,
                "position": [
                  0,
                  0
                ]
              },
              {
                "id": 40,
                "properties": {
                  "inner_diameter": 8,
                  "abec": 1,
                  "cost": 715,
                  "material": "ceramic",
                  "thickness": 7,
                  "durability": 180,
                  "name": "A Bearing",
                  "weight": 196,
                  "outer_diameter": 22,
                  "category": "bearing",
                  "sku": "GC-QFEGOI",
                  "label": "Part"
                },
                "label": "GC-QFEGOI - A Bearing",
                "color": "green",
                "styles": {},
                "scale_factor": 1,
                "type": null,
                "position": [
                  0,
                  0
                ]
              },
              {
                "id": 42,
                "properties": {
                  "cost": 12,
                  "material": "steel",
                  "durability": 83,
                  "name": "Similique Axle_Lock_Nut",
                  "weight": 217,
                  "category": "axle_lock_nut",
                  "sku": "YH-ZYDDDO",
                  "label": "Part"
                },
                "label": "YH-ZYDDDO - Similique Axle_Lock_Nut",
                "color": "pink",
                "styles": {},
                "scale_factor": 1,
                "type": null,
                "position": [
                  0,
                  0
                ]
              },
              {
                "id": 44,
                "properties": {
                  "cost": 14,
                  "color": "black",
                  "material": "steel",
                  "durability": 138,
                  "name": "Reprehenderit Nut",
                  "weight": 499,
                  "thread": "10x32",
                  "sku": "ON-OMQLUH",
                  "category": "nut",
                  "label": "Part"
                },
                "label": "ON-OMQLUH - Reprehenderit Nut",
                "color": "cyan",
                "styles": {},
                "scale_factor": 1,
                "type": null,
                "position": [
                  0,
                  0
                ]
              }
            ],
            "_overview": {
              "enabled": false,
              "overview_set": true
            },
            "_sidebar": {
              "enabled": false,
              "start_with": "Neighbourhood"
            },
            "_svg": "",
            "_view_count": null,
            "_view_module": "yfiles-jupyter-graphs",
            "_view_module_version": "^1.4.5",
            "_view_name": "GraphView",
            "layout": "IPY_MODEL_fe1b20ae106f407c924dd7d3b4ef657c"
          }
        },
        "fe1b20ae106f407c924dd7d3b4ef657c": {
          "model_module": "@jupyter-widgets/base",
          "model_name": "LayoutModel",
          "model_module_version": "1.2.0",
          "state": {
            "_model_module": "@jupyter-widgets/base",
            "_model_module_version": "1.2.0",
            "_model_name": "LayoutModel",
            "_view_count": null,
            "_view_module": "@jupyter-widgets/base",
            "_view_module_version": "1.2.0",
            "_view_name": "LayoutView",
            "align_content": null,
            "align_items": null,
            "align_self": null,
            "border": null,
            "bottom": null,
            "display": null,
            "flex": null,
            "flex_flow": null,
            "grid_area": null,
            "grid_auto_columns": null,
            "grid_auto_flow": null,
            "grid_auto_rows": null,
            "grid_column": null,
            "grid_gap": null,
            "grid_row": null,
            "grid_template_areas": null,
            "grid_template_columns": null,
            "grid_template_rows": null,
            "height": "500px",
            "justify_content": null,
            "justify_items": null,
            "left": null,
            "margin": null,
            "max_height": null,
            "max_width": null,
            "min_height": null,
            "min_width": null,
            "object_fit": null,
            "object_position": null,
            "order": null,
            "overflow": null,
            "overflow_x": null,
            "overflow_y": null,
            "padding": null,
            "right": null,
            "top": null,
            "visibility": null,
            "width": "100%"
          }
        },
        "81dfc2b984744499a7b6a1c1e8616d91": {
          "model_module": "yfiles-jupyter-graphs",
          "model_name": "GraphModel",
          "model_module_version": "^1.4.5",
          "state": {
            "_context_pane_mapping": [
              {
                "id": "Neighborhood",
                "title": "Neighborhood"
              },
              {
                "id": "Data",
                "title": "Data"
              },
              {
                "id": "Search",
                "title": "Search"
              },
              {
                "id": "About",
                "title": "About"
              }
            ],
            "_data_importer": "neo4j",
            "_directed": false,
            "_dom_classes": [],
            "_edges": [
              {
                "id": 16390,
                "start": 7438,
                "end": 68,
                "properties": {
                  "label": "IS_ASSEMBLED_FROM"
                },
                "label": "IS_ASSEMBLED_FROM",
                "color": "green",
                "thickness_factor": 1,
                "directed": false
              },
              {
                "id": 445,
                "start": 68,
                "end": 42,
                "properties": {
                  "label": "IS_ASSEMBLED_FROM"
                },
                "label": "IS_ASSEMBLED_FROM",
                "color": "green",
                "thickness_factor": 1,
                "directed": false
              },
              {
                "id": 420,
                "start": 68,
                "end": 12,
                "properties": {
                  "label": "IS_ASSEMBLED_FROM"
                },
                "label": "IS_ASSEMBLED_FROM",
                "color": "green",
                "thickness_factor": 1,
                "directed": false
              },
              {
                "id": 7640,
                "start": 7438,
                "end": 58,
                "properties": {
                  "label": "IS_ASSEMBLED_FROM"
                },
                "label": "IS_ASSEMBLED_FROM",
                "color": "green",
                "thickness_factor": 1,
                "directed": false
              },
              {
                "id": 396,
                "start": 58,
                "end": 37,
                "properties": {
                  "label": "IS_ASSEMBLED_FROM"
                },
                "label": "IS_ASSEMBLED_FROM",
                "color": "green",
                "thickness_factor": 1,
                "directed": false
              },
              {
                "id": 410,
                "start": 58,
                "end": 29,
                "properties": {
                  "label": "IS_ASSEMBLED_FROM"
                },
                "label": "IS_ASSEMBLED_FROM",
                "color": "green",
                "thickness_factor": 1,
                "directed": false
              },
              {
                "id": 25140,
                "start": 7438,
                "end": 98,
                "properties": {
                  "label": "IS_ASSEMBLED_FROM"
                },
                "label": "IS_ASSEMBLED_FROM",
                "color": "green",
                "thickness_factor": 1,
                "directed": false
              },
              {
                "id": 500,
                "start": 98,
                "end": 4,
                "properties": {
                  "label": "IS_ASSEMBLED_FROM"
                },
                "label": "IS_ASSEMBLED_FROM",
                "color": "green",
                "thickness_factor": 1,
                "directed": false
              },
              {
                "id": 475,
                "start": 98,
                "end": 23,
                "properties": {
                  "label": "IS_ASSEMBLED_FROM"
                },
                "label": "IS_ASSEMBLED_FROM",
                "color": "green",
                "thickness_factor": 1,
                "directed": false
              },
              {
                "id": 7546,
                "start": 7344,
                "end": 58,
                "properties": {
                  "label": "IS_ASSEMBLED_FROM"
                },
                "label": "IS_ASSEMBLED_FROM",
                "color": "green",
                "thickness_factor": 1,
                "directed": false
              },
              {
                "id": 16296,
                "start": 7344,
                "end": 67,
                "properties": {
                  "label": "IS_ASSEMBLED_FROM"
                },
                "label": "IS_ASSEMBLED_FROM",
                "color": "green",
                "thickness_factor": 1,
                "directed": false
              },
              {
                "id": 419,
                "start": 67,
                "end": 12,
                "properties": {
                  "label": "IS_ASSEMBLED_FROM"
                },
                "label": "IS_ASSEMBLED_FROM",
                "color": "green",
                "thickness_factor": 1,
                "directed": false
              },
              {
                "id": 444,
                "start": 67,
                "end": 15,
                "properties": {
                  "label": "IS_ASSEMBLED_FROM"
                },
                "label": "IS_ASSEMBLED_FROM",
                "color": "green",
                "thickness_factor": 1,
                "directed": false
              },
              {
                "id": 25046,
                "start": 7344,
                "end": 98,
                "properties": {
                  "label": "IS_ASSEMBLED_FROM"
                },
                "label": "IS_ASSEMBLED_FROM",
                "color": "green",
                "thickness_factor": 1,
                "directed": false
              },
              {
                "id": 7452,
                "start": 7250,
                "end": 58,
                "properties": {
                  "label": "IS_ASSEMBLED_FROM"
                },
                "label": "IS_ASSEMBLED_FROM",
                "color": "green",
                "thickness_factor": 1,
                "directed": false
              },
              {
                "id": 16202,
                "start": 7250,
                "end": 66,
                "properties": {
                  "label": "IS_ASSEMBLED_FROM"
                },
                "label": "IS_ASSEMBLED_FROM",
                "color": "green",
                "thickness_factor": 1,
                "directed": false
              },
              {
                "id": 443,
                "start": 66,
                "end": 33,
                "properties": {
                  "label": "IS_ASSEMBLED_FROM"
                },
                "label": "IS_ASSEMBLED_FROM",
                "color": "green",
                "thickness_factor": 1,
                "directed": false
              },
              {
                "id": 418,
                "start": 66,
                "end": 12,
                "properties": {
                  "label": "IS_ASSEMBLED_FROM"
                },
                "label": "IS_ASSEMBLED_FROM",
                "color": "green",
                "thickness_factor": 1,
                "directed": false
              },
              {
                "id": 24952,
                "start": 7250,
                "end": 98,
                "properties": {
                  "label": "IS_ASSEMBLED_FROM"
                },
                "label": "IS_ASSEMBLED_FROM",
                "color": "green",
                "thickness_factor": 1,
                "directed": false
              },
              {
                "id": 7358,
                "start": 7156,
                "end": 58,
                "properties": {
                  "label": "IS_ASSEMBLED_FROM"
                },
                "label": "IS_ASSEMBLED_FROM",
                "color": "green",
                "thickness_factor": 1,
                "directed": false
              },
              {
                "id": 24858,
                "start": 7156,
                "end": 98,
                "properties": {
                  "label": "IS_ASSEMBLED_FROM"
                },
                "label": "IS_ASSEMBLED_FROM",
                "color": "green",
                "thickness_factor": 1,
                "directed": false
              },
              {
                "id": 16108,
                "start": 7156,
                "end": 65,
                "properties": {
                  "label": "IS_ASSEMBLED_FROM"
                },
                "label": "IS_ASSEMBLED_FROM",
                "color": "green",
                "thickness_factor": 1,
                "directed": false
              },
              {
                "id": 417,
                "start": 65,
                "end": 12,
                "properties": {
                  "label": "IS_ASSEMBLED_FROM"
                },
                "label": "IS_ASSEMBLED_FROM",
                "color": "green",
                "thickness_factor": 1,
                "directed": false
              },
              {
                "id": 442,
                "start": 65,
                "end": 6,
                "properties": {
                  "label": "IS_ASSEMBLED_FROM"
                },
                "label": "IS_ASSEMBLED_FROM",
                "color": "green",
                "thickness_factor": 1,
                "directed": false
              },
              {
                "id": 24764,
                "start": 7062,
                "end": 98,
                "properties": {
                  "label": "IS_ASSEMBLED_FROM"
                },
                "label": "IS_ASSEMBLED_FROM",
                "color": "green",
                "thickness_factor": 1,
                "directed": false
              },
              {
                "id": 7264,
                "start": 7062,
                "end": 58,
                "properties": {
                  "label": "IS_ASSEMBLED_FROM"
                },
                "label": "IS_ASSEMBLED_FROM",
                "color": "green",
                "thickness_factor": 1,
                "directed": false
              },
              {
                "id": 16014,
                "start": 7062,
                "end": 64,
                "properties": {
                  "label": "IS_ASSEMBLED_FROM"
                },
                "label": "IS_ASSEMBLED_FROM",
                "color": "green",
                "thickness_factor": 1,
                "directed": false
              },
              {
                "id": 416,
                "start": 64,
                "end": 12,
                "properties": {
                  "label": "IS_ASSEMBLED_FROM"
                },
                "label": "IS_ASSEMBLED_FROM",
                "color": "green",
                "thickness_factor": 1,
                "directed": false
              },
              {
                "id": 441,
                "start": 64,
                "end": 24,
                "properties": {
                  "label": "IS_ASSEMBLED_FROM"
                },
                "label": "IS_ASSEMBLED_FROM",
                "color": "green",
                "thickness_factor": 1,
                "directed": false
              },
              {
                "id": 25137,
                "start": 7435,
                "end": 95,
                "properties": {
                  "label": "IS_ASSEMBLED_FROM"
                },
                "label": "IS_ASSEMBLED_FROM",
                "color": "green",
                "thickness_factor": 1,
                "directed": false
              },
              {
                "id": 472,
                "start": 95,
                "end": 23,
                "properties": {
                  "label": "IS_ASSEMBLED_FROM"
                },
                "label": "IS_ASSEMBLED_FROM",
                "color": "green",
                "thickness_factor": 1,
                "directed": false
              },
              {
                "id": 497,
                "start": 95,
                "end": 31,
                "properties": {
                  "label": "IS_ASSEMBLED_FROM"
                },
                "label": "IS_ASSEMBLED_FROM",
                "color": "green",
                "thickness_factor": 1,
                "directed": false
              },
              {
                "id": 7637,
                "start": 7435,
                "end": 58,
                "properties": {
                  "label": "IS_ASSEMBLED_FROM"
                },
                "label": "IS_ASSEMBLED_FROM",
                "color": "green",
                "thickness_factor": 1,
                "directed": false
              },
              {
                "id": 16387,
                "start": 7435,
                "end": 68,
                "properties": {
                  "label": "IS_ASSEMBLED_FROM"
                },
                "label": "IS_ASSEMBLED_FROM",
                "color": "green",
                "thickness_factor": 1,
                "directed": false
              },
              {
                "id": 16293,
                "start": 7341,
                "end": 67,
                "properties": {
                  "label": "IS_ASSEMBLED_FROM"
                },
                "label": "IS_ASSEMBLED_FROM",
                "color": "green",
                "thickness_factor": 1,
                "directed": false
              },
              {
                "id": 7543,
                "start": 7341,
                "end": 58,
                "properties": {
                  "label": "IS_ASSEMBLED_FROM"
                },
                "label": "IS_ASSEMBLED_FROM",
                "color": "green",
                "thickness_factor": 1,
                "directed": false
              },
              {
                "id": 25043,
                "start": 7341,
                "end": 95,
                "properties": {
                  "label": "IS_ASSEMBLED_FROM"
                },
                "label": "IS_ASSEMBLED_FROM",
                "color": "green",
                "thickness_factor": 1,
                "directed": false
              },
              {
                "id": 16199,
                "start": 7247,
                "end": 66,
                "properties": {
                  "label": "IS_ASSEMBLED_FROM"
                },
                "label": "IS_ASSEMBLED_FROM",
                "color": "green",
                "thickness_factor": 1,
                "directed": false
              },
              {
                "id": 7449,
                "start": 7247,
                "end": 58,
                "properties": {
                  "label": "IS_ASSEMBLED_FROM"
                },
                "label": "IS_ASSEMBLED_FROM",
                "color": "green",
                "thickness_factor": 1,
                "directed": false
              },
              {
                "id": 24949,
                "start": 7247,
                "end": 95,
                "properties": {
                  "label": "IS_ASSEMBLED_FROM"
                },
                "label": "IS_ASSEMBLED_FROM",
                "color": "green",
                "thickness_factor": 1,
                "directed": false
              },
              {
                "id": 7355,
                "start": 7153,
                "end": 58,
                "properties": {
                  "label": "IS_ASSEMBLED_FROM"
                },
                "label": "IS_ASSEMBLED_FROM",
                "color": "green",
                "thickness_factor": 1,
                "directed": false
              },
              {
                "id": 16105,
                "start": 7153,
                "end": 65,
                "properties": {
                  "label": "IS_ASSEMBLED_FROM"
                },
                "label": "IS_ASSEMBLED_FROM",
                "color": "green",
                "thickness_factor": 1,
                "directed": false
              },
              {
                "id": 24855,
                "start": 7153,
                "end": 95,
                "properties": {
                  "label": "IS_ASSEMBLED_FROM"
                },
                "label": "IS_ASSEMBLED_FROM",
                "color": "green",
                "thickness_factor": 1,
                "directed": false
              },
              {
                "id": 16011,
                "start": 7059,
                "end": 64,
                "properties": {
                  "label": "IS_ASSEMBLED_FROM"
                },
                "label": "IS_ASSEMBLED_FROM",
                "color": "green",
                "thickness_factor": 1,
                "directed": false
              },
              {
                "id": 24761,
                "start": 7059,
                "end": 95,
                "properties": {
                  "label": "IS_ASSEMBLED_FROM"
                },
                "label": "IS_ASSEMBLED_FROM",
                "color": "green",
                "thickness_factor": 1,
                "directed": false
              },
              {
                "id": 7261,
                "start": 7059,
                "end": 58,
                "properties": {
                  "label": "IS_ASSEMBLED_FROM"
                },
                "label": "IS_ASSEMBLED_FROM",
                "color": "green",
                "thickness_factor": 1,
                "directed": false
              },
              {
                "id": 25133,
                "start": 7431,
                "end": 91,
                "properties": {
                  "label": "IS_ASSEMBLED_FROM"
                },
                "label": "IS_ASSEMBLED_FROM",
                "color": "green",
                "thickness_factor": 1,
                "directed": false
              },
              {
                "id": 493,
                "start": 91,
                "end": 4,
                "properties": {
                  "label": "IS_ASSEMBLED_FROM"
                },
                "label": "IS_ASSEMBLED_FROM",
                "color": "green",
                "thickness_factor": 1,
                "directed": false
              },
              {
                "id": 468,
                "start": 91,
                "end": 14,
                "properties": {
                  "label": "IS_ASSEMBLED_FROM"
                },
                "label": "IS_ASSEMBLED_FROM",
                "color": "green",
                "thickness_factor": 1,
                "directed": false
              },
              {
                "id": 7633,
                "start": 7431,
                "end": 58,
                "properties": {
                  "label": "IS_ASSEMBLED_FROM"
                },
                "label": "IS_ASSEMBLED_FROM",
                "color": "green",
                "thickness_factor": 1,
                "directed": false
              },
              {
                "id": 16383,
                "start": 7431,
                "end": 68,
                "properties": {
                  "label": "IS_ASSEMBLED_FROM"
                },
                "label": "IS_ASSEMBLED_FROM",
                "color": "green",
                "thickness_factor": 1,
                "directed": false
              },
              {
                "id": 7539,
                "start": 7337,
                "end": 58,
                "properties": {
                  "label": "IS_ASSEMBLED_FROM"
                },
                "label": "IS_ASSEMBLED_FROM",
                "color": "green",
                "thickness_factor": 1,
                "directed": false
              },
              {
                "id": 25039,
                "start": 7337,
                "end": 91,
                "properties": {
                  "label": "IS_ASSEMBLED_FROM"
                },
                "label": "IS_ASSEMBLED_FROM",
                "color": "green",
                "thickness_factor": 1,
                "directed": false
              },
              {
                "id": 16289,
                "start": 7337,
                "end": 67,
                "properties": {
                  "label": "IS_ASSEMBLED_FROM"
                },
                "label": "IS_ASSEMBLED_FROM",
                "color": "green",
                "thickness_factor": 1,
                "directed": false
              },
              {
                "id": 16195,
                "start": 7243,
                "end": 66,
                "properties": {
                  "label": "IS_ASSEMBLED_FROM"
                },
                "label": "IS_ASSEMBLED_FROM",
                "color": "green",
                "thickness_factor": 1,
                "directed": false
              },
              {
                "id": 24945,
                "start": 7243,
                "end": 91,
                "properties": {
                  "label": "IS_ASSEMBLED_FROM"
                },
                "label": "IS_ASSEMBLED_FROM",
                "color": "green",
                "thickness_factor": 1,
                "directed": false
              },
              {
                "id": 7445,
                "start": 7243,
                "end": 58,
                "properties": {
                  "label": "IS_ASSEMBLED_FROM"
                },
                "label": "IS_ASSEMBLED_FROM",
                "color": "green",
                "thickness_factor": 1,
                "directed": false
              },
              {
                "id": 24851,
                "start": 7149,
                "end": 91,
                "properties": {
                  "label": "IS_ASSEMBLED_FROM"
                },
                "label": "IS_ASSEMBLED_FROM",
                "color": "green",
                "thickness_factor": 1,
                "directed": false
              },
              {
                "id": 7351,
                "start": 7149,
                "end": 58,
                "properties": {
                  "label": "IS_ASSEMBLED_FROM"
                },
                "label": "IS_ASSEMBLED_FROM",
                "color": "green",
                "thickness_factor": 1,
                "directed": false
              },
              {
                "id": 16101,
                "start": 7149,
                "end": 65,
                "properties": {
                  "label": "IS_ASSEMBLED_FROM"
                },
                "label": "IS_ASSEMBLED_FROM",
                "color": "green",
                "thickness_factor": 1,
                "directed": false
              },
              {
                "id": 16007,
                "start": 7055,
                "end": 64,
                "properties": {
                  "label": "IS_ASSEMBLED_FROM"
                },
                "label": "IS_ASSEMBLED_FROM",
                "color": "green",
                "thickness_factor": 1,
                "directed": false
              },
              {
                "id": 24757,
                "start": 7055,
                "end": 91,
                "properties": {
                  "label": "IS_ASSEMBLED_FROM"
                },
                "label": "IS_ASSEMBLED_FROM",
                "color": "green",
                "thickness_factor": 1,
                "directed": false
              },
              {
                "id": 7257,
                "start": 7055,
                "end": 58,
                "properties": {
                  "label": "IS_ASSEMBLED_FROM"
                },
                "label": "IS_ASSEMBLED_FROM",
                "color": "green",
                "thickness_factor": 1,
                "directed": false
              },
              {
                "id": 25134,
                "start": 7432,
                "end": 92,
                "properties": {
                  "label": "IS_ASSEMBLED_FROM"
                },
                "label": "IS_ASSEMBLED_FROM",
                "color": "green",
                "thickness_factor": 1,
                "directed": false
              },
              {
                "id": 469,
                "start": 92,
                "end": 14,
                "properties": {
                  "label": "IS_ASSEMBLED_FROM"
                },
                "label": "IS_ASSEMBLED_FROM",
                "color": "green",
                "thickness_factor": 1,
                "directed": false
              },
              {
                "id": 494,
                "start": 92,
                "end": 31,
                "properties": {
                  "label": "IS_ASSEMBLED_FROM"
                },
                "label": "IS_ASSEMBLED_FROM",
                "color": "green",
                "thickness_factor": 1,
                "directed": false
              },
              {
                "id": 16384,
                "start": 7432,
                "end": 68,
                "properties": {
                  "label": "IS_ASSEMBLED_FROM"
                },
                "label": "IS_ASSEMBLED_FROM",
                "color": "green",
                "thickness_factor": 1,
                "directed": false
              },
              {
                "id": 7634,
                "start": 7432,
                "end": 58,
                "properties": {
                  "label": "IS_ASSEMBLED_FROM"
                },
                "label": "IS_ASSEMBLED_FROM",
                "color": "green",
                "thickness_factor": 1,
                "directed": false
              },
              {
                "id": 25040,
                "start": 7338,
                "end": 92,
                "properties": {
                  "label": "IS_ASSEMBLED_FROM"
                },
                "label": "IS_ASSEMBLED_FROM",
                "color": "green",
                "thickness_factor": 1,
                "directed": false
              },
              {
                "id": 16290,
                "start": 7338,
                "end": 67,
                "properties": {
                  "label": "IS_ASSEMBLED_FROM"
                },
                "label": "IS_ASSEMBLED_FROM",
                "color": "green",
                "thickness_factor": 1,
                "directed": false
              },
              {
                "id": 7540,
                "start": 7338,
                "end": 58,
                "properties": {
                  "label": "IS_ASSEMBLED_FROM"
                },
                "label": "IS_ASSEMBLED_FROM",
                "color": "green",
                "thickness_factor": 1,
                "directed": false
              },
              {
                "id": 16196,
                "start": 7244,
                "end": 66,
                "properties": {
                  "label": "IS_ASSEMBLED_FROM"
                },
                "label": "IS_ASSEMBLED_FROM",
                "color": "green",
                "thickness_factor": 1,
                "directed": false
              },
              {
                "id": 7446,
                "start": 7244,
                "end": 58,
                "properties": {
                  "label": "IS_ASSEMBLED_FROM"
                },
                "label": "IS_ASSEMBLED_FROM",
                "color": "green",
                "thickness_factor": 1,
                "directed": false
              },
              {
                "id": 24946,
                "start": 7244,
                "end": 92,
                "properties": {
                  "label": "IS_ASSEMBLED_FROM"
                },
                "label": "IS_ASSEMBLED_FROM",
                "color": "green",
                "thickness_factor": 1,
                "directed": false
              },
              {
                "id": 16102,
                "start": 7150,
                "end": 65,
                "properties": {
                  "label": "IS_ASSEMBLED_FROM"
                },
                "label": "IS_ASSEMBLED_FROM",
                "color": "green",
                "thickness_factor": 1,
                "directed": false
              },
              {
                "id": 24852,
                "start": 7150,
                "end": 92,
                "properties": {
                  "label": "IS_ASSEMBLED_FROM"
                },
                "label": "IS_ASSEMBLED_FROM",
                "color": "green",
                "thickness_factor": 1,
                "directed": false
              },
              {
                "id": 7352,
                "start": 7150,
                "end": 58,
                "properties": {
                  "label": "IS_ASSEMBLED_FROM"
                },
                "label": "IS_ASSEMBLED_FROM",
                "color": "green",
                "thickness_factor": 1,
                "directed": false
              },
              {
                "id": 7258,
                "start": 7056,
                "end": 58,
                "properties": {
                  "label": "IS_ASSEMBLED_FROM"
                },
                "label": "IS_ASSEMBLED_FROM",
                "color": "green",
                "thickness_factor": 1,
                "directed": false
              },
              {
                "id": 24758,
                "start": 7056,
                "end": 92,
                "properties": {
                  "label": "IS_ASSEMBLED_FROM"
                },
                "label": "IS_ASSEMBLED_FROM",
                "color": "green",
                "thickness_factor": 1,
                "directed": false
              },
              {
                "id": 16008,
                "start": 7056,
                "end": 64,
                "properties": {
                  "label": "IS_ASSEMBLED_FROM"
                },
                "label": "IS_ASSEMBLED_FROM",
                "color": "green",
                "thickness_factor": 1,
                "directed": false
              }
            ],
            "_graph_layout": {
              "algorithm": "radial",
              "options": {}
            },
            "_highlight": [],
            "_model_module": "yfiles-jupyter-graphs",
            "_model_module_version": "^1.4.5",
            "_model_name": "GraphModel",
            "_neighborhood": {},
            "_nodes": [
              {
                "id": 7438,
                "properties": {
                  "cost": 6364,
                  "weight": 1515,
                  "sku": "RD-IKMVJD-GG-FTBXRY-SU-UYVSNC-YH-ZYDDDO-ON-WWUMYA-NW-NJCRQB",
                  "category": "skateboard",
                  "label": "Possible:Product"
                },
                "label": null,
                "color": "red",
                "styles": {},
                "scale_factor": 1,
                "type": null,
                "position": [
                  0,
                  0
                ]
              },
              {
                "id": 68,
                "properties": {
                  "cost": 1058,
                  "weight": 358,
                  "category": "truck",
                  "sku": "SU-UYVSNC-YH-ZYDDDO",
                  "label": "Possible:Assembly"
                },
                "label": null,
                "color": "orange",
                "styles": {},
                "scale_factor": 1,
                "type": null,
                "position": [
                  0,
                  0
                ]
              },
              {
                "id": 42,
                "properties": {
                  "cost": 12,
                  "material": "steel",
                  "durability": 83,
                  "name": "Similique Axle_Lock_Nut",
                  "weight": 217,
                  "category": "axle_lock_nut",
                  "sku": "YH-ZYDDDO",
                  "label": "Part"
                },
                "label": "YH-ZYDDDO - Similique Axle_Lock_Nut",
                "color": "pink",
                "styles": {},
                "scale_factor": 1,
                "type": null,
                "position": [
                  0,
                  0
                ]
              },
              {
                "id": 12,
                "properties": {
                  "cost": 1046,
                  "material": "steel",
                  "durability": 140,
                  "name": "Voluptate Truck",
                  "weight": 141,
                  "hanger_length": 5.5,
                  "category": "truck",
                  "sku": "SU-UYVSNC",
                  "axle_length": 7.75,
                  "label": "Part"
                },
                "label": "SU-UYVSNC - Voluptate Truck",
                "color": "purple",
                "styles": {},
                "scale_factor": 1,
                "type": null,
                "position": [
                  0,
                  0
                ]
              },
              {
                "id": 58,
                "properties": {
                  "cost": 4770,
                  "weight": 632,
                  "category": "deck",
                  "sku": "RD-IKMVJD-GG-FTBXRY",
                  "label": "Possible:Assembly"
                },
                "label": null,
                "color": "orange",
                "styles": {},
                "scale_factor": 1,
                "type": null,
                "position": [
                  0,
                  0
                ]
              },
              {
                "id": 37,
                "properties": {
                  "cost": 4196,
                  "material": "plastic",
                  "durability": 169,
                  "name": "Delectus Deck",
                  "width": 6,
                  "weight": 487,
                  "category": "deck",
                  "sku": "RD-IKMVJD",
                  "label": "Part"
                },
                "label": "RD-IKMVJD - Delectus Deck",
                "color": "orange",
                "styles": {},
                "scale_factor": 1,
                "type": null,
                "position": [
                  0,
                  0
                ]
              },
              {
                "id": 29,
                "properties": {
                  "cost": 574,
                  "material": "plastic",
                  "durability": 216,
                  "length": 27,
                  "width": 6,
                  "name": "Quas Grip_Tape",
                  "weight": 145,
                  "category": "grip_tape",
                  "sku": "GG-FTBXRY",
                  "label": "Part"
                },
                "label": "GG-FTBXRY - Quas Grip_Tape",
                "color": "blue",
                "styles": {},
                "scale_factor": 1,
                "type": null,
                "position": [
                  0,
                  0
                ]
              },
              {
                "id": 98,
                "properties": {
                  "cost": 536,
                  "weight": 525,
                  "category": "wheel",
                  "sku": "ON-WWUMYA-NW-NJCRQB",
                  "label": "Possible:Assembly"
                },
                "label": null,
                "color": "orange",
                "styles": {},
                "scale_factor": 1,
                "type": null,
                "position": [
                  0,
                  0
                ]
              },
              {
                "id": 4,
                "properties": {
                  "inner_diameter": 8,
                  "abec": 5,
                  "cost": 153,
                  "material": "ceramic",
                  "thickness": 7,
                  "durability": 244,
                  "name": "Repellendus Bearing",
                  "outer_diameter": 22,
                  "weight": 290,
                  "category": "bearing",
                  "sku": "NW-NJCRQB",
                  "label": "Part"
                },
                "label": "NW-NJCRQB - Repellendus Bearing",
                "color": "green",
                "styles": {},
                "scale_factor": 1,
                "type": null,
                "position": [
                  0,
                  0
                ]
              },
              {
                "id": 23,
                "properties": {
                  "hardness": 101,
                  "cost": 383,
                  "material": "rubber",
                  "diameter": 65,
                  "durability": 203,
                  "name": "Suscipit Wheel",
                  "weight": 235,
                  "bearing_diameter": 22,
                  "category": "wheel",
                  "sku": "ON-WWUMYA",
                  "bearing_width": 7,
                  "label": "Part"
                },
                "label": "ON-WWUMYA - Suscipit Wheel",
                "color": "yellow",
                "styles": {},
                "scale_factor": 1,
                "type": null,
                "position": [
                  0,
                  0
                ]
              },
              {
                "id": 7344,
                "properties": {
                  "cost": 6366,
                  "weight": 1672,
                  "sku": "RD-IKMVJD-GG-FTBXRY-SU-UYVSNC-BW-YXECIC-ON-WWUMYA-NW-NJCRQB",
                  "category": "skateboard",
                  "label": "Possible:Product"
                },
                "label": null,
                "color": "red",
                "styles": {},
                "scale_factor": 1,
                "type": null,
                "position": [
                  0,
                  0
                ]
              },
              {
                "id": 67,
                "properties": {
                  "cost": 1060,
                  "weight": 515,
                  "category": "truck",
                  "sku": "SU-UYVSNC-BW-YXECIC",
                  "label": "Possible:Assembly"
                },
                "label": null,
                "color": "orange",
                "styles": {},
                "scale_factor": 1,
                "type": null,
                "position": [
                  0,
                  0
                ]
              },
              {
                "id": 15,
                "properties": {
                  "cost": 14,
                  "material": "steel",
                  "durability": 187,
                  "name": "Nostrum Axle_Lock_Nut",
                  "weight": 374,
                  "category": "axle_lock_nut",
                  "sku": "BW-YXECIC",
                  "label": "Part"
                },
                "label": "BW-YXECIC - Nostrum Axle_Lock_Nut",
                "color": "pink",
                "styles": {},
                "scale_factor": 1,
                "type": null,
                "position": [
                  0,
                  0
                ]
              },
              {
                "id": 7250,
                "properties": {
                  "cost": 6368,
                  "weight": 1673,
                  "sku": "RD-IKMVJD-GG-FTBXRY-SU-UYVSNC-EM-DRFCCG-ON-WWUMYA-NW-NJCRQB",
                  "category": "skateboard",
                  "label": "Possible:Product"
                },
                "label": null,
                "color": "red",
                "styles": {},
                "scale_factor": 1,
                "type": null,
                "position": [
                  0,
                  0
                ]
              },
              {
                "id": 66,
                "properties": {
                  "cost": 1062,
                  "weight": 516,
                  "category": "truck",
                  "sku": "SU-UYVSNC-EM-DRFCCG",
                  "label": "Possible:Assembly"
                },
                "label": null,
                "color": "orange",
                "styles": {},
                "scale_factor": 1,
                "type": null,
                "position": [
                  0,
                  0
                ]
              },
              {
                "id": 33,
                "properties": {
                  "cost": 16,
                  "material": "steel",
                  "durability": 178,
                  "name": "Molestiae Axle_Lock_Nut",
                  "weight": 375,
                  "category": "axle_lock_nut",
                  "sku": "EM-DRFCCG",
                  "label": "Part"
                },
                "label": "EM-DRFCCG - Molestiae Axle_Lock_Nut",
                "color": "pink",
                "styles": {},
                "scale_factor": 1,
                "type": null,
                "position": [
                  0,
                  0
                ]
              },
              {
                "id": 7156,
                "properties": {
                  "cost": 6373,
                  "weight": 1519,
                  "sku": "RD-IKMVJD-GG-FTBXRY-SU-UYVSNC-HU-ZNPXTJ-ON-WWUMYA-NW-NJCRQB",
                  "category": "skateboard",
                  "label": "Possible:Product"
                },
                "label": null,
                "color": "red",
                "styles": {},
                "scale_factor": 1,
                "type": null,
                "position": [
                  0,
                  0
                ]
              },
              {
                "id": 65,
                "properties": {
                  "cost": 1067,
                  "weight": 362,
                  "category": "truck",
                  "sku": "SU-UYVSNC-HU-ZNPXTJ",
                  "label": "Possible:Assembly"
                },
                "label": null,
                "color": "orange",
                "styles": {},
                "scale_factor": 1,
                "type": null,
                "position": [
                  0,
                  0
                ]
              },
              {
                "id": 6,
                "properties": {
                  "cost": 21,
                  "material": "steel",
                  "durability": 242,
                  "name": "Molestias Axle_Lock_Nut",
                  "weight": 221,
                  "category": "axle_lock_nut",
                  "sku": "HU-ZNPXTJ",
                  "label": "Part"
                },
                "label": "HU-ZNPXTJ - Molestias Axle_Lock_Nut",
                "color": "pink",
                "styles": {},
                "scale_factor": 1,
                "type": null,
                "position": [
                  0,
                  0
                ]
              },
              {
                "id": 7062,
                "properties": {
                  "cost": 6381,
                  "weight": 1399,
                  "sku": "RD-IKMVJD-GG-FTBXRY-SU-UYVSNC-VR-BBVDMQ-ON-WWUMYA-NW-NJCRQB",
                  "category": "skateboard",
                  "label": "Possible:Product"
                },
                "label": null,
                "color": "red",
                "styles": {},
                "scale_factor": 1,
                "type": null,
                "position": [
                  0,
                  0
                ]
              },
              {
                "id": 64,
                "properties": {
                  "cost": 1075,
                  "weight": 242,
                  "category": "truck",
                  "sku": "SU-UYVSNC-VR-BBVDMQ",
                  "label": "Possible:Assembly"
                },
                "label": null,
                "color": "orange",
                "styles": {},
                "scale_factor": 1,
                "type": null,
                "position": [
                  0,
                  0
                ]
              },
              {
                "id": 24,
                "properties": {
                  "cost": 29,
                  "material": "steel",
                  "durability": 238,
                  "name": "Cumque Axle_Lock_Nut",
                  "weight": 101,
                  "category": "axle_lock_nut",
                  "sku": "VR-BBVDMQ",
                  "label": "Part"
                },
                "label": "VR-BBVDMQ - Cumque Axle_Lock_Nut",
                "color": "pink",
                "styles": {},
                "scale_factor": 1,
                "type": null,
                "position": [
                  0,
                  0
                ]
              },
              {
                "id": 7435,
                "properties": {
                  "cost": 6410,
                  "weight": 1450,
                  "sku": "RD-IKMVJD-GG-FTBXRY-SU-UYVSNC-YH-ZYDDDO-ON-WWUMYA-SJ-BHJIUA",
                  "category": "skateboard",
                  "label": "Possible:Product"
                },
                "label": null,
                "color": "red",
                "styles": {},
                "scale_factor": 1,
                "type": null,
                "position": [
                  0,
                  0
                ]
              },
              {
                "id": 95,
                "properties": {
                  "cost": 582,
                  "weight": 460,
                  "category": "wheel",
                  "sku": "ON-WWUMYA-SJ-BHJIUA",
                  "label": "Possible:Assembly"
                },
                "label": null,
                "color": "orange",
                "styles": {},
                "scale_factor": 1,
                "type": null,
                "position": [
                  0,
                  0
                ]
              },
              {
                "id": 31,
                "properties": {
                  "inner_diameter": 8,
                  "abec": 3,
                  "cost": 199,
                  "material": "steel",
                  "thickness": 7,
                  "durability": 194,
                  "name": "Ad Bearing",
                  "weight": 225,
                  "outer_diameter": 22,
                  "category": "bearing",
                  "sku": "SJ-BHJIUA",
                  "label": "Part"
                },
                "label": "SJ-BHJIUA - Ad Bearing",
                "color": "green",
                "styles": {},
                "scale_factor": 1,
                "type": null,
                "position": [
                  0,
                  0
                ]
              },
              {
                "id": 7341,
                "properties": {
                  "cost": 6412,
                  "weight": 1607,
                  "sku": "RD-IKMVJD-GG-FTBXRY-SU-UYVSNC-BW-YXECIC-ON-WWUMYA-SJ-BHJIUA",
                  "category": "skateboard",
                  "label": "Possible:Product"
                },
                "label": null,
                "color": "red",
                "styles": {},
                "scale_factor": 1,
                "type": null,
                "position": [
                  0,
                  0
                ]
              },
              {
                "id": 7247,
                "properties": {
                  "cost": 6414,
                  "weight": 1608,
                  "sku": "RD-IKMVJD-GG-FTBXRY-SU-UYVSNC-EM-DRFCCG-ON-WWUMYA-SJ-BHJIUA",
                  "category": "skateboard",
                  "label": "Possible:Product"
                },
                "label": null,
                "color": "red",
                "styles": {},
                "scale_factor": 1,
                "type": null,
                "position": [
                  0,
                  0
                ]
              },
              {
                "id": 7153,
                "properties": {
                  "cost": 6419,
                  "weight": 1454,
                  "sku": "RD-IKMVJD-GG-FTBXRY-SU-UYVSNC-HU-ZNPXTJ-ON-WWUMYA-SJ-BHJIUA",
                  "category": "skateboard",
                  "label": "Possible:Product"
                },
                "label": null,
                "color": "red",
                "styles": {},
                "scale_factor": 1,
                "type": null,
                "position": [
                  0,
                  0
                ]
              },
              {
                "id": 7059,
                "properties": {
                  "cost": 6427,
                  "weight": 1334,
                  "sku": "RD-IKMVJD-GG-FTBXRY-SU-UYVSNC-VR-BBVDMQ-ON-WWUMYA-SJ-BHJIUA",
                  "category": "skateboard",
                  "label": "Possible:Product"
                },
                "label": null,
                "color": "red",
                "styles": {},
                "scale_factor": 1,
                "type": null,
                "position": [
                  0,
                  0
                ]
              },
              {
                "id": 7431,
                "properties": {
                  "cost": 6438,
                  "weight": 1636,
                  "sku": "RD-IKMVJD-GG-FTBXRY-SU-UYVSNC-YH-ZYDDDO-RU-BFNJUS-NW-NJCRQB",
                  "category": "skateboard",
                  "label": "Possible:Product"
                },
                "label": null,
                "color": "red",
                "styles": {},
                "scale_factor": 1,
                "type": null,
                "position": [
                  0,
                  0
                ]
              },
              {
                "id": 91,
                "properties": {
                  "cost": 610,
                  "weight": 646,
                  "category": "wheel",
                  "sku": "RU-BFNJUS-NW-NJCRQB",
                  "label": "Possible:Assembly"
                },
                "label": null,
                "color": "orange",
                "styles": {},
                "scale_factor": 1,
                "type": null,
                "position": [
                  0,
                  0
                ]
              },
              {
                "id": 14,
                "properties": {
                  "hardness": 96,
                  "cost": 457,
                  "material": "plastic",
                  "diameter": 55,
                  "durability": 177,
                  "name": "In Wheel",
                  "weight": 356,
                  "bearing_diameter": 22,
                  "category": "wheel",
                  "sku": "RU-BFNJUS",
                  "bearing_width": 7,
                  "label": "Part"
                },
                "label": "RU-BFNJUS - In Wheel",
                "color": "yellow",
                "styles": {},
                "scale_factor": 1,
                "type": null,
                "position": [
                  0,
                  0
                ]
              },
              {
                "id": 7337,
                "properties": {
                  "cost": 6440,
                  "weight": 1793,
                  "sku": "RD-IKMVJD-GG-FTBXRY-SU-UYVSNC-BW-YXECIC-RU-BFNJUS-NW-NJCRQB",
                  "category": "skateboard",
                  "label": "Possible:Product"
                },
                "label": null,
                "color": "red",
                "styles": {},
                "scale_factor": 1,
                "type": null,
                "position": [
                  0,
                  0
                ]
              },
              {
                "id": 7243,
                "properties": {
                  "cost": 6442,
                  "weight": 1794,
                  "sku": "RD-IKMVJD-GG-FTBXRY-SU-UYVSNC-EM-DRFCCG-RU-BFNJUS-NW-NJCRQB",
                  "category": "skateboard",
                  "label": "Possible:Product"
                },
                "label": null,
                "color": "red",
                "styles": {},
                "scale_factor": 1,
                "type": null,
                "position": [
                  0,
                  0
                ]
              },
              {
                "id": 7149,
                "properties": {
                  "cost": 6447,
                  "weight": 1640,
                  "sku": "RD-IKMVJD-GG-FTBXRY-SU-UYVSNC-HU-ZNPXTJ-RU-BFNJUS-NW-NJCRQB",
                  "category": "skateboard",
                  "label": "Possible:Product"
                },
                "label": null,
                "color": "red",
                "styles": {},
                "scale_factor": 1,
                "type": null,
                "position": [
                  0,
                  0
                ]
              },
              {
                "id": 7055,
                "properties": {
                  "cost": 6455,
                  "weight": 1520,
                  "sku": "RD-IKMVJD-GG-FTBXRY-SU-UYVSNC-VR-BBVDMQ-RU-BFNJUS-NW-NJCRQB",
                  "category": "skateboard",
                  "label": "Possible:Product"
                },
                "label": null,
                "color": "red",
                "styles": {},
                "scale_factor": 1,
                "type": null,
                "position": [
                  0,
                  0
                ]
              },
              {
                "id": 7432,
                "properties": {
                  "cost": 6484,
                  "weight": 1571,
                  "sku": "RD-IKMVJD-GG-FTBXRY-SU-UYVSNC-YH-ZYDDDO-RU-BFNJUS-SJ-BHJIUA",
                  "category": "skateboard",
                  "label": "Possible:Product"
                },
                "label": null,
                "color": "red",
                "styles": {},
                "scale_factor": 1,
                "type": null,
                "position": [
                  0,
                  0
                ]
              },
              {
                "id": 92,
                "properties": {
                  "cost": 656,
                  "weight": 581,
                  "category": "wheel",
                  "sku": "RU-BFNJUS-SJ-BHJIUA",
                  "label": "Possible:Assembly"
                },
                "label": null,
                "color": "orange",
                "styles": {},
                "scale_factor": 1,
                "type": null,
                "position": [
                  0,
                  0
                ]
              },
              {
                "id": 7338,
                "properties": {
                  "cost": 6486,
                  "weight": 1728,
                  "sku": "RD-IKMVJD-GG-FTBXRY-SU-UYVSNC-BW-YXECIC-RU-BFNJUS-SJ-BHJIUA",
                  "category": "skateboard",
                  "label": "Possible:Product"
                },
                "label": null,
                "color": "red",
                "styles": {},
                "scale_factor": 1,
                "type": null,
                "position": [
                  0,
                  0
                ]
              },
              {
                "id": 7244,
                "properties": {
                  "cost": 6488,
                  "weight": 1729,
                  "sku": "RD-IKMVJD-GG-FTBXRY-SU-UYVSNC-EM-DRFCCG-RU-BFNJUS-SJ-BHJIUA",
                  "category": "skateboard",
                  "label": "Possible:Product"
                },
                "label": null,
                "color": "red",
                "styles": {},
                "scale_factor": 1,
                "type": null,
                "position": [
                  0,
                  0
                ]
              },
              {
                "id": 7150,
                "properties": {
                  "cost": 6493,
                  "weight": 1575,
                  "sku": "RD-IKMVJD-GG-FTBXRY-SU-UYVSNC-HU-ZNPXTJ-RU-BFNJUS-SJ-BHJIUA",
                  "category": "skateboard",
                  "label": "Possible:Product"
                },
                "label": null,
                "color": "red",
                "styles": {},
                "scale_factor": 1,
                "type": null,
                "position": [
                  0,
                  0
                ]
              },
              {
                "id": 7056,
                "properties": {
                  "cost": 6501,
                  "weight": 1455,
                  "sku": "RD-IKMVJD-GG-FTBXRY-SU-UYVSNC-VR-BBVDMQ-RU-BFNJUS-SJ-BHJIUA",
                  "category": "skateboard",
                  "label": "Possible:Product"
                },
                "label": null,
                "color": "red",
                "styles": {},
                "scale_factor": 1,
                "type": null,
                "position": [
                  0,
                  0
                ]
              }
            ],
            "_overview": {
              "enabled": false,
              "overview_set": true
            },
            "_sidebar": {
              "enabled": false,
              "start_with": "Neighbourhood"
            },
            "_svg": "",
            "_view_count": null,
            "_view_module": "yfiles-jupyter-graphs",
            "_view_module_version": "^1.4.5",
            "_view_name": "GraphView",
            "layout": "IPY_MODEL_0cb059870e974e9996623be0bc9d7912"
          }
        },
        "0cb059870e974e9996623be0bc9d7912": {
          "model_module": "@jupyter-widgets/base",
          "model_name": "LayoutModel",
          "model_module_version": "1.2.0",
          "state": {
            "_model_module": "@jupyter-widgets/base",
            "_model_module_version": "1.2.0",
            "_model_name": "LayoutModel",
            "_view_count": null,
            "_view_module": "@jupyter-widgets/base",
            "_view_module_version": "1.2.0",
            "_view_name": "LayoutView",
            "align_content": null,
            "align_items": null,
            "align_self": null,
            "border": null,
            "bottom": null,
            "display": null,
            "flex": null,
            "flex_flow": null,
            "grid_area": null,
            "grid_auto_columns": null,
            "grid_auto_flow": null,
            "grid_auto_rows": null,
            "grid_column": null,
            "grid_gap": null,
            "grid_row": null,
            "grid_template_areas": null,
            "grid_template_columns": null,
            "grid_template_rows": null,
            "height": "500px",
            "justify_content": null,
            "justify_items": null,
            "left": null,
            "margin": null,
            "max_height": null,
            "max_width": null,
            "min_height": null,
            "min_width": null,
            "object_fit": null,
            "object_position": null,
            "order": null,
            "overflow": null,
            "overflow_x": null,
            "overflow_y": null,
            "padding": null,
            "right": null,
            "top": null,
            "visibility": null,
            "width": "100%"
          }
        }
      }
    }
  },
  "cells": [
    {
      "cell_type": "markdown",
      "source": [
        "# Skateboard\n",
        "\n",
        "Show parts, create functions to establish \"can work together\" relationship\n",
        "\n",
        " - create random parts\n",
        " - add attributes to parts:\n",
        "\t- weight\n",
        "\t- cost\n",
        "\t- material\n",
        "\t- durability (km)\n",
        " - add attributes that are specific to category:\n",
        "\t- eg: diameter of bearing in wheel, diameter of wheel\n",
        "\n",
        "\n",
        "### Parts\n",
        "\n",
        " - Deck\n",
        " - Grip Tape\n",
        " - Truck Assembly (x2)\n",
        " - Bearing (x8)\n",
        " - Wheel (x4)\n",
        " - Axle Lock Nut (x4)\n",
        " - Bolts (x8)\n",
        " - Nuts (x8)"
      ],
      "metadata": {
        "id": "unpHKBeDmXXX"
      }
    },
    {
      "cell_type": "code",
      "execution_count": 129,
      "metadata": {
        "id": "oN0ZhLeilqR_",
        "colab": {
          "base_uri": "https://localhost:8080/"
        },
        "outputId": "73f295a1-c705-4e82-8672-7a5a9fe5c487"
      },
      "outputs": [
        {
          "output_type": "stream",
          "name": "stdout",
          "text": [
            "Looking in indexes: https://pypi.org/simple, https://us-python.pkg.dev/colab-wheels/public/simple/\n",
            "Requirement already satisfied: random-word in /usr/local/lib/python3.10/dist-packages (1.0.11)\n",
            "Requirement already satisfied: yfiles_jupyter_graphs in /usr/local/lib/python3.10/dist-packages (1.4.5)\n",
            "Requirement already satisfied: requests in /usr/local/lib/python3.10/dist-packages (from random-word) (2.27.1)\n",
            "Requirement already satisfied: pytest in /usr/local/lib/python3.10/dist-packages (from random-word) (7.2.2)\n",
            "Requirement already satisfied: pyyaml in /usr/local/lib/python3.10/dist-packages (from random-word) (6.0)\n",
            "Requirement already satisfied: ipywidgets>=7.6.0 in /usr/local/lib/python3.10/dist-packages (from yfiles_jupyter_graphs) (7.7.1)\n",
            "Requirement already satisfied: ipykernel>=4.5.1 in /usr/local/lib/python3.10/dist-packages (from ipywidgets>=7.6.0->yfiles_jupyter_graphs) (5.5.6)\n",
            "Requirement already satisfied: ipython-genutils~=0.2.0 in /usr/local/lib/python3.10/dist-packages (from ipywidgets>=7.6.0->yfiles_jupyter_graphs) (0.2.0)\n",
            "Requirement already satisfied: traitlets>=4.3.1 in /usr/local/lib/python3.10/dist-packages (from ipywidgets>=7.6.0->yfiles_jupyter_graphs) (5.7.1)\n",
            "Requirement already satisfied: widgetsnbextension~=3.6.0 in /usr/local/lib/python3.10/dist-packages (from ipywidgets>=7.6.0->yfiles_jupyter_graphs) (3.6.4)\n",
            "Requirement already satisfied: ipython>=4.0.0 in /usr/local/lib/python3.10/dist-packages (from ipywidgets>=7.6.0->yfiles_jupyter_graphs) (7.34.0)\n",
            "Requirement already satisfied: jupyterlab-widgets>=1.0.0 in /usr/local/lib/python3.10/dist-packages (from ipywidgets>=7.6.0->yfiles_jupyter_graphs) (3.0.7)\n",
            "Requirement already satisfied: attrs>=19.2.0 in /usr/local/lib/python3.10/dist-packages (from pytest->random-word) (23.1.0)\n",
            "Requirement already satisfied: iniconfig in /usr/local/lib/python3.10/dist-packages (from pytest->random-word) (2.0.0)\n",
            "Requirement already satisfied: packaging in /usr/local/lib/python3.10/dist-packages (from pytest->random-word) (23.1)\n",
            "Requirement already satisfied: pluggy<2.0,>=0.12 in /usr/local/lib/python3.10/dist-packages (from pytest->random-word) (1.0.0)\n",
            "Requirement already satisfied: exceptiongroup>=1.0.0rc8 in /usr/local/lib/python3.10/dist-packages (from pytest->random-word) (1.1.1)\n",
            "Requirement already satisfied: tomli>=1.0.0 in /usr/local/lib/python3.10/dist-packages (from pytest->random-word) (2.0.1)\n",
            "Requirement already satisfied: urllib3<1.27,>=1.21.1 in /usr/local/lib/python3.10/dist-packages (from requests->random-word) (1.26.15)\n",
            "Requirement already satisfied: certifi>=2017.4.17 in /usr/local/lib/python3.10/dist-packages (from requests->random-word) (2022.12.7)\n",
            "Requirement already satisfied: charset-normalizer~=2.0.0 in /usr/local/lib/python3.10/dist-packages (from requests->random-word) (2.0.12)\n",
            "Requirement already satisfied: idna<4,>=2.5 in /usr/local/lib/python3.10/dist-packages (from requests->random-word) (3.4)\n",
            "Requirement already satisfied: jupyter-client in /usr/local/lib/python3.10/dist-packages (from ipykernel>=4.5.1->ipywidgets>=7.6.0->yfiles_jupyter_graphs) (6.1.12)\n",
            "Requirement already satisfied: tornado>=4.2 in /usr/local/lib/python3.10/dist-packages (from ipykernel>=4.5.1->ipywidgets>=7.6.0->yfiles_jupyter_graphs) (6.3.1)\n",
            "Requirement already satisfied: setuptools>=18.5 in /usr/local/lib/python3.10/dist-packages (from ipython>=4.0.0->ipywidgets>=7.6.0->yfiles_jupyter_graphs) (67.7.2)\n",
            "Requirement already satisfied: jedi>=0.16 in /usr/local/lib/python3.10/dist-packages (from ipython>=4.0.0->ipywidgets>=7.6.0->yfiles_jupyter_graphs) (0.18.2)\n",
            "Requirement already satisfied: decorator in /usr/local/lib/python3.10/dist-packages (from ipython>=4.0.0->ipywidgets>=7.6.0->yfiles_jupyter_graphs) (4.4.2)\n",
            "Requirement already satisfied: pickleshare in /usr/local/lib/python3.10/dist-packages (from ipython>=4.0.0->ipywidgets>=7.6.0->yfiles_jupyter_graphs) (0.7.5)\n",
            "Requirement already satisfied: prompt-toolkit!=3.0.0,!=3.0.1,<3.1.0,>=2.0.0 in /usr/local/lib/python3.10/dist-packages (from ipython>=4.0.0->ipywidgets>=7.6.0->yfiles_jupyter_graphs) (3.0.38)\n",
            "Requirement already satisfied: pygments in /usr/local/lib/python3.10/dist-packages (from ipython>=4.0.0->ipywidgets>=7.6.0->yfiles_jupyter_graphs) (2.14.0)\n",
            "Requirement already satisfied: backcall in /usr/local/lib/python3.10/dist-packages (from ipython>=4.0.0->ipywidgets>=7.6.0->yfiles_jupyter_graphs) (0.2.0)\n",
            "Requirement already satisfied: matplotlib-inline in /usr/local/lib/python3.10/dist-packages (from ipython>=4.0.0->ipywidgets>=7.6.0->yfiles_jupyter_graphs) (0.1.6)\n",
            "Requirement already satisfied: pexpect>4.3 in /usr/local/lib/python3.10/dist-packages (from ipython>=4.0.0->ipywidgets>=7.6.0->yfiles_jupyter_graphs) (4.8.0)\n",
            "Requirement already satisfied: notebook>=4.4.1 in /usr/local/lib/python3.10/dist-packages (from widgetsnbextension~=3.6.0->ipywidgets>=7.6.0->yfiles_jupyter_graphs) (6.4.8)\n",
            "Requirement already satisfied: parso<0.9.0,>=0.8.0 in /usr/local/lib/python3.10/dist-packages (from jedi>=0.16->ipython>=4.0.0->ipywidgets>=7.6.0->yfiles_jupyter_graphs) (0.8.3)\n",
            "Requirement already satisfied: jinja2 in /usr/local/lib/python3.10/dist-packages (from notebook>=4.4.1->widgetsnbextension~=3.6.0->ipywidgets>=7.6.0->yfiles_jupyter_graphs) (3.1.2)\n",
            "Requirement already satisfied: pyzmq>=17 in /usr/local/lib/python3.10/dist-packages (from notebook>=4.4.1->widgetsnbextension~=3.6.0->ipywidgets>=7.6.0->yfiles_jupyter_graphs) (23.2.1)\n",
            "Requirement already satisfied: argon2-cffi in /usr/local/lib/python3.10/dist-packages (from notebook>=4.4.1->widgetsnbextension~=3.6.0->ipywidgets>=7.6.0->yfiles_jupyter_graphs) (21.3.0)\n",
            "Requirement already satisfied: jupyter-core>=4.6.1 in /usr/local/lib/python3.10/dist-packages (from notebook>=4.4.1->widgetsnbextension~=3.6.0->ipywidgets>=7.6.0->yfiles_jupyter_graphs) (5.3.0)\n",
            "Requirement already satisfied: nbformat in /usr/local/lib/python3.10/dist-packages (from notebook>=4.4.1->widgetsnbextension~=3.6.0->ipywidgets>=7.6.0->yfiles_jupyter_graphs) (5.8.0)\n",
            "Requirement already satisfied: nbconvert in /usr/local/lib/python3.10/dist-packages (from notebook>=4.4.1->widgetsnbextension~=3.6.0->ipywidgets>=7.6.0->yfiles_jupyter_graphs) (6.5.4)\n",
            "Requirement already satisfied: nest-asyncio>=1.5 in /usr/local/lib/python3.10/dist-packages (from notebook>=4.4.1->widgetsnbextension~=3.6.0->ipywidgets>=7.6.0->yfiles_jupyter_graphs) (1.5.6)\n",
            "Requirement already satisfied: Send2Trash>=1.8.0 in /usr/local/lib/python3.10/dist-packages (from notebook>=4.4.1->widgetsnbextension~=3.6.0->ipywidgets>=7.6.0->yfiles_jupyter_graphs) (1.8.0)\n",
            "Requirement already satisfied: terminado>=0.8.3 in /usr/local/lib/python3.10/dist-packages (from notebook>=4.4.1->widgetsnbextension~=3.6.0->ipywidgets>=7.6.0->yfiles_jupyter_graphs) (0.17.1)\n",
            "Requirement already satisfied: prometheus-client in /usr/local/lib/python3.10/dist-packages (from notebook>=4.4.1->widgetsnbextension~=3.6.0->ipywidgets>=7.6.0->yfiles_jupyter_graphs) (0.16.0)\n",
            "Requirement already satisfied: python-dateutil>=2.1 in /usr/local/lib/python3.10/dist-packages (from jupyter-client->ipykernel>=4.5.1->ipywidgets>=7.6.0->yfiles_jupyter_graphs) (2.8.2)\n",
            "Requirement already satisfied: ptyprocess>=0.5 in /usr/local/lib/python3.10/dist-packages (from pexpect>4.3->ipython>=4.0.0->ipywidgets>=7.6.0->yfiles_jupyter_graphs) (0.7.0)\n",
            "Requirement already satisfied: wcwidth in /usr/local/lib/python3.10/dist-packages (from prompt-toolkit!=3.0.0,!=3.0.1,<3.1.0,>=2.0.0->ipython>=4.0.0->ipywidgets>=7.6.0->yfiles_jupyter_graphs) (0.2.6)\n",
            "Requirement already satisfied: platformdirs>=2.5 in /usr/local/lib/python3.10/dist-packages (from jupyter-core>=4.6.1->notebook>=4.4.1->widgetsnbextension~=3.6.0->ipywidgets>=7.6.0->yfiles_jupyter_graphs) (3.3.0)\n",
            "Requirement already satisfied: six>=1.5 in /usr/local/lib/python3.10/dist-packages (from python-dateutil>=2.1->jupyter-client->ipykernel>=4.5.1->ipywidgets>=7.6.0->yfiles_jupyter_graphs) (1.16.0)\n",
            "Requirement already satisfied: argon2-cffi-bindings in /usr/local/lib/python3.10/dist-packages (from argon2-cffi->notebook>=4.4.1->widgetsnbextension~=3.6.0->ipywidgets>=7.6.0->yfiles_jupyter_graphs) (21.2.0)\n",
            "Requirement already satisfied: MarkupSafe>=2.0 in /usr/local/lib/python3.10/dist-packages (from jinja2->notebook>=4.4.1->widgetsnbextension~=3.6.0->ipywidgets>=7.6.0->yfiles_jupyter_graphs) (2.1.2)\n",
            "Requirement already satisfied: lxml in /usr/local/lib/python3.10/dist-packages (from nbconvert->notebook>=4.4.1->widgetsnbextension~=3.6.0->ipywidgets>=7.6.0->yfiles_jupyter_graphs) (4.9.2)\n",
            "Requirement already satisfied: beautifulsoup4 in /usr/local/lib/python3.10/dist-packages (from nbconvert->notebook>=4.4.1->widgetsnbextension~=3.6.0->ipywidgets>=7.6.0->yfiles_jupyter_graphs) (4.11.2)\n",
            "Requirement already satisfied: bleach in /usr/local/lib/python3.10/dist-packages (from nbconvert->notebook>=4.4.1->widgetsnbextension~=3.6.0->ipywidgets>=7.6.0->yfiles_jupyter_graphs) (6.0.0)\n",
            "Requirement already satisfied: defusedxml in /usr/local/lib/python3.10/dist-packages (from nbconvert->notebook>=4.4.1->widgetsnbextension~=3.6.0->ipywidgets>=7.6.0->yfiles_jupyter_graphs) (0.7.1)\n",
            "Requirement already satisfied: entrypoints>=0.2.2 in /usr/local/lib/python3.10/dist-packages (from nbconvert->notebook>=4.4.1->widgetsnbextension~=3.6.0->ipywidgets>=7.6.0->yfiles_jupyter_graphs) (0.4)\n",
            "Requirement already satisfied: jupyterlab-pygments in /usr/local/lib/python3.10/dist-packages (from nbconvert->notebook>=4.4.1->widgetsnbextension~=3.6.0->ipywidgets>=7.6.0->yfiles_jupyter_graphs) (0.2.2)\n",
            "Requirement already satisfied: mistune<2,>=0.8.1 in /usr/local/lib/python3.10/dist-packages (from nbconvert->notebook>=4.4.1->widgetsnbextension~=3.6.0->ipywidgets>=7.6.0->yfiles_jupyter_graphs) (0.8.4)\n",
            "Requirement already satisfied: nbclient>=0.5.0 in /usr/local/lib/python3.10/dist-packages (from nbconvert->notebook>=4.4.1->widgetsnbextension~=3.6.0->ipywidgets>=7.6.0->yfiles_jupyter_graphs) (0.7.4)\n",
            "Requirement already satisfied: pandocfilters>=1.4.1 in /usr/local/lib/python3.10/dist-packages (from nbconvert->notebook>=4.4.1->widgetsnbextension~=3.6.0->ipywidgets>=7.6.0->yfiles_jupyter_graphs) (1.5.0)\n",
            "Requirement already satisfied: tinycss2 in /usr/local/lib/python3.10/dist-packages (from nbconvert->notebook>=4.4.1->widgetsnbextension~=3.6.0->ipywidgets>=7.6.0->yfiles_jupyter_graphs) (1.2.1)\n",
            "Requirement already satisfied: fastjsonschema in /usr/local/lib/python3.10/dist-packages (from nbformat->notebook>=4.4.1->widgetsnbextension~=3.6.0->ipywidgets>=7.6.0->yfiles_jupyter_graphs) (2.16.3)\n",
            "Requirement already satisfied: jsonschema>=2.6 in /usr/local/lib/python3.10/dist-packages (from nbformat->notebook>=4.4.1->widgetsnbextension~=3.6.0->ipywidgets>=7.6.0->yfiles_jupyter_graphs) (4.3.3)\n",
            "Requirement already satisfied: pyrsistent!=0.17.0,!=0.17.1,!=0.17.2,>=0.14.0 in /usr/local/lib/python3.10/dist-packages (from jsonschema>=2.6->nbformat->notebook>=4.4.1->widgetsnbextension~=3.6.0->ipywidgets>=7.6.0->yfiles_jupyter_graphs) (0.19.3)\n",
            "Requirement already satisfied: cffi>=1.0.1 in /usr/local/lib/python3.10/dist-packages (from argon2-cffi-bindings->argon2-cffi->notebook>=4.4.1->widgetsnbextension~=3.6.0->ipywidgets>=7.6.0->yfiles_jupyter_graphs) (1.15.1)\n",
            "Requirement already satisfied: soupsieve>1.2 in /usr/local/lib/python3.10/dist-packages (from beautifulsoup4->nbconvert->notebook>=4.4.1->widgetsnbextension~=3.6.0->ipywidgets>=7.6.0->yfiles_jupyter_graphs) (2.4.1)\n",
            "Requirement already satisfied: webencodings in /usr/local/lib/python3.10/dist-packages (from bleach->nbconvert->notebook>=4.4.1->widgetsnbextension~=3.6.0->ipywidgets>=7.6.0->yfiles_jupyter_graphs) (0.5.1)\n",
            "Requirement already satisfied: pycparser in /usr/local/lib/python3.10/dist-packages (from cffi>=1.0.1->argon2-cffi-bindings->argon2-cffi->notebook>=4.4.1->widgetsnbextension~=3.6.0->ipywidgets>=7.6.0->yfiles_jupyter_graphs) (2.21)\n",
            "Looking in indexes: https://pypi.org/simple, https://us-python.pkg.dev/colab-wheels/public/simple/\n",
            "Requirement already satisfied: lorem-text in /usr/local/lib/python3.10/dist-packages (2.1)\n",
            "Requirement already satisfied: neo4j in /usr/local/lib/python3.10/dist-packages (5.8.1)\n",
            "Requirement already satisfied: Click>=7.0 in /usr/local/lib/python3.10/dist-packages (from lorem-text) (8.1.3)\n",
            "Requirement already satisfied: pytz in /usr/local/lib/python3.10/dist-packages (from neo4j) (2022.7.1)\n"
          ]
        }
      ],
      "source": [
        "!pip install random-word yfiles_jupyter_graphs\n",
        "!pip install lorem-text neo4j\n",
        "\n",
        "\n",
        "from yfiles_jupyter_graphs import GraphWidget\n"
      ]
    },
    {
      "cell_type": "code",
      "source": [
        "# functions\n",
        "from random_word import RandomWords\n",
        "import random\n",
        "import string\n",
        "from lorem_text import lorem\n",
        "\n",
        "\n",
        "r = RandomWords()\n",
        "\n",
        "# print(r.get_random_word())\n",
        "# print(lorem.words(1))\n",
        "\n",
        "def get_random_string(length):\n",
        "    # choose from all lowercase letter\n",
        "    letters = string.ascii_uppercase\n",
        "    result_str = ''.join(random.choice(letters) for i in range(length))\n",
        "    # print(\"Random string of length\", length, \"is:\", result_str)\n",
        "    return result_str\n",
        "    \n",
        "def make_sku():\n",
        "    return get_random_string(2)+'-'+get_random_string(6)\n",
        "\n",
        "def make_item_name(category):\n",
        "    return (lorem.words(1)+' '+category).title()\n",
        "\n",
        "def make_weight():\n",
        "    return random.randint(100, 500)\n",
        "\n",
        "def make_durability():\n",
        "    return random.randint(50, 250)\n",
        "\n",
        "def make_cost(min = 1, max = 250):\n",
        "    return random.randint(min, max)\n",
        "\n",
        "# print(make_sku())\n",
        "# print(make_item_name('deck'))"
      ],
      "metadata": {
        "id": "yLVQ9qKYmLWV"
      },
      "execution_count": 130,
      "outputs": []
    },
    {
      "cell_type": "code",
      "source": [
        "types = [\n",
        "    \"skateboard\",\n",
        "    \"deck\",\n",
        "    \"grip_tape\",\n",
        "    \"truck\",\n",
        "    \"bearing\",\n",
        "    \"wheel\",\n",
        "    \"axle_lock_nut\",\n",
        "    \"bolt\",\n",
        "    \"nut\"\n",
        "]\n",
        "\n",
        "# https://www.surfertoday.com/board-size-chart/skateboard\n",
        "deck_widths = [6,6.5,7,8]\n",
        "deck_lengths = [27,29,32]\n",
        "deck_materials = [\"wood\",\"plastic\"]\n",
        "\n",
        "grip_tape_widths = [6,6.5,7,8]\n",
        "grip_tape_lengths = [27,29,32]\n",
        "grip_tape_materials = [\"paper\",\"plastic\"]\n",
        "\n",
        "truck_axel_lenghts = [7.75,8]\n",
        "truck_hanger_length = [5,5.25,5.5]\n",
        "truck_materials = [\"steel\"]\n",
        "\n",
        "wheel_diameter = [49,52,55,60,65]\n",
        "wheel_hardness = [78,88,96,101]\n",
        "wheel_materials = [\"plastic\",\"rubber\"]\n",
        "\n",
        "# https://www.warehouseskateboards.com/help/Skateboard-Bearings-Buying-Guide\n",
        "bearing_abecs = [1,3,5,7,9]\n",
        "bearing_materials = [\"steel\",\"ceramic\"]\n",
        "\n",
        "axel_lock_nut_materials = [\"steel\"]\n",
        "\n",
        "bolt_materials = [\"steel\"]\n",
        "bolt_heads = [\"phillips\",\"hex\"]\n",
        "bolt_colors = [\"black\",\"gold\"]\n",
        "bolt_lenghts = [2.54,5.08]\n",
        "bolt_threads = [\"10x32\"]\n",
        "\n",
        "nut_materials = [\"steel\"]\n",
        "nut_colors = [\"black\",\"gold\"]\n",
        "nut_threads = [\"10x32\"]\n",
        "\n",
        "def make_item(category):\n",
        "    item = {\n",
        "        \"sku\": make_sku(),\n",
        "        \"name\": make_item_name(category),\n",
        "        \"category\": category,\n",
        "        \"weight\": make_weight(),\n",
        "        \"durability\": make_durability(),\n",
        "    }\n",
        "\n",
        "    if category == \"skateboard\":\n",
        "      # remove default attributes - inherited from children\n",
        "      item.pop(\"weight\")\n",
        "      item.pop(\"durability\")\n",
        "\n",
        "    if category == \"deck\":\n",
        "      item[\"width\"] = random.choice(deck_widths)\n",
        "      item[\"lenth\"] = random.choice(deck_lengths)\n",
        "      item[\"material\"] = random.choice(deck_materials)\n",
        "      item[\"cost\"] = make_cost(4000,8000)\n",
        "\n",
        "    elif category == \"truck\":\n",
        "      item[\"axle_length\"] = random.choice(truck_axel_lenghts)\n",
        "      item[\"hanger_length\"] = random.choice(truck_hanger_length)\n",
        "      item[\"material\"] = random.choice(truck_materials)\n",
        "      item[\"cost\"] = make_cost(1000,3000)\n",
        "\n",
        "    elif category == \"grip_tape\":\n",
        "      item[\"length\"] = random.choice(grip_tape_lengths)\n",
        "      item[\"width\"] = random.choice(grip_tape_widths)\n",
        "      item[\"material\"] = random.choice(grip_tape_materials)\n",
        "      item[\"cost\"] = make_cost(500,700)\n",
        "\n",
        "    elif category == \"bearing\":\n",
        "      item[\"inner_diameter\"] = 8\n",
        "      item[\"outer_diameter\"] = 22\n",
        "      item[\"thickness\"] = 7\n",
        "      item[\"abec\"] = random.choice(bearing_abecs)\n",
        "      item[\"material\"] = random.choice(bearing_materials)\n",
        "      item[\"cost\"] = make_cost(100,800)\n",
        "\n",
        "    elif category == \"wheel\":\n",
        "      item[\"bearing_diameter\"] = 22\n",
        "      item[\"bearing_width\"] = 7\n",
        "      item[\"diameter\"] = random.choice(wheel_diameter)\n",
        "      item[\"hardness\"] = random.choice(wheel_hardness)\n",
        "      item[\"material\"] = random.choice(wheel_materials)\n",
        "      item[\"cost\"] = make_cost(300,2000)\n",
        "\n",
        "    elif category == \"axle_lock_nut\":\n",
        "      item[\"material\"] = random.choice(axel_lock_nut_materials)\n",
        "      item[\"cost\"] = make_cost(10,30)\n",
        "\n",
        "    elif category == \"bolt\":\n",
        "      item[\"head\"] = random.choice(bolt_heads)\n",
        "      item[\"color\"] = random.choice(bolt_colors)\n",
        "      item[\"length\"] = random.choice(bolt_lenghts)\n",
        "      item[\"thread\"] = random.choice(bolt_threads)\n",
        "      item[\"material\"] = random.choice(bolt_materials)\n",
        "      item[\"cost\"] = make_cost(10,30)\n",
        "\n",
        "    elif category == \"nut\":\n",
        "      item[\"color\"] = random.choice(nut_colors)\n",
        "      item[\"thread\"] = random.choice(nut_threads)\n",
        "      item[\"material\"] = random.choice(nut_materials)\n",
        "      item[\"cost\"] = make_cost(10,30)\n",
        "\n",
        "    return item\n",
        "\n",
        "\n",
        "parts = []\n",
        "relationships = []\n",
        "\n",
        "# Build the initial parts\n",
        "for t in types:\n",
        "    item = make_item(t)\n",
        "    parts.append(item)\n",
        "\n",
        "# Specify relationships (parents)\n",
        "for part in parts:\n",
        "\n",
        "  if part[\"category\"] == \"skateboard\":\n",
        "    # skateboard is the item - has no parents\n",
        "    rel = []\n",
        "\n",
        "    relationships.append({\n",
        "        \"sku\": part[\"sku\"],\n",
        "        \"cat\": part[\"category\"],\n",
        "        \"rel\": rel\n",
        "    })\n",
        "  elif part[\"category\"] == \"deck\":\n",
        "    # deck belongs to skateboard\n",
        "    rel = []\n",
        "    for p in parts:\n",
        "      if p[\"category\"] == \"skateboard\":\n",
        "        rel.append(p[\"sku\"])\n",
        "\n",
        "    relationships.append({\n",
        "        \"sku\": part[\"sku\"],\n",
        "        \"cat\": part[\"category\"],\n",
        "        \"rel\": rel\n",
        "    })\n",
        "  elif part[\"category\"] in [\"grip_tape\",\"truck\"]:\n",
        "    # grip_tape and truck belongs to deck\n",
        "    rel = []\n",
        "    for p in parts:\n",
        "      if p[\"category\"] == \"deck\":\n",
        "        rel.append(p[\"sku\"])\n",
        "\n",
        "    relationships.append({\n",
        "        \"sku\": part[\"sku\"],\n",
        "        \"cat\": part[\"category\"],\n",
        "        \"rel\": rel\n",
        "    })\n",
        "  elif part[\"category\"] in [\"axle_lock_nut\",\"bolt\",\"wheel\"]:\n",
        "    # axle_lock_nut, bolt and wheel belongs to truck\n",
        "    rel = []\n",
        "    for p in parts:\n",
        "      if p[\"category\"] == \"truck\":\n",
        "        rel.append(p[\"sku\"])\n",
        "\n",
        "    relationships.append({\n",
        "        \"sku\": part[\"sku\"],\n",
        "        \"cat\": part[\"category\"],\n",
        "        \"rel\": rel\n",
        "    })\n",
        "  elif part[\"category\"] in [\"bearing\"]:\n",
        "    # bearing belongs to wheel\n",
        "    rel = []\n",
        "    for p in parts:\n",
        "      if p[\"category\"] == \"wheel\":\n",
        "        rel.append(p[\"sku\"])\n",
        "\n",
        "    relationships.append({\n",
        "        \"sku\": part[\"sku\"],\n",
        "        \"rel\": rel\n",
        "    })\n",
        "  elif part[\"category\"] in [\"nut\"]:\n",
        "    # nut belongs to bolt\n",
        "    rel = []\n",
        "    for p in parts:\n",
        "      if p[\"category\"] == \"bolt\":\n",
        "        rel.append(p[\"sku\"])\n",
        "\n",
        "    relationships.append({\n",
        "        \"sku\": part[\"sku\"],\n",
        "        \"rel\": rel\n",
        "    })\n",
        "\n",
        "# TODO: Add qty\n",
        "\n",
        "print(relationships)\n",
        "\n",
        "# Create more random parts\n",
        "for x in range(4):\n",
        "  for t in types:\n",
        "      item = make_item(t)\n",
        "      parts.append(item)\n",
        "\n",
        "    \n",
        "print(parts)"
      ],
      "metadata": {
        "colab": {
          "base_uri": "https://localhost:8080/"
        },
        "id": "ILKFiUzjmQGN",
        "outputId": "26e4c73a-aca9-49b7-db0e-0a7f6c2e5c31"
      },
      "execution_count": 131,
      "outputs": [
        {
          "output_type": "stream",
          "name": "stdout",
          "text": [
            "[{'sku': 'CC-BKNGFC', 'cat': 'skateboard', 'rel': []}, {'sku': 'ML-NIOXZW', 'cat': 'deck', 'rel': ['CC-BKNGFC']}, {'sku': 'PT-AWUFQH', 'cat': 'grip_tape', 'rel': ['ML-NIOXZW']}, {'sku': 'LF-YLLEAY', 'cat': 'truck', 'rel': ['ML-NIOXZW']}, {'sku': 'NW-NJCRQB', 'rel': ['OR-GEVRWQ']}, {'sku': 'OR-GEVRWQ', 'cat': 'wheel', 'rel': ['LF-YLLEAY']}, {'sku': 'HU-ZNPXTJ', 'cat': 'axle_lock_nut', 'rel': ['LF-YLLEAY']}, {'sku': 'YW-UOJWUF', 'cat': 'bolt', 'rel': ['LF-YLLEAY']}, {'sku': 'JZ-ANUNFX', 'rel': ['YW-UOJWUF']}]\n",
            "[{'sku': 'CC-BKNGFC', 'name': 'Ut Skateboard', 'category': 'skateboard'}, {'sku': 'ML-NIOXZW', 'name': 'Accusamus Deck', 'category': 'deck', 'weight': 167, 'durability': 63, 'width': 6.5, 'lenth': 27, 'material': 'wood', 'cost': 4792}, {'sku': 'PT-AWUFQH', 'name': 'Officia Grip_Tape', 'category': 'grip_tape', 'weight': 307, 'durability': 98, 'length': 29, 'width': 7, 'material': 'plastic', 'cost': 683}, {'sku': 'LF-YLLEAY', 'name': 'Perspiciatis Truck', 'category': 'truck', 'weight': 395, 'durability': 130, 'axle_length': 8, 'hanger_length': 5, 'material': 'steel', 'cost': 2214}, {'sku': 'NW-NJCRQB', 'name': 'Repellendus Bearing', 'category': 'bearing', 'weight': 290, 'durability': 244, 'inner_diameter': 8, 'outer_diameter': 22, 'thickness': 7, 'abec': 5, 'material': 'ceramic', 'cost': 153}, {'sku': 'OR-GEVRWQ', 'name': 'Perspiciatis Wheel', 'category': 'wheel', 'weight': 344, 'durability': 88, 'bearing_diameter': 22, 'bearing_width': 7, 'diameter': 49, 'hardness': 96, 'material': 'rubber', 'cost': 1328}, {'sku': 'HU-ZNPXTJ', 'name': 'Molestias Axle_Lock_Nut', 'category': 'axle_lock_nut', 'weight': 221, 'durability': 242, 'material': 'steel', 'cost': 21}, {'sku': 'YW-UOJWUF', 'name': 'Placeat Bolt', 'category': 'bolt', 'weight': 419, 'durability': 190, 'head': 'phillips', 'color': 'gold', 'length': 5.08, 'thread': '10x32', 'material': 'steel', 'cost': 19}, {'sku': 'JZ-ANUNFX', 'name': 'Earum Nut', 'category': 'nut', 'weight': 263, 'durability': 144, 'color': 'black', 'thread': '10x32', 'material': 'steel', 'cost': 26}, {'sku': 'WP-HOIKSW', 'name': 'Autem Skateboard', 'category': 'skateboard'}, {'sku': 'TO-RLAAIG', 'name': 'Minus Deck', 'category': 'deck', 'weight': 480, 'durability': 191, 'width': 8, 'lenth': 27, 'material': 'plastic', 'cost': 5093}, {'sku': 'KV-OGUAOD', 'name': 'Cum Grip_Tape', 'category': 'grip_tape', 'weight': 387, 'durability': 114, 'length': 32, 'width': 6.5, 'material': 'paper', 'cost': 541}, {'sku': 'SU-UYVSNC', 'name': 'Voluptate Truck', 'category': 'truck', 'weight': 141, 'durability': 140, 'axle_length': 7.75, 'hanger_length': 5.5, 'material': 'steel', 'cost': 1046}, {'sku': 'ZA-XETODE', 'name': 'Facere Bearing', 'category': 'bearing', 'weight': 301, 'durability': 214, 'inner_diameter': 8, 'outer_diameter': 22, 'thickness': 7, 'abec': 9, 'material': 'ceramic', 'cost': 608}, {'sku': 'RU-BFNJUS', 'name': 'In Wheel', 'category': 'wheel', 'weight': 356, 'durability': 177, 'bearing_diameter': 22, 'bearing_width': 7, 'diameter': 55, 'hardness': 96, 'material': 'plastic', 'cost': 457}, {'sku': 'BW-YXECIC', 'name': 'Nostrum Axle_Lock_Nut', 'category': 'axle_lock_nut', 'weight': 374, 'durability': 187, 'material': 'steel', 'cost': 14}, {'sku': 'ID-VISJTN', 'name': 'Magni Bolt', 'category': 'bolt', 'weight': 417, 'durability': 190, 'head': 'hex', 'color': 'gold', 'length': 2.54, 'thread': '10x32', 'material': 'steel', 'cost': 19}, {'sku': 'MB-HTDZQF', 'name': 'Et Nut', 'category': 'nut', 'weight': 136, 'durability': 66, 'color': 'black', 'thread': '10x32', 'material': 'steel', 'cost': 18}, {'sku': 'RQ-MLKLDQ', 'name': 'Quam Skateboard', 'category': 'skateboard'}, {'sku': 'IQ-LWRZVO', 'name': 'Corrupti Deck', 'category': 'deck', 'weight': 304, 'durability': 207, 'width': 7, 'lenth': 27, 'material': 'plastic', 'cost': 6825}, {'sku': 'SY-LTZGCL', 'name': 'Neque Grip_Tape', 'category': 'grip_tape', 'weight': 220, 'durability': 150, 'length': 27, 'width': 8, 'material': 'paper', 'cost': 512}, {'sku': 'SZ-FTRVCP', 'name': 'Molestias Truck', 'category': 'truck', 'weight': 302, 'durability': 93, 'axle_length': 7.75, 'hanger_length': 5, 'material': 'steel', 'cost': 2864}, {'sku': 'US-VHCBIY', 'name': 'Modi Bearing', 'category': 'bearing', 'weight': 143, 'durability': 136, 'inner_diameter': 8, 'outer_diameter': 22, 'thickness': 7, 'abec': 5, 'material': 'steel', 'cost': 347}, {'sku': 'ON-WWUMYA', 'name': 'Suscipit Wheel', 'category': 'wheel', 'weight': 235, 'durability': 203, 'bearing_diameter': 22, 'bearing_width': 7, 'diameter': 65, 'hardness': 101, 'material': 'rubber', 'cost': 383}, {'sku': 'VR-BBVDMQ', 'name': 'Cumque Axle_Lock_Nut', 'category': 'axle_lock_nut', 'weight': 101, 'durability': 238, 'material': 'steel', 'cost': 29}, {'sku': 'ZH-EIQAFS', 'name': 'Corporis Bolt', 'category': 'bolt', 'weight': 244, 'durability': 132, 'head': 'hex', 'color': 'black', 'length': 5.08, 'thread': '10x32', 'material': 'steel', 'cost': 26}, {'sku': 'AD-UZLHEE', 'name': 'Quis Nut', 'category': 'nut', 'weight': 191, 'durability': 79, 'color': 'gold', 'thread': '10x32', 'material': 'steel', 'cost': 22}, {'sku': 'HN-GTJTME', 'name': 'Sit Skateboard', 'category': 'skateboard'}, {'sku': 'UH-NIZYLW', 'name': 'Veritatis Deck', 'category': 'deck', 'weight': 427, 'durability': 154, 'width': 7, 'lenth': 27, 'material': 'plastic', 'cost': 5273}, {'sku': 'GG-FTBXRY', 'name': 'Quas Grip_Tape', 'category': 'grip_tape', 'weight': 145, 'durability': 216, 'length': 27, 'width': 6, 'material': 'plastic', 'cost': 574}, {'sku': 'YQ-BMSVPQ', 'name': 'Sit Truck', 'category': 'truck', 'weight': 314, 'durability': 109, 'axle_length': 8, 'hanger_length': 5.5, 'material': 'steel', 'cost': 1936}, {'sku': 'SJ-BHJIUA', 'name': 'Ad Bearing', 'category': 'bearing', 'weight': 225, 'durability': 194, 'inner_diameter': 8, 'outer_diameter': 22, 'thickness': 7, 'abec': 3, 'material': 'steel', 'cost': 199}, {'sku': 'VP-AHNSVK', 'name': 'Eaque Wheel', 'category': 'wheel', 'weight': 113, 'durability': 218, 'bearing_diameter': 22, 'bearing_width': 7, 'diameter': 49, 'hardness': 88, 'material': 'rubber', 'cost': 918}, {'sku': 'EM-DRFCCG', 'name': 'Molestiae Axle_Lock_Nut', 'category': 'axle_lock_nut', 'weight': 375, 'durability': 178, 'material': 'steel', 'cost': 16}, {'sku': 'PB-BSMWYI', 'name': 'Quam Bolt', 'category': 'bolt', 'weight': 260, 'durability': 111, 'head': 'hex', 'color': 'black', 'length': 2.54, 'thread': '10x32', 'material': 'steel', 'cost': 19}, {'sku': 'HD-CSKPWB', 'name': 'Error Nut', 'category': 'nut', 'weight': 458, 'durability': 143, 'color': 'black', 'thread': '10x32', 'material': 'steel', 'cost': 18}, {'sku': 'DR-KEIOCJ', 'name': 'Omnis Skateboard', 'category': 'skateboard'}, {'sku': 'RD-IKMVJD', 'name': 'Delectus Deck', 'category': 'deck', 'weight': 487, 'durability': 169, 'width': 6, 'lenth': 32, 'material': 'plastic', 'cost': 4196}, {'sku': 'MG-DTLZMT', 'name': 'Repellendus Grip_Tape', 'category': 'grip_tape', 'weight': 110, 'durability': 62, 'length': 29, 'width': 8, 'material': 'paper', 'cost': 505}, {'sku': 'CP-UBSRWX', 'name': 'A Truck', 'category': 'truck', 'weight': 275, 'durability': 183, 'axle_length': 7.75, 'hanger_length': 5, 'material': 'steel', 'cost': 1347}, {'sku': 'GC-QFEGOI', 'name': 'A Bearing', 'category': 'bearing', 'weight': 196, 'durability': 180, 'inner_diameter': 8, 'outer_diameter': 22, 'thickness': 7, 'abec': 1, 'material': 'ceramic', 'cost': 715}, {'sku': 'GR-VPDPNH', 'name': 'Fugit Wheel', 'category': 'wheel', 'weight': 142, 'durability': 96, 'bearing_diameter': 22, 'bearing_width': 7, 'diameter': 60, 'hardness': 96, 'material': 'plastic', 'cost': 1967}, {'sku': 'YH-ZYDDDO', 'name': 'Similique Axle_Lock_Nut', 'category': 'axle_lock_nut', 'weight': 217, 'durability': 83, 'material': 'steel', 'cost': 12}, {'sku': 'IV-FCDLNI', 'name': 'Placeat Bolt', 'category': 'bolt', 'weight': 324, 'durability': 50, 'head': 'phillips', 'color': 'gold', 'length': 2.54, 'thread': '10x32', 'material': 'steel', 'cost': 24}, {'sku': 'ON-OMQLUH', 'name': 'Reprehenderit Nut', 'category': 'nut', 'weight': 499, 'durability': 138, 'color': 'black', 'thread': '10x32', 'material': 'steel', 'cost': 14}]\n"
          ]
        }
      ]
    },
    {
      "cell_type": "code",
      "source": [
        "# write json\n",
        "\n",
        "import json\n",
        "\n",
        "parts_lib = {\n",
        "  \"parts\": parts,\n",
        "  \"parent_relationships\": relationships\n",
        "}\n",
        "\n",
        "# # Serializing json\n",
        "json_object = json.dumps(parts_lib, indent=4)\n",
        " \n",
        "# # Writing to sample.json\n",
        "with open(\"parts.json\", \"w\") as outfile:\n",
        "    outfile.write(json_object)"
      ],
      "metadata": {
        "id": "Md4n0CI036cN"
      },
      "execution_count": 132,
      "outputs": []
    },
    {
      "cell_type": "code",
      "source": [
        "# Connect to DB\n",
        "from neo4j import GraphDatabase\n",
        "\n",
        "# URI examples: \"neo4j://localhost\", \"neo4j+s://xxx.databases.neo4j.io\"\n",
        "URI = \"neo4j+s://89698250.databases.neo4j.io\"\n",
        "AUTH = (\"neo4j\", \"nN4v9Y33RjQtEPzqgNAUUbKQj6Os9Hbs_AuGSY7s1DQ\")\n",
        "\n",
        "# Paid\n",
        "# URI = \"neo4j+s://41b163c7.databases.neo4j.io\"\n",
        "# AUTH = (\"neo4j\", \"pZ649euAZ4k7Ep3pLyug7CRk5GkzFrYN2fbfsHT6_Ns\")\n",
        "\n",
        "\n",
        "with GraphDatabase.driver(uri=URI, auth=AUTH) as driver:\n",
        "    driver.verify_connectivity()"
      ],
      "metadata": {
        "id": "vfYY_LNLF7CL"
      },
      "execution_count": 182,
      "outputs": []
    },
    {
      "cell_type": "code",
      "source": [
        "# Clear the DB - Be careful!!!\n",
        "\n",
        "records, summary, keys = driver.execute_query(\n",
        "    \"MATCH (n) DETACH DELETE (n);\",\n",
        "    database_=\"neo4j\",\n",
        ")"
      ],
      "metadata": {
        "id": "GsoIbi07Jhpw"
      },
      "execution_count": 134,
      "outputs": []
    },
    {
      "cell_type": "code",
      "source": [
        "# Insert the items\n",
        "\n",
        "cypher_query = \"\"\"\n",
        "WITH $json as data\n",
        "UNWIND data AS p \n",
        "MERGE (part:Part {sku:p.sku}) SET\n",
        "\tpart.name = p.name, \n",
        "\tpart.category = p.category, \n",
        "\tpart.weight = p.weight, \n",
        "\tpart.material = p.material, \n",
        "\tpart.durability = p.durability,\n",
        "\tpart.width = p.width, \n",
        "\tpart.length = p.length, \n",
        "\tpart.cost = p.cost, \n",
        "\tpart.inner_diameter = p.inner_diameter, \n",
        "\tpart.outer_diameter = p.outer_diameter, \n",
        "\tpart.thickness = p.thickness, \n",
        "\tpart.abec = p.abec, \n",
        "\tpart.bearing_diameter = p.bearing_diameter, \n",
        "\tpart.bearing_width = p.bearing_width, \n",
        "\tpart.diameter = p.diameter, \n",
        "\tpart.hardness = p.hardness, \n",
        "\tpart.color = p.color, \n",
        "\tpart.thread = p.thread,\n",
        "\tpart.axle_length = p.axle_length,\n",
        "\tpart.hanger_length = p.hanger_length\n",
        "\"\"\"\n",
        "\n",
        "with driver.session() as session:\n",
        "    result = session.run(cypher_query, json = parts)\n",
        "\n",
        "print(\"Done\")\n",
        "\n",
        "\n"
      ],
      "metadata": {
        "colab": {
          "base_uri": "https://localhost:8080/"
        },
        "id": "ecFmefnnJNpA",
        "outputId": "c107c0bc-ba9f-4e23-81ee-af92217dba26"
      },
      "execution_count": 135,
      "outputs": [
        {
          "output_type": "stream",
          "name": "stdout",
          "text": [
            "Done\n"
          ]
        }
      ]
    },
    {
      "cell_type": "code",
      "source": [
        "# Insert the relationships\n",
        "\n",
        "cypher_query = \"\"\"\n",
        "WITH $json as data\n",
        "UNWIND data AS p \n",
        "MERGE (part:Part {sku:p.sku})\n",
        "\n",
        "FOREACH (parent IN p.rel | \n",
        "\tMERGE (p2:Part {sku: parent}) \n",
        " \tMERGE (p2)-[:EXPLICIT]->(part))\n",
        "\n",
        "\"\"\"\n",
        "\n",
        "with driver.session() as session:\n",
        "    result = session.run(cypher_query, json = relationships)\n",
        "\n",
        "print(\"Done\")\n"
      ],
      "metadata": {
        "colab": {
          "base_uri": "https://localhost:8080/"
        },
        "id": "QFEFfwDcJSll",
        "outputId": "4df85725-5386-454a-a302-fc2517c51270"
      },
      "execution_count": 136,
      "outputs": [
        {
          "output_type": "stream",
          "name": "stdout",
          "text": [
            "Done\n"
          ]
        }
      ]
    },
    {
      "cell_type": "code",
      "source": [
        "# Query DB for parts and relationships\n",
        "\n",
        "with driver.session(database=\"neo4j\") as session:\n",
        "  graph = session.run(\"MATCH (p:Part)-[r:EXPLICIT]->(a) RETURN p,r,a;\").graph()\n",
        "\n",
        "# graph\n"
      ],
      "metadata": {
        "id": "9tgVEZ_WMd1K"
      },
      "execution_count": 187,
      "outputs": []
    },
    {
      "cell_type": "code",
      "source": [
        "# custom graph functions\n",
        "\n",
        "def custom_node_color_mapping(index: int, node: dict):\n",
        "    # print(node)\n",
        "    if node[\"properties\"][\"label\"] == \"Part\":\n",
        "        if node[\"properties\"][\"category\"] == \"skateboard\":\n",
        "            return \"red\"\n",
        "        elif node[\"properties\"][\"category\"] == \"deck\":\n",
        "            return \"orange\"\n",
        "        elif node[\"properties\"][\"category\"] == \"grip_tape\":\n",
        "            return \"blue\"\n",
        "        elif node[\"properties\"][\"category\"] == \"truck\":\n",
        "            return \"purple\"\n",
        "        elif node[\"properties\"][\"category\"] == \"bearing\":\n",
        "            return \"green\"\n",
        "        elif node[\"properties\"][\"category\"] == \"wheel\":\n",
        "            return \"yellow\"\n",
        "        elif node[\"properties\"][\"category\"] == \"axle_lock_nut\":\n",
        "            return \"pink\"\n",
        "        elif node[\"properties\"][\"category\"] == \"bolt\":\n",
        "            return \"grey\"\n",
        "        elif node[\"properties\"][\"category\"] == \"nut\":\n",
        "            return \"cyan\"\n",
        "        else:\n",
        "            return \"black\"\n",
        "    elif node[\"properties\"][\"label\"] == \"Possible:Product\":\n",
        "        return \"red\"\n",
        "    else:\n",
        "        return \"orange\"\n",
        "    \n",
        "def custom_node_label_mapping(index: int, node: dict):\n",
        "    # print(node)\n",
        "    if node[\"properties\"][\"label\"] == \"Part\":\n",
        "        return node[\"properties\"][\"sku\"] + \" - \" + node[\"properties\"][\"name\"]\n",
        "\n",
        "def custom_edge_label_mapping(index: int, node: dict):\n",
        "    # print(node)\n",
        "    if node[\"properties\"][\"label\"] == \"EXPLICIT\":\n",
        "        return \"blue\"\n",
        "    elif node[\"properties\"][\"label\"] == \"POSSIBLE_COMPATIBILITY\":\n",
        "        return \"red\"\n",
        "    elif node[\"properties\"][\"label\"] == \"IS_ASSEMBLED_FROM\":\n",
        "        return \"green\"\n",
        "    else:\n",
        "        return \"black\"\n"
      ],
      "metadata": {
        "id": "yazxpODrMjd2"
      },
      "execution_count": 184,
      "outputs": []
    },
    {
      "cell_type": "code",
      "source": [
        "# Render the graph...\n",
        "from google.colab import output\n",
        "output.enable_custom_widget_manager()\n",
        "\n",
        "w = GraphWidget(graph=graph)\n",
        "w.directed = False\n",
        "w.set_graph_layout(\"hierarchic\")\n",
        "# w.set_neighborhood(1,[graph.nodes.get(0).id])\n",
        "w.set_sidebar(enabled = False, start_with = \"Neighbourhood\")\n",
        "w.set_overview(False)\n",
        "\n",
        "w.set_node_color_mapping(custom_node_color_mapping)\n",
        "w.set_edge_color_mapping(custom_edge_label_mapping)\n",
        "w.set_node_label_mapping(custom_node_label_mapping)\n",
        "# w.set_node_scale_factor_mapping(lambda index,node: node[\"properties\"][\"cost\"] / 1000)\n",
        "\n",
        "\n",
        "w.show()"
      ],
      "metadata": {
        "colab": {
          "base_uri": "https://localhost:8080/",
          "height": 517,
          "referenced_widgets": [
            "aaf6622e33624f5d870b3bd852641a5c",
            "76bcfb40733e4ae0bfca146f1e8a3cc8"
          ]
        },
        "id": "EAvGT5W5NXyj",
        "outputId": "332f7829-162d-4201-e527-8c15da4c873f"
      },
      "execution_count": 188,
      "outputs": [
        {
          "output_type": "display_data",
          "data": {
            "text/plain": [
              "GraphWidget(layout=Layout(height='500px', width='100%'))"
            ],
            "application/vnd.jupyter.widget-view+json": {
              "version_major": 2,
              "version_minor": 0,
              "model_id": "aaf6622e33624f5d870b3bd852641a5c"
            }
          },
          "metadata": {
            "application/vnd.jupyter.widget-view+json": {
              "colab": {
                "custom_widget_manager": {
                  "url": "https://ssl.gstatic.com/colaboratory-static/widgets/colab-cdn-widget-manager/b3e629b1971e1542/manager.min.js"
                }
              }
            }
          }
        }
      ]
    },
    {
      "cell_type": "markdown",
      "source": [
        "### Define functions to determine possible relationship(s)\n",
        "\n",
        "eg: wheel_x_bearing - depends on bearing size"
      ],
      "metadata": {
        "id": "E1UDNwEcO2wr"
      }
    },
    {
      "cell_type": "code",
      "source": [
        "# Possible Compatibility Functions\n",
        "\n",
        "def deck_x_skateboard() -> str:\n",
        "  # All decks can make a skateboard\n",
        "  return \"\"\"\n",
        "    MATCH (p1:Part {category:'deck'})\n",
        "    MATCH (p2:Part {category:'skateboard'})\n",
        "    WHERE elementId(p1) <> elementId(p2)\n",
        "    CREATE (p1)-[r:POSSIBLE_COMPATIBILITY]->(p2)\n",
        "    SET r.cost = p1.cost, r.weight = p1.weight\n",
        "    \"\"\"\n",
        "\n",
        "def grip_tape_x_deck() -> str:\n",
        "  return \"\"\"\n",
        "    MATCH (p1:Part {category:'grip_tape'})\n",
        "    MATCH (p2:Part {category:'deck'})\n",
        "    WHERE p1.width <= p2.width \n",
        "      // AND p1.length <= p2.length \n",
        "      AND elementId(p1) <> elementId(p2)\n",
        "    CREATE (p1)-[r:POSSIBLE_COMPATIBILITY]->(p2)\n",
        "    SET r.cost = p1.cost\n",
        "    SET r.weight = p1.weight\n",
        "    \"\"\"\n",
        "\n",
        "def truck_x_deck() -> str:\n",
        "  # Assume hanger length <= deck width\n",
        "  return \"\"\"\n",
        "    MATCH (p1:Part {category:'truck'})\n",
        "    MATCH (p2:Part {category:'deck'})\n",
        "    WHERE p1.hanger_length <= p2.width \n",
        "      AND elementId(p1) <> elementId(p2)\n",
        "    CREATE (p1)-[r:POSSIBLE_COMPATIBILITY]->(p2)\n",
        "    SET r.cost = p1.cost, r.weight = p1.weight\n",
        "    \"\"\"\n",
        "\n",
        "def axle_lock_nut_x_truck() -> str:\n",
        "  # Assume all axle_lock_nut fits all trucks\n",
        "  return \"\"\"\n",
        "    MATCH (p1:Part {category:'axle_lock_nut'})\n",
        "    MATCH (p2:Part {category:'truck'})\n",
        "    WHERE elementId(p1) <> elementId(p2)\n",
        "    CREATE (p1)-[r:POSSIBLE_COMPATIBILITY]->(p2)\n",
        "    SET r.cost = p1.cost\n",
        "    SET r.weight = p1.weight\n",
        "    \"\"\"\n",
        "\n",
        "def wheel_x_truck() -> str:\n",
        "  # Assume all wheels fits all trucks\n",
        "  return \"\"\"\n",
        "    MATCH (p1:Part {category:'wheel'})\n",
        "    MATCH (p2:Part {category:'truck'})\n",
        "    WHERE elementId(p1) <> elementId(p2)\n",
        "    CREATE (p1)-[r:POSSIBLE_COMPATIBILITY]->(p2)\n",
        "    SET r.cost = p1.cost\n",
        "    SET r.weight = p1.weight\n",
        "    \"\"\"\n",
        "\n",
        "def bolt_x_truck() -> str:\n",
        "  # Assume all bolts fits all trucks\n",
        "  return \"\"\"\n",
        "    MATCH (p1:Part {category:'bolt'})\n",
        "    MATCH (p2:Part {category:'truck'})\n",
        "    WHERE elementId(p1) <> elementId(p2)\n",
        "    CREATE (p1)-[r:POSSIBLE_COMPATIBILITY]->(p2)\n",
        "    SET r.cost = p1.cost\n",
        "    SET r.weight = p1.weight\n",
        "    \"\"\"\n",
        "\n",
        "def bearing_x_wheel() -> str:\n",
        "  # bearing needs to fit inside wheel\n",
        "  return \"\"\"\n",
        "    MATCH (p1:Part {category:'bearing'})\n",
        "    MATCH (p2:Part {category:'wheel'})\n",
        "    WHERE p1.outer_diameter = p2.bearing_diameter \n",
        "      AND p1.thickness = p2.bearing_width \n",
        "      AND elementId(p1) <> elementId(p2)\n",
        "    CREATE (p1)-[r:POSSIBLE_COMPATIBILITY]->(p2)\n",
        "    SET r.cost = p1.cost\n",
        "    SET r.weight = p1.weight\n",
        "    \"\"\"\n",
        "\n",
        "def nut_x_bolt() -> str:\n",
        "  # nut needs to fit on bolt, have the same material and color\n",
        "  return \"\"\"\n",
        "    MATCH (p1:Part {category:'nut'})\n",
        "    MATCH (p2:Part {category:'bolt'})\n",
        "    WHERE p1.thread = p2.thread \n",
        "      AND p1.material = p2.material \n",
        "      AND p1.color = p2.color \n",
        "      AND elementId(p1) <> elementId(p2)\n",
        "    CREATE (p1)-[r:POSSIBLE_COMPATIBILITY]->(p2)\n",
        "    SET r.cost = p1.cost\n",
        "    SET r.weight = p1.weight\n",
        "    \"\"\"\n"
      ],
      "metadata": {
        "id": "QThiZsNSPERX"
      },
      "execution_count": 140,
      "outputs": []
    },
    {
      "cell_type": "code",
      "source": [
        "# Find possible relationships\n",
        "\n",
        "with driver.session() as session:\n",
        "    results = session.run(deck_x_skateboard())\n",
        "    results = session.run(grip_tape_x_deck())\n",
        "    results = session.run(truck_x_deck())\n",
        "    results = session.run(axle_lock_nut_x_truck())\n",
        "    results = session.run(bearing_x_wheel())\n",
        "    results = session.run(wheel_x_truck())\n",
        "    results = session.run(bolt_x_truck())\n",
        "    results = session.run(nut_x_bolt())\n",
        "    \n",
        "\n",
        "print(\"Done\")"
      ],
      "metadata": {
        "colab": {
          "base_uri": "https://localhost:8080/"
        },
        "id": "PMhUHkasQC6R",
        "outputId": "8f8a4d03-de19-4fdb-cdb1-c2f4032184b9"
      },
      "execution_count": 141,
      "outputs": [
        {
          "output_type": "stream",
          "name": "stdout",
          "text": [
            "Done\n"
          ]
        }
      ]
    },
    {
      "cell_type": "code",
      "source": [
        "# Show model with all relationships\n",
        "\n",
        "with driver.session(database=\"neo4j\") as session:\n",
        "  graph = session.run(\"MATCH (p:Part)-[r:EXPLICIT|POSSIBLE_COMPATIBILITY]->(a) RETURN p,r,a;\").graph()\n",
        "\n",
        "# graph\n"
      ],
      "metadata": {
        "id": "dxZ3YVjbd_H_"
      },
      "execution_count": 142,
      "outputs": []
    },
    {
      "cell_type": "code",
      "source": [
        "# Render the graph...\n",
        "from google.colab import output\n",
        "output.enable_custom_widget_manager()\n",
        "\n",
        "w = GraphWidget(graph=graph)\n",
        "w.directed = False\n",
        "w.set_graph_layout(\"radial\")\n",
        "# w.set_neighborhood(1,[graph.nodes.get(0).id])\n",
        "w.set_sidebar(enabled = False, start_with = \"Neighbourhood\")\n",
        "w.set_overview(False)\n",
        "\n",
        "w.set_node_color_mapping(custom_node_color_mapping)\n",
        "w.set_edge_color_mapping(custom_edge_label_mapping)\n",
        "w.set_node_label_mapping(custom_node_label_mapping)\n",
        "\n",
        "w.show()"
      ],
      "metadata": {
        "colab": {
          "base_uri": "https://localhost:8080/",
          "height": 517,
          "referenced_widgets": [
            "e9214faaf7734f3b8d25068288c007bc",
            "fe1b20ae106f407c924dd7d3b4ef657c"
          ]
        },
        "id": "6uaIcTa6eKa_",
        "outputId": "e57b2a62-2105-49f7-d334-1eaa44762f49"
      },
      "execution_count": 143,
      "outputs": [
        {
          "output_type": "display_data",
          "data": {
            "text/plain": [
              "GraphWidget(layout=Layout(height='500px', width='100%'))"
            ],
            "application/vnd.jupyter.widget-view+json": {
              "version_major": 2,
              "version_minor": 0,
              "model_id": "e9214faaf7734f3b8d25068288c007bc"
            }
          },
          "metadata": {
            "application/vnd.jupyter.widget-view+json": {
              "colab": {
                "custom_widget_manager": {
                  "url": "https://ssl.gstatic.com/colaboratory-static/widgets/colab-cdn-widget-manager/b3e629b1971e1542/manager.min.js"
                }
              }
            }
          }
        }
      ]
    },
    {
      "cell_type": "code",
      "source": [
        "# minimum spanning tree"
      ],
      "metadata": {
        "id": "yZiTcp6Pl9pW"
      },
      "execution_count": 144,
      "outputs": []
    },
    {
      "cell_type": "markdown",
      "source": [
        "# possible assemblies\n",
        "\n",
        "Assemblies are a combination of compatible parts\n",
        "\n",
        "combine all parts, of a specific category, that is compatible, into a new `thing`. Let's call it `Possible:Assembly`\n",
        "\n",
        "assemblies are: `deck` (deck + grip), `truck` (truck + lock nut) + `wheel` (wheel + bearing) \n",
        "\n",
        "\n",
        "# possible product\n",
        "\n",
        "Product is a combination of possible assemblies\n",
        "\n",
        "Combine all `Possible:Assemblies` of a specific category, into a new things called `Possible:Product`"
      ],
      "metadata": {
        "id": "QaAWaU8iDsD4"
      }
    },
    {
      "cell_type": "code",
      "source": [
        "# possible assemblies\n",
        "\n",
        "# make deck assembly\n",
        "query = \"\"\"\n",
        "  MATCH (p1:Part {category:\"deck\"})-[r:POSSIBLE_COMPATIBILITY]-(p2:Part {category:\"grip_tape\"}) \n",
        "  WHERE elementId(p1) <> elementId(p2)\n",
        "\n",
        "  MERGE (a:Possible:Assembly {sku:p1.sku + \"-\" + p2.sku})\n",
        "    SET a.category = \"deck\"\n",
        "    SET a.cost = p1.cost + p2.cost\n",
        "    SET a.weight = p1.weight + p2.weight\n",
        "\n",
        "  MERGE (a)-[:IS_ASSEMBLED_FROM]->(p1)\n",
        "  MERGE (a)-[:IS_ASSEMBLED_FROM]->(p2);  \n",
        "\"\"\"\n",
        "\n",
        "with driver.session() as session:\n",
        "    results = session.run(query)\n",
        "\n",
        "print(\"Deck Assembly Done\")\n",
        "\n",
        "\n",
        "# make truck assembly\n",
        "query = \"\"\"\n",
        "  MATCH (p1:Part {category:\"truck\"})-[r:POSSIBLE_COMPATIBILITY]-(p2:Part {category:\"axle_lock_nut\"}) \n",
        "  WHERE elementId(p1) <> elementId(p2)\n",
        "\n",
        "  MERGE (a:Possible:Assembly {sku:p1.sku + \"-\" + p2.sku})\n",
        "    SET a.category = \"truck\"\n",
        "    SET a.cost = p1.cost + p2.cost\n",
        "    SET a.weight = p1.weight + p2.weight\n",
        "\n",
        "  MERGE (a)-[:IS_ASSEMBLED_FROM]->(p1)\n",
        "  MERGE (a)-[:IS_ASSEMBLED_FROM]->(p2);  \n",
        "\"\"\"\n",
        "\n",
        "with driver.session() as session:\n",
        "    results = session.run(query)\n",
        "    \n",
        "print(\"Truck Assembly Done\")\n",
        "\n",
        "\n",
        "# make wheel assembly\n",
        "query = \"\"\"\n",
        "  MATCH (p1:Part {category:\"wheel\"})-[r:POSSIBLE_COMPATIBILITY]-(p2:Part {category:\"bearing\"}) \n",
        "  WHERE elementId(p1) <> elementId(p2)\n",
        "\n",
        "  MERGE (a:Possible:Assembly {sku:p1.sku + \"-\" + p2.sku})\n",
        "    SET a.category = \"wheel\"\n",
        "    SET a.cost = p1.cost + p2.cost\n",
        "    SET a.weight = p1.weight + p2.weight\n",
        "\n",
        "  MERGE (a)-[:IS_ASSEMBLED_FROM]->(p1)\n",
        "  MERGE (a)-[:IS_ASSEMBLED_FROM]->(p2);  \n",
        "\"\"\"\n",
        "\n",
        "with driver.session() as session:\n",
        "    results = session.run(query)\n",
        "\n",
        "print(\"Wheel Assembly Done\")\n",
        "\n",
        "\n",
        "# possible product\n",
        "\n",
        "query = \"\"\"\n",
        "  MATCH (a1:Possible:Assembly {category:\"deck\"})\n",
        "  MATCH (a2:Possible:Assembly {category:\"truck\"})\n",
        "  MATCH (a3:Possible:Assembly {category:\"wheel\"})\n",
        "  WHERE elementId(a1) <> elementId(a2) AND elementId(a2) <> elementId(a3)\n",
        "\n",
        "  MERGE (a:Possible:Product {sku:a1.sku + \"-\" + a2.sku + \"-\" + a3.sku})\n",
        "    SET a.category = \"skateboard\"\n",
        "    SET a.cost = a1.cost + a2.cost + a3.cost\n",
        "    SET a.weight = a1.weight + a2.weight + a3.weight\n",
        "\n",
        "  MERGE (a)-[:IS_ASSEMBLED_FROM]->(a1)\n",
        "  MERGE (a)-[:IS_ASSEMBLED_FROM]->(a2)\n",
        "  MERGE (a)-[:IS_ASSEMBLED_FROM]->(a3);  \n",
        "\"\"\"\n",
        "\n",
        "with driver.session() as session:\n",
        "    results = session.run(query)\n",
        "\n",
        "print(\"Products Done\")\n"
      ],
      "metadata": {
        "id": "E0sgs94NDlUq",
        "colab": {
          "base_uri": "https://localhost:8080/"
        },
        "outputId": "54ad9504-98a4-4428-d915-353230e87e5a"
      },
      "execution_count": 145,
      "outputs": [
        {
          "output_type": "stream",
          "name": "stdout",
          "text": [
            "Deck Assembly Done\n",
            "Truck Assembly Done\n",
            "Wheel Assembly Done\n",
            "Products Done\n"
          ]
        }
      ]
    },
    {
      "cell_type": "code",
      "source": [
        "# Show top 10 cheapest skateboards\n",
        "\n",
        "query = \"\"\"\n",
        "MATCH (n:Product)\n",
        "WITH n\n",
        "ORDER BY n.cost ASC\n",
        "LIMIT 20\n",
        "MATCH p=(n)-[:IS_ASSEMBLED_FROM*]->()\n",
        "RETURN p\n",
        "\"\"\"\n",
        "with driver.session(database=\"neo4j\") as session:\n",
        "  graph = session.run(query).graph()\n",
        "\n",
        "# graph\n",
        "\n",
        "# Render the graph...\n",
        "from google.colab import output\n",
        "output.enable_custom_widget_manager()\n",
        "\n",
        "w = GraphWidget(graph=graph)\n",
        "w.directed = False\n",
        "w.set_graph_layout(\"radial\")\n",
        "# w.set_neighborhood(1,[graph.nodes.get(0).id])\n",
        "w.set_sidebar(enabled = False, start_with = \"Neighbourhood\")\n",
        "w.set_overview(False)\n",
        "\n",
        "w.set_node_color_mapping(custom_node_color_mapping)\n",
        "w.set_edge_color_mapping(custom_edge_label_mapping)\n",
        "w.set_node_label_mapping(custom_node_label_mapping)\n",
        "\n",
        "w.show()\n",
        "\n"
      ],
      "metadata": {
        "colab": {
          "base_uri": "https://localhost:8080/",
          "height": 517,
          "referenced_widgets": [
            "81dfc2b984744499a7b6a1c1e8616d91",
            "0cb059870e974e9996623be0bc9d7912"
          ]
        },
        "id": "GNq43S-UD5Bh",
        "outputId": "34c8e643-5de3-4d77-99b9-a3dd5fc0d30e"
      },
      "execution_count": 146,
      "outputs": [
        {
          "output_type": "display_data",
          "data": {
            "text/plain": [
              "GraphWidget(layout=Layout(height='500px', width='100%'))"
            ],
            "application/vnd.jupyter.widget-view+json": {
              "version_major": 2,
              "version_minor": 0,
              "model_id": "81dfc2b984744499a7b6a1c1e8616d91"
            }
          },
          "metadata": {
            "application/vnd.jupyter.widget-view+json": {
              "colab": {
                "custom_widget_manager": {
                  "url": "https://ssl.gstatic.com/colaboratory-static/widgets/colab-cdn-widget-manager/b3e629b1971e1542/manager.min.js"
                }
              }
            }
          }
        }
      ]
    },
    {
      "cell_type": "code",
      "source": [
        "# Show top 50 cheapest skateboards\n",
        "import pandas as pd\n",
        "import matplotlib.pyplot as plt\n",
        "\n",
        "# Define a function to format the cell as currency\n",
        "def format_currency(value):\n",
        "    value = value / 100\n",
        "    return '${:,.2f}'.format(value)\n",
        "\n",
        "def format_float(value):\n",
        "    value = value / 100\n",
        "    return '{:,.2f}'.format(value)\n",
        "\n",
        "query = \"\"\"\n",
        "MATCH (n:Product)\n",
        "return n.sku, n.cost, n.weight\n",
        "ORDER BY n.cost ASC\n",
        "LIMIT 50\n",
        "\"\"\"\n",
        "\n",
        "with driver.session() as session:\n",
        "    result = session.run(query)\n",
        "    df = pd.DataFrame(result.data(), columns=result.keys())\n",
        "    \n",
        "# df[\"cost\"] = f\"${df['n.cost']/100:,.2f}\"\n",
        "# df = df.applymap(format_currency)\n",
        "df['n.cost'] = df['n.cost'].map(format_float)\n",
        "# df['n.cost'] = df['n.cost'].map(float)\n",
        "# df['n.cost'] = df['n.cost'] / 100.0\n",
        "\n",
        "\n",
        "# Print the DataFrame as a table\n",
        "print(df)\n"
      ],
      "metadata": {
        "colab": {
          "base_uri": "https://localhost:8080/"
        },
        "id": "KnwjtLwLpAER",
        "outputId": "134aeb06-924f-40b6-9a47-7d57b15aaf02"
      },
      "execution_count": 175,
      "outputs": [
        {
          "output_type": "stream",
          "name": "stdout",
          "text": [
            "                                                n.sku n.cost  n.weight\n",
            "0   RD-IKMVJD-GG-FTBXRY-SU-UYVSNC-YH-ZYDDDO-ON-WWU...  63.64      1515\n",
            "1   RD-IKMVJD-GG-FTBXRY-SU-UYVSNC-BW-YXECIC-ON-WWU...  63.66      1672\n",
            "2   RD-IKMVJD-GG-FTBXRY-SU-UYVSNC-EM-DRFCCG-ON-WWU...  63.68      1673\n",
            "3   RD-IKMVJD-GG-FTBXRY-SU-UYVSNC-HU-ZNPXTJ-ON-WWU...  63.73      1519\n",
            "4   RD-IKMVJD-GG-FTBXRY-SU-UYVSNC-VR-BBVDMQ-ON-WWU...  63.81      1399\n",
            "5   RD-IKMVJD-GG-FTBXRY-SU-UYVSNC-YH-ZYDDDO-ON-WWU...  64.10      1450\n",
            "6   RD-IKMVJD-GG-FTBXRY-SU-UYVSNC-BW-YXECIC-ON-WWU...  64.12      1607\n",
            "7   RD-IKMVJD-GG-FTBXRY-SU-UYVSNC-EM-DRFCCG-ON-WWU...  64.14      1608\n",
            "8   RD-IKMVJD-GG-FTBXRY-SU-UYVSNC-HU-ZNPXTJ-ON-WWU...  64.19      1454\n",
            "9   RD-IKMVJD-GG-FTBXRY-SU-UYVSNC-VR-BBVDMQ-ON-WWU...  64.27      1334\n",
            "10  RD-IKMVJD-GG-FTBXRY-SU-UYVSNC-YH-ZYDDDO-RU-BFN...  64.38      1636\n",
            "11  RD-IKMVJD-GG-FTBXRY-SU-UYVSNC-BW-YXECIC-RU-BFN...  64.40      1793\n",
            "12  RD-IKMVJD-GG-FTBXRY-SU-UYVSNC-EM-DRFCCG-RU-BFN...  64.42      1794\n",
            "13  RD-IKMVJD-GG-FTBXRY-SU-UYVSNC-HU-ZNPXTJ-RU-BFN...  64.47      1640\n",
            "14  RD-IKMVJD-GG-FTBXRY-SU-UYVSNC-VR-BBVDMQ-RU-BFN...  64.55      1520\n",
            "15  RD-IKMVJD-GG-FTBXRY-SU-UYVSNC-YH-ZYDDDO-RU-BFN...  64.84      1571\n",
            "16  RD-IKMVJD-GG-FTBXRY-SU-UYVSNC-BW-YXECIC-RU-BFN...  64.86      1728\n",
            "17  RD-IKMVJD-GG-FTBXRY-SU-UYVSNC-EM-DRFCCG-RU-BFN...  64.88      1729\n",
            "18  RD-IKMVJD-GG-FTBXRY-SU-UYVSNC-HU-ZNPXTJ-RU-BFN...  64.93      1575\n",
            "19  RD-IKMVJD-GG-FTBXRY-SU-UYVSNC-VR-BBVDMQ-RU-BFN...  65.01      1455\n",
            "20  RD-IKMVJD-GG-FTBXRY-SU-UYVSNC-YH-ZYDDDO-ON-WWU...  65.58      1368\n",
            "21  RD-IKMVJD-GG-FTBXRY-SU-UYVSNC-BW-YXECIC-ON-WWU...  65.60      1525\n",
            "22  RD-IKMVJD-GG-FTBXRY-SU-UYVSNC-EM-DRFCCG-ON-WWU...  65.62      1526\n",
            "23  RD-IKMVJD-GG-FTBXRY-SU-UYVSNC-HU-ZNPXTJ-ON-WWU...  65.67      1372\n",
            "24  RD-IKMVJD-GG-FTBXRY-SU-UYVSNC-VR-BBVDMQ-ON-WWU...  65.75      1252\n",
            "25  RD-IKMVJD-GG-FTBXRY-SU-UYVSNC-YH-ZYDDDO-RU-BFN...  66.32      1489\n",
            "26  RD-IKMVJD-GG-FTBXRY-SU-UYVSNC-BW-YXECIC-RU-BFN...  66.34      1646\n",
            "27  RD-IKMVJD-GG-FTBXRY-SU-UYVSNC-EM-DRFCCG-RU-BFN...  66.36      1647\n",
            "28  RD-IKMVJD-GG-FTBXRY-SU-UYVSNC-HU-ZNPXTJ-RU-BFN...  66.41      1493\n",
            "29  RD-IKMVJD-GG-FTBXRY-SU-UYVSNC-VR-BBVDMQ-RU-BFN...  66.49      1373\n",
            "30  RD-IKMVJD-GG-FTBXRY-CP-UBSRWX-YH-ZYDDDO-ON-WWU...  66.65      1649\n",
            "31  RD-IKMVJD-GG-FTBXRY-CP-UBSRWX-BW-YXECIC-ON-WWU...  66.67      1806\n",
            "32  RD-IKMVJD-GG-FTBXRY-CP-UBSRWX-EM-DRFCCG-ON-WWU...  66.69      1807\n",
            "33  RD-IKMVJD-GG-FTBXRY-CP-UBSRWX-HU-ZNPXTJ-ON-WWU...  66.74      1653\n",
            "34  RD-IKMVJD-GG-FTBXRY-CP-UBSRWX-VR-BBVDMQ-ON-WWU...  66.82      1533\n",
            "35  RD-IKMVJD-GG-FTBXRY-CP-UBSRWX-YH-ZYDDDO-ON-WWU...  67.11      1584\n",
            "36  RD-IKMVJD-GG-FTBXRY-CP-UBSRWX-BW-YXECIC-ON-WWU...  67.13      1741\n",
            "37  RD-IKMVJD-GG-FTBXRY-CP-UBSRWX-EM-DRFCCG-ON-WWU...  67.15      1742\n",
            "38  RD-IKMVJD-GG-FTBXRY-CP-UBSRWX-HU-ZNPXTJ-ON-WWU...  67.20      1588\n",
            "39  RD-IKMVJD-GG-FTBXRY-CP-UBSRWX-VR-BBVDMQ-ON-WWU...  67.28      1468\n",
            "40  RD-IKMVJD-GG-FTBXRY-CP-UBSRWX-YH-ZYDDDO-RU-BFN...  67.39      1770\n",
            "41  RD-IKMVJD-GG-FTBXRY-CP-UBSRWX-BW-YXECIC-RU-BFN...  67.41      1927\n",
            "42  RD-IKMVJD-GG-FTBXRY-CP-UBSRWX-EM-DRFCCG-RU-BFN...  67.43      1928\n",
            "43  RD-IKMVJD-GG-FTBXRY-CP-UBSRWX-HU-ZNPXTJ-RU-BFN...  67.48      1774\n",
            "44  RD-IKMVJD-GG-FTBXRY-CP-UBSRWX-VR-BBVDMQ-RU-BFN...  67.56      1654\n",
            "45  RD-IKMVJD-GG-FTBXRY-CP-UBSRWX-YH-ZYDDDO-RU-BFN...  67.85      1705\n",
            "46  RD-IKMVJD-GG-FTBXRY-CP-UBSRWX-BW-YXECIC-RU-BFN...  67.87      1862\n",
            "47  RD-IKMVJD-GG-FTBXRY-CP-UBSRWX-EM-DRFCCG-RU-BFN...  67.89      1863\n",
            "48  RD-IKMVJD-GG-FTBXRY-CP-UBSRWX-HU-ZNPXTJ-RU-BFN...  67.94      1709\n",
            "49  RD-IKMVJD-GG-FTBXRY-CP-UBSRWX-VR-BBVDMQ-RU-BFN...  68.02      1589\n"
          ]
        }
      ]
    },
    {
      "cell_type": "code",
      "source": [
        "# Plot the scatter plot\n",
        "plt.scatter(df['n.cost'], df['n.weight'])\n",
        "\n",
        "# Set labels and title\n",
        "plt.xlabel('Cost ($0.00)')\n",
        "plt.ylabel('Weight (g)')\n",
        "plt.title('New Products by Cost and Weight')\n",
        "\n",
        "# Display the scatter plot\n",
        "plt.show()"
      ],
      "metadata": {
        "colab": {
          "base_uri": "https://localhost:8080/",
          "height": 472
        },
        "id": "_UXg8j_Ftvqs",
        "outputId": "5c5bbc78-99c4-43ec-817d-70ac64a9f8c0"
      },
      "execution_count": 176,
      "outputs": [
        {
          "output_type": "display_data",
          "data": {
            "text/plain": [
              "<Figure size 640x480 with 1 Axes>"
            ],
            "image/png": "[encoded data removed]"
          },
          "metadata": {}
        }
      ]
    },
    {
      "cell_type": "code",
      "source": [],
      "metadata": {
        "id": "tU7eaIU2swFG"
      },
      "execution_count": null,
      "outputs": []
    }
  ]
}