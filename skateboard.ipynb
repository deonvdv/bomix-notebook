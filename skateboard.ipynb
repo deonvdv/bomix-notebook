{
 "cells": [
  {
   "attachments": {},
   "cell_type": "markdown",
   "metadata": {},
   "source": [
    "# Skateboard\n",
    "\n",
    "Show parts, create functions to establish \"can work together\" relationship\n",
    "\n",
    " - create random parts\n",
    " - add attributes to parts:\n",
    "\t- weight\n",
    "\t- cost\n",
    "\t- material\n",
    "\t- durability (km)\n",
    " - add attributes that are specific to category:\n",
    "\t- eg: diameter of bearing in wheel, diameter of wheel\n",
    "\n",
    "\n",
    "### Parts\n",
    "\n",
    " - Deck\n",
    " - Grip Tape\n",
    " - Truck Assembly (x2)\n",
    " - Bearing (x8)\n",
    " - Wheel (x4)\n",
    " - Axle Lock Nut (x4)\n",
    " - Bolts (x8)\n",
    " - Nuts (x8)"
   ]
  },
  {
   "cell_type": "code",
   "execution_count": 5,
   "metadata": {},
   "outputs": [
    {
     "name": "stdout",
     "output_type": "stream",
     "text": [
      "Requirement already satisfied: random-word in /opt/homebrew/lib/python3.11/site-packages (1.0.11)\n",
      "Requirement already satisfied: requests in /opt/homebrew/lib/python3.11/site-packages (from random-word) (2.30.0)\n",
      "Requirement already satisfied: pytest in /opt/homebrew/lib/python3.11/site-packages (from random-word) (7.3.1)\n",
      "Requirement already satisfied: pyyaml in /opt/homebrew/lib/python3.11/site-packages (from random-word) (6.0)\n",
      "Requirement already satisfied: iniconfig in /opt/homebrew/lib/python3.11/site-packages (from pytest->random-word) (2.0.0)\n",
      "Requirement already satisfied: packaging in /opt/homebrew/lib/python3.11/site-packages (from pytest->random-word) (23.1)\n",
      "Requirement already satisfied: pluggy<2.0,>=0.12 in /opt/homebrew/lib/python3.11/site-packages (from pytest->random-word) (1.0.0)\n",
      "Requirement already satisfied: charset-normalizer<4,>=2 in /opt/homebrew/lib/python3.11/site-packages (from requests->random-word) (3.1.0)\n",
      "Requirement already satisfied: idna<4,>=2.5 in /opt/homebrew/lib/python3.11/site-packages (from requests->random-word) (3.4)\n",
      "Requirement already satisfied: urllib3<3,>=1.21.1 in /opt/homebrew/lib/python3.11/site-packages (from requests->random-word) (2.0.2)\n",
      "Requirement already satisfied: certifi>=2017.4.17 in /opt/homebrew/lib/python3.11/site-packages (from requests->random-word) (2023.5.7)\n",
      "capriola\n"
     ]
    }
   ],
   "source": [
    "!pip install random-word\n"
   ]
  },
  {
   "cell_type": "code",
   "execution_count": 11,
   "metadata": {},
   "outputs": [
    {
     "name": "stdout",
     "output_type": "stream",
     "text": [
      "Random string of length 2 is: ND\n",
      "Random string of length 6 is: PJOOGJ\n",
      "ND-PJOOGJ\n",
      "Scrives Deck\n"
     ]
    }
   ],
   "source": [
    "# functions\n",
    "from random_word import RandomWords\n",
    "import random\n",
    "import string\n",
    "\n",
    "r = RandomWords()\n",
    "\n",
    "# print(r.get_random_word())\n",
    "\n",
    "def get_random_string(length):\n",
    "    # choose from all lowercase letter\n",
    "    letters = string.ascii_uppercase\n",
    "    result_str = ''.join(random.choice(letters) for i in range(length))\n",
    "    print(\"Random string of length\", length, \"is:\", result_str)\n",
    "    return result_str\n",
    "    \n",
    "def make_sku():\n",
    "    return get_random_string(2)+'-'+get_random_string(6)\n",
    "\n",
    "def make_item_name(category):\n",
    "    return (r.get_random_word()+' '+category).title()\n",
    "\n",
    "print(make_sku())\n",
    "print(make_item_name('deck'))"
   ]
  },
  {
   "cell_type": "code",
   "execution_count": null,
   "metadata": {},
   "outputs": [],
   "source": [
    "types = [\n",
    "    \"deck\",\n",
    "    \"grip tape\",\n",
    "    \"truck\",\n",
    "    \"bearing\",\n",
    "    \"wheel\",\n",
    "    \"axle lock nut\",\n",
    "    \"bolt\",\n",
    "    \"nut\"\n",
    "]\n",
    "\n",
    "parts = []\n",
    "\n",
    "for t in types:\n",
    "    parts.append({\n",
    "        \"sku\": make_sku()\n",
    "\t})\n",
    "    \n",
    "\n",
    "\n",
    "\t\n",
    "parts = [\n",
    "    {\n",
    "        \"sku\": \"aaa\",\n",
    "\t\t\"name\": \"cdl Deck\",\n",
    "        \"type\": \"deck\",\n",
    "        \"material\": \"plastic\",\n",
    "        \"weight\": 100,\n",
    "        \"durability\": 100,\n",
    "        \"cost\": 340\n",
    "\t},\n",
    "    {\n",
    "        \"sku\": \"zzz\",\n",
    "\t\t\"name\": \"bla wheel\",\n",
    "        \"type\": \"wheel\",\n",
    "        \"material\": \"plastic\",\n",
    "        \"weight\": 100,\n",
    "        \"durability\": 100,\n",
    "        \"cost\": 340\n",
    "\t}\n",
    "]"
   ]
  }
 ],
 "metadata": {
  "kernelspec": {
   "display_name": "Python 3",
   "language": "python",
   "name": "python3"
  },
  "language_info": {
   "codemirror_mode": {
    "name": "ipython",
    "version": 3
   },
   "file_extension": ".py",
   "mimetype": "text/x-python",
   "name": "python",
   "nbconvert_exporter": "python",
   "pygments_lexer": "ipython3",
   "version": "3.11.3"
  },
  "orig_nbformat": 4
 },
 "nbformat": 4,
 "nbformat_minor": 2
}
